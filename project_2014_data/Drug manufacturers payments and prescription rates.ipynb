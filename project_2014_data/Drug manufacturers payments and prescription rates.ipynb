{
 "cells": [
  {
   "cell_type": "markdown",
   "metadata": {},
   "source": [
    "# How do drug manufacturer's payments affect prescription rates?"
   ]
  },
  {
   "cell_type": "markdown",
   "metadata": {},
   "source": [
    "Description of the problem here:"
   ]
  },
  {
   "cell_type": "code",
   "execution_count": null,
   "metadata": {
    "collapsed": true
   },
   "outputs": [],
   "source": []
  },
  {
   "cell_type": "code",
   "execution_count": null,
   "metadata": {
    "collapsed": true
   },
   "outputs": [],
   "source": []
  },
  {
   "cell_type": "markdown",
   "metadata": {},
   "source": [
    "# Loading the data"
   ]
  },
  {
   "cell_type": "code",
   "execution_count": 1,
   "metadata": {
    "collapsed": false
   },
   "outputs": [],
   "source": [
    "#imports\n",
    "import pandas as pd\n",
    "import pickle"
   ]
  },
  {
   "cell_type": "markdown",
   "metadata": {},
   "source": [
    "##  Loading Payments Data"
   ]
  },
  {
   "cell_type": "code",
   "execution_count": 2,
   "metadata": {
    "collapsed": true
   },
   "outputs": [],
   "source": [
    "payments_types = {'Applicable_Manufacturer_or_Applicable_GPO_Making_Payment_ID': 'str',\n",
    " 'Charity_Indicator': 'str',\n",
    " 'City_of_Travel': 'str',\n",
    " 'Contextual_Information': 'str',\n",
    " 'Country_of_Travel': 'str',\n",
    " 'NDC_of_Associated_Covered_Drug_or_Biological1': 'str',\n",
    " 'NDC_of_Associated_Covered_Drug_or_Biological2': 'str',\n",
    " 'NDC_of_Associated_Covered_Drug_or_Biological3': 'str',\n",
    " 'NDC_of_Associated_Covered_Drug_or_Biological4': 'str',\n",
    " 'NDC_of_Associated_Covered_Drug_or_Biological5': 'str',\n",
    " 'Name_of_Associated_Covered_Device_or_Medical_Supply1': 'str',\n",
    " 'Name_of_Associated_Covered_Device_or_Medical_Supply2': 'str',\n",
    " 'Name_of_Associated_Covered_Device_or_Medical_Supply3': 'str',\n",
    " 'Name_of_Associated_Covered_Device_or_Medical_Supply4': 'str',\n",
    " 'Name_of_Associated_Covered_Device_or_Medical_Supply5': 'str',\n",
    " 'Name_of_Associated_Covered_Drug_or_Biological1': 'str',\n",
    " 'Name_of_Associated_Covered_Drug_or_Biological2': 'str',\n",
    " 'Name_of_Associated_Covered_Drug_or_Biological3': 'str',\n",
    " 'Name_of_Associated_Covered_Drug_or_Biological4': 'str',\n",
    " 'Name_of_Associated_Covered_Drug_or_Biological5': 'str',\n",
    " 'Name_of_Third_Party_Entity_Receiving_Payment_or_Transfer_of_Value': 'str',\n",
    " 'Physician_License_State_code2': 'str',\n",
    " 'Physician_License_State_code3': 'str',\n",
    " 'Physician_License_State_code4': 'str',\n",
    " 'Physician_License_State_code5': 'str',\n",
    " 'Physician_First_Name': 'str',\n",
    " 'Physician_Last_Name': 'str',\n",
    " 'Physician_Middle_Name': 'str',\n",
    " 'Physician_Name_Suffix': 'str',\n",
    " 'Physician_Profile_ID': 'str',\n",
    " 'Recipient_Postal_Code': 'str',\n",
    " 'Recipient_Primary_Business_Street_Address_Line2': 'str',\n",
    " 'Recipient_Province': 'str',\n",
    " 'Recipient_Zip_Code': 'str',\n",
    " 'Record_ID': 'str',\n",
    " 'State_of_Travel': 'str',\n",
    " 'Teaching_Hospital_ID': 'str',\n",
    " 'Teaching_Hospital_Name': 'str',\n",
    " 'Third_Party_Equals_Covered_Recipient_Indicator': 'str'}"
   ]
  },
  {
   "cell_type": "code",
   "execution_count": 3,
   "metadata": {
    "collapsed": false
   },
   "outputs": [
    {
     "name": "stderr",
     "output_type": "stream",
     "text": [
      "/Users/zakscholl/anaconda3/envs/py27/lib/python2.7/site-packages/IPython/core/interactiveshell.py:2717: DtypeWarning: Columns (7) have mixed types. Specify dtype option on import or set low_memory=False.\n",
      "  interactivity=interactivity, compiler=compiler, result=result)\n"
     ]
    }
   ],
   "source": [
    "payments = pd.read_csv(r'data_unzipped/payments_14/OP_DTL_GNRL_PGYR2014_P06302016.csv', dtype=payments_types)"
   ]
  },
  {
   "cell_type": "markdown",
   "metadata": {},
   "source": [
    "## Data Wrangling"
   ]
  },
  {
   "cell_type": "markdown",
   "metadata": {},
   "source": [
    "In order to tie the payments data to prescribers, I had to look up the National Provider Identifier (NPI) for each physician in the payments dataset. Every prescriber in the Medicaid Part D prescriptions dataset has an NPI associated with them, but because of the law written by congress, the NPI is not to be released with the payments data. \n",
    "\n",
    "I used the National Plan and Provider Enumeration System's (NPPES) NPI [registry](https://npiregistry.cms.hhs.gov/) to lookup each physician's NPI. The code I used to do this is listed below, but it is not included in the live notebook because of memory constraints. The NPPES full dataset is over 5.7GB.\n",
    "\n",
    "\n",
    "\n",
    "```python\n",
    "physician_info = payments[['Physician_Profile_ID', 'Physician_First_Name', 'Physician_Middle_Name',\n",
    "       'Physician_Last_Name', 'Recipient_Primary_Business_Street_Address_Line1', 'Recipient_City',\n",
    "       'Recipient_State']]\n",
    "       \n",
    "nppes = pd.read_csv(r'data_unzipped/NPPES/npidata_20050523-20170108.csv', \n",
    "                    usecols=['NPI', 'Provider Last Name (Legal Name)','Provider First Name', \n",
    "                             'Provider Middle Name', \n",
    "                             'Provider First Line Business Mailing Address',\n",
    "                             'Provider Business Mailing Address City Name', \n",
    "                             'Provider Business Mailing Address State Name'], \n",
    "                    dtype={'Provider Business Mailing Address Postal Code': 'str'})\n",
    "                    \n",
    "# change the column names to match for merging\n",
    "nppes.columns = ['NPI', 'last_name', 'first_name', 'middle_name', 'address', 'city', 'state']\n",
    "physician_info.columns = ['Physician_Profile_ID', 'first_name', 'middle_name', 'last_name', 'address', \n",
    "                          'city', 'state']\n",
    "                          \n",
    "def safe_upper(x):\n",
    "    \"\"\"\n",
    "    Transforms an object to an uppercase string or returns the object\n",
    "    in the case it is not a string.\n",
    "    \"\"\"\n",
    "    try:\n",
    "        return x.upper()\n",
    "    except AttributeError:\n",
    "        return x\n",
    "\n",
    "# make all the fields into uppercase\n",
    "physician_info['first_name'] = physician_info['first_name'].apply(lambda x: safe_upper(x))\n",
    "physician_info['last_name'] = physician_info['last_name'].apply(lambda x: safe_upper(x))\n",
    "physician_info['middle_name'] = physician_info['middle_name'].apply(lambda x: safe_upper(x))\n",
    "physician_info['address'] = physician_info['address'].apply(lambda x: safe_upper(x))\n",
    "physician_info['city'] = physician_info['city'].apply(lambda x: safe_upper(x))\n",
    "\n",
    "\n",
    "# drop any duplicate entries in the physicians info\n",
    "physician_info = physician_info.drop_duplicates()\n",
    "\n",
    "physician_npi = physician_info.merge(nppes, on=['last_name', 'first_name', \n",
    "                                                'middle_name', 'address', \n",
    "                                                'city', 'state'], how='inner')\n",
    "# Drop any duplicates from the resulting merge\n",
    "physician_npi = physician_npi[~physician_npi.duplicated(subset=['last_name', 'first_name', \n",
    "                                                                'middle_name','address', \n",
    "                                                                'city', 'state'] ,keep=False)]\n",
    "                                                                \n",
    "physician_id_to_npi = physician_npi[['Physician_Profile_ID', 'NPI']]\n",
    "\n",
    "```\n",
    "\n",
    "With this lookup we can find an NPI for 44% of the Physicians in the payments dataset. This isn't ideal, but it should give us a good cross-section on the prescription dataset."
   ]
  },
  {
   "cell_type": "markdown",
   "metadata": {},
   "source": [
    "I have this mapping saved as a pickled object, so for the live notebook all I have to do is load it using pickle."
   ]
  },
  {
   "cell_type": "code",
   "execution_count": 4,
   "metadata": {
    "collapsed": true
   },
   "outputs": [],
   "source": [
    "file_in = open(r'physician_id_to_npi.pkl', 'rb')\n",
    "\n",
    "physician_id_to_npi = pickle.load(file_in)\n",
    "\n",
    "file_in.close()"
   ]
  },
  {
   "cell_type": "markdown",
   "metadata": {},
   "source": [
    "\n",
    "\n"
   ]
  },
  {
   "cell_type": "markdown",
   "metadata": {},
   "source": [
    "\n",
    "\n"
   ]
  },
  {
   "cell_type": "markdown",
   "metadata": {},
   "source": [
    "## Load Prescription Data"
   ]
  },
  {
   "cell_type": "code",
   "execution_count": 5,
   "metadata": {
    "collapsed": true
   },
   "outputs": [],
   "source": [
    "prescriptions = pd.read_csv(r'data_unzipped/PartD_14/PartD_Prescriber_PUF_NPI_Drug_14.txt', sep='\\t')"
   ]
  },
  {
   "cell_type": "markdown",
   "metadata": {},
   "source": [
    "## Load Drug Manufacturer Data"
   ]
  },
  {
   "cell_type": "code",
   "execution_count": 6,
   "metadata": {
    "collapsed": true
   },
   "outputs": [],
   "source": [
    "drug_manufacturers = pd.read_csv(r'drug_manufacturers_cleaned.csv')"
   ]
  },
  {
   "cell_type": "code",
   "execution_count": 7,
   "metadata": {
    "collapsed": false
   },
   "outputs": [
    {
     "data": {
      "text/html": [
       "<div>\n",
       "<table border=\"1\" class=\"dataframe\">\n",
       "  <thead>\n",
       "    <tr style=\"text-align: right;\">\n",
       "      <th></th>\n",
       "      <th>brand_name</th>\n",
       "      <th>generic_name</th>\n",
       "      <th>manufacturer_name</th>\n",
       "      <th>cleaned</th>\n",
       "    </tr>\n",
       "  </thead>\n",
       "  <tbody>\n",
       "    <tr>\n",
       "      <th>0</th>\n",
       "      <td>VARICOGO</td>\n",
       "      <td>AESCULUS HIPPOCASTANUM, ARNICA MONTANA, CALCAR...</td>\n",
       "      <td>Native Remedies, LLC</td>\n",
       "      <td>native remedies llc</td>\n",
       "    </tr>\n",
       "  </tbody>\n",
       "</table>\n",
       "</div>"
      ],
      "text/plain": [
       "  brand_name                                       generic_name  \\\n",
       "0   VARICOGO  AESCULUS HIPPOCASTANUM, ARNICA MONTANA, CALCAR...   \n",
       "\n",
       "      manufacturer_name              cleaned  \n",
       "0  Native Remedies, LLC  native remedies llc  "
      ]
     },
     "execution_count": 7,
     "metadata": {},
     "output_type": "execute_result"
    }
   ],
   "source": [
    "drug_manufacturers.head(1)"
   ]
  },
  {
   "cell_type": "markdown",
   "metadata": {},
   "source": [
    "\n"
   ]
  },
  {
   "cell_type": "markdown",
   "metadata": {},
   "source": [
    "### Drug manufacturers coverage"
   ]
  },
  {
   "cell_type": "markdown",
   "metadata": {},
   "source": [
    "We need to be able to map each drug manufacturer in the payments dataset to the drugs that they manufacture. In order to do that I have used the Food and Drug Administration's [drug labels dataset.](https://open.fda.gov/drug/label/) I downloaded the entire json dataset and extracted the drug brand name, generic name, and manufacturer from every label and saved it to the csv file I loaded in above.\n",
    "\n",
    "By naively matching the drug manufacturers in the payments dataset on the manufacturer name we can cover 37% of the payments. If we force lowercase and remove any punctuation from the manufacturers in the payments dataset and the manufacturers in the drug labels dataset, then we can more than double our coverage to 77%.\n"
   ]
  },
  {
   "cell_type": "code",
   "execution_count": 16,
   "metadata": {
    "collapsed": false
   },
   "outputs": [
    {
     "data": {
      "text/plain": [
       "0.3782588782806642"
      ]
     },
     "execution_count": 16,
     "metadata": {},
     "output_type": "execute_result"
    }
   ],
   "source": [
    "len(payments[\n",
    "        payments.Applicable_Manufacturer_or_Applicable_GPO_Making_Payment_Name.isin(\n",
    "            drug_manufacturers.manufacturer_name)]) / float(len(payments))"
   ]
  },
  {
   "cell_type": "code",
   "execution_count": 9,
   "metadata": {
    "collapsed": false
   },
   "outputs": [
    {
     "data": {
      "text/plain": [
       "0.7700761754060829"
      ]
     },
     "execution_count": 9,
     "metadata": {},
     "output_type": "execute_result"
    }
   ],
   "source": [
    "import string\n",
    "len(payments[\n",
    "        payments.Applicable_Manufacturer_or_Applicable_GPO_Making_Payment_Name.str.lower().str.translate(None, string.punctuation).isin(\n",
    "            drug_manufacturers.cleaned)]) / float(len(payments))"
   ]
  },
  {
   "cell_type": "markdown",
   "metadata": {},
   "source": [
    "\n"
   ]
  },
  {
   "cell_type": "markdown",
   "metadata": {},
   "source": [
    "### Prescriptions with NPI coverage"
   ]
  },
  {
   "cell_type": "markdown",
   "metadata": {},
   "source": [
    "It's also important that we get a significant cross-section of providers from the prescriptions dataset and the payments dataset.\n",
    "\n",
    "To measure that we will see how many NPIs in the prescriptions dataset we came up with in the NPI to physician ID mapping table.\n",
    "\n",
    "For 36% of the prescription records we have information on that provider's payments from drug manufacturers. I don't know what percentage of all physicians receive payments from drug manufacturers so I can't quantify what proportion of physicians we aren't able to tie their prescriptions to their payments, but 36% of all prescription records from 2014 is a good sample size."
   ]
  },
  {
   "cell_type": "code",
   "execution_count": 10,
   "metadata": {
    "collapsed": false
   },
   "outputs": [
    {
     "data": {
      "text/plain": [
       "0.36248128704580396"
      ]
     },
     "execution_count": 10,
     "metadata": {},
     "output_type": "execute_result"
    }
   ],
   "source": [
    "len(prescriptions[prescriptions.NPI.isin(physician_id_to_npi.NPI)]) / float(len(prescriptions))"
   ]
  },
  {
   "cell_type": "markdown",
   "metadata": {},
   "source": [
    "\n",
    "\n"
   ]
  },
  {
   "cell_type": "markdown",
   "metadata": {},
   "source": [
    "\n"
   ]
  },
  {
   "cell_type": "markdown",
   "metadata": {},
   "source": [
    "# Predicting prescription rates"
   ]
  },
  {
   "cell_type": "markdown",
   "metadata": {},
   "source": [
    "Here's a dilemma: can I compare those who do not have payment records with those who do? Because I can't confidently say that if I don't have an NPI to physician ID mapping then that provider didn't recieve any payments from any drug manufacturers, I don't think I can compare these two groups.\n",
    "\n",
    "So what I may have to do instead is use the group of providers who I can tie to drug manufacturer payments and compare between those who recieved little or no payment from a given manufacturer and those who recieved more payment. I can be more confident that the difference between these groups is more significant.\n",
    "\n",
    "I also can include the provider's specialty and location from the prescription dataset to offset any differences in patient populations that impact the prescription rates of drugs."
   ]
  },
  {
   "cell_type": "code",
   "execution_count": 18,
   "metadata": {
    "collapsed": false
   },
   "outputs": [
    {
     "data": {
      "text/html": [
       "<div>\n",
       "<table border=\"1\" class=\"dataframe\">\n",
       "  <thead>\n",
       "    <tr style=\"text-align: right;\">\n",
       "      <th></th>\n",
       "      <th>NPI</th>\n",
       "      <th>NPPES_PROVIDER_LAST_ORG_NAME</th>\n",
       "      <th>NPPES_PROVIDER_FIRST_NAME</th>\n",
       "      <th>NPPES_PROVIDER_CITY</th>\n",
       "      <th>NPPES_PROVIDER_STATE</th>\n",
       "      <th>SPECIALTY_DESCRIPTION</th>\n",
       "      <th>DESCRIPTION_FLAG</th>\n",
       "      <th>DRUG_NAME</th>\n",
       "      <th>GENERIC_NAME</th>\n",
       "      <th>BENE_COUNT</th>\n",
       "      <th>TOTAL_CLAIM_COUNT</th>\n",
       "      <th>TOTAL_DAY_SUPPLY</th>\n",
       "      <th>TOTAL_DRUG_COST</th>\n",
       "      <th>BENE_COUNT_GE65</th>\n",
       "      <th>BENE_COUNT_GE65_SUPPRESS_FLAG</th>\n",
       "      <th>TOTAL_CLAIM_COUNT_GE65</th>\n",
       "      <th>GE65_SUPPRESS_FLAG</th>\n",
       "      <th>TOTAL_DAY_SUPPLY_GE65</th>\n",
       "      <th>TOTAL_DRUG_COST_GE65</th>\n",
       "    </tr>\n",
       "  </thead>\n",
       "  <tbody>\n",
       "    <tr>\n",
       "      <th>73</th>\n",
       "      <td>1588763981</td>\n",
       "      <td>AABERG</td>\n",
       "      <td>RANDAL</td>\n",
       "      <td>HONOLULU</td>\n",
       "      <td>HI</td>\n",
       "      <td>Urology</td>\n",
       "      <td>S</td>\n",
       "      <td>ANDROGEL</td>\n",
       "      <td>TESTOSTERONE</td>\n",
       "      <td>NaN</td>\n",
       "      <td>17</td>\n",
       "      <td>720</td>\n",
       "      <td>10412.06</td>\n",
       "      <td>NaN</td>\n",
       "      <td>*</td>\n",
       "      <td>17.0</td>\n",
       "      <td>NaN</td>\n",
       "      <td>720.0</td>\n",
       "      <td>10412.06</td>\n",
       "    </tr>\n",
       "    <tr>\n",
       "      <th>74</th>\n",
       "      <td>1588763981</td>\n",
       "      <td>AABERG</td>\n",
       "      <td>RANDAL</td>\n",
       "      <td>HONOLULU</td>\n",
       "      <td>HI</td>\n",
       "      <td>Urology</td>\n",
       "      <td>S</td>\n",
       "      <td>BICALUTAMIDE</td>\n",
       "      <td>BICALUTAMIDE</td>\n",
       "      <td>26.0</td>\n",
       "      <td>80</td>\n",
       "      <td>6000</td>\n",
       "      <td>3538.82</td>\n",
       "      <td>NaN</td>\n",
       "      <td>#</td>\n",
       "      <td>NaN</td>\n",
       "      <td>#</td>\n",
       "      <td>NaN</td>\n",
       "      <td>NaN</td>\n",
       "    </tr>\n",
       "    <tr>\n",
       "      <th>75</th>\n",
       "      <td>1588763981</td>\n",
       "      <td>AABERG</td>\n",
       "      <td>RANDAL</td>\n",
       "      <td>HONOLULU</td>\n",
       "      <td>HI</td>\n",
       "      <td>Urology</td>\n",
       "      <td>S</td>\n",
       "      <td>CEPHALEXIN</td>\n",
       "      <td>CEPHALEXIN</td>\n",
       "      <td>24.0</td>\n",
       "      <td>24</td>\n",
       "      <td>160</td>\n",
       "      <td>262.86</td>\n",
       "      <td>24.0</td>\n",
       "      <td>NaN</td>\n",
       "      <td>24.0</td>\n",
       "      <td>NaN</td>\n",
       "      <td>160.0</td>\n",
       "      <td>262.86</td>\n",
       "    </tr>\n",
       "    <tr>\n",
       "      <th>76</th>\n",
       "      <td>1588763981</td>\n",
       "      <td>AABERG</td>\n",
       "      <td>RANDAL</td>\n",
       "      <td>HONOLULU</td>\n",
       "      <td>HI</td>\n",
       "      <td>Urology</td>\n",
       "      <td>S</td>\n",
       "      <td>CIPROFLOXACIN HCL</td>\n",
       "      <td>CIPROFLOXACIN HCL</td>\n",
       "      <td>52.0</td>\n",
       "      <td>63</td>\n",
       "      <td>415</td>\n",
       "      <td>511.65</td>\n",
       "      <td>NaN</td>\n",
       "      <td>#</td>\n",
       "      <td>NaN</td>\n",
       "      <td>#</td>\n",
       "      <td>NaN</td>\n",
       "      <td>NaN</td>\n",
       "    </tr>\n",
       "    <tr>\n",
       "      <th>77</th>\n",
       "      <td>1588763981</td>\n",
       "      <td>AABERG</td>\n",
       "      <td>RANDAL</td>\n",
       "      <td>HONOLULU</td>\n",
       "      <td>HI</td>\n",
       "      <td>Urology</td>\n",
       "      <td>S</td>\n",
       "      <td>FINASTERIDE</td>\n",
       "      <td>FINASTERIDE</td>\n",
       "      <td>124.0</td>\n",
       "      <td>354</td>\n",
       "      <td>28140</td>\n",
       "      <td>31082.02</td>\n",
       "      <td>NaN</td>\n",
       "      <td>#</td>\n",
       "      <td>NaN</td>\n",
       "      <td>#</td>\n",
       "      <td>NaN</td>\n",
       "      <td>NaN</td>\n",
       "    </tr>\n",
       "  </tbody>\n",
       "</table>\n",
       "</div>"
      ],
      "text/plain": [
       "           NPI NPPES_PROVIDER_LAST_ORG_NAME NPPES_PROVIDER_FIRST_NAME  \\\n",
       "73  1588763981                       AABERG                    RANDAL   \n",
       "74  1588763981                       AABERG                    RANDAL   \n",
       "75  1588763981                       AABERG                    RANDAL   \n",
       "76  1588763981                       AABERG                    RANDAL   \n",
       "77  1588763981                       AABERG                    RANDAL   \n",
       "\n",
       "   NPPES_PROVIDER_CITY NPPES_PROVIDER_STATE SPECIALTY_DESCRIPTION  \\\n",
       "73            HONOLULU                   HI               Urology   \n",
       "74            HONOLULU                   HI               Urology   \n",
       "75            HONOLULU                   HI               Urology   \n",
       "76            HONOLULU                   HI               Urology   \n",
       "77            HONOLULU                   HI               Urology   \n",
       "\n",
       "   DESCRIPTION_FLAG          DRUG_NAME       GENERIC_NAME  BENE_COUNT  \\\n",
       "73                S           ANDROGEL       TESTOSTERONE         NaN   \n",
       "74                S       BICALUTAMIDE       BICALUTAMIDE        26.0   \n",
       "75                S         CEPHALEXIN         CEPHALEXIN        24.0   \n",
       "76                S  CIPROFLOXACIN HCL  CIPROFLOXACIN HCL        52.0   \n",
       "77                S        FINASTERIDE        FINASTERIDE       124.0   \n",
       "\n",
       "    TOTAL_CLAIM_COUNT  TOTAL_DAY_SUPPLY  TOTAL_DRUG_COST  BENE_COUNT_GE65  \\\n",
       "73                 17               720         10412.06              NaN   \n",
       "74                 80              6000          3538.82              NaN   \n",
       "75                 24               160           262.86             24.0   \n",
       "76                 63               415           511.65              NaN   \n",
       "77                354             28140         31082.02              NaN   \n",
       "\n",
       "   BENE_COUNT_GE65_SUPPRESS_FLAG  TOTAL_CLAIM_COUNT_GE65 GE65_SUPPRESS_FLAG  \\\n",
       "73                             *                    17.0                NaN   \n",
       "74                             #                     NaN                  #   \n",
       "75                           NaN                    24.0                NaN   \n",
       "76                             #                     NaN                  #   \n",
       "77                             #                     NaN                  #   \n",
       "\n",
       "    TOTAL_DAY_SUPPLY_GE65  TOTAL_DRUG_COST_GE65  \n",
       "73                  720.0              10412.06  \n",
       "74                    NaN                   NaN  \n",
       "75                  160.0                262.86  \n",
       "76                    NaN                   NaN  \n",
       "77                    NaN                   NaN  "
      ]
     },
     "execution_count": 18,
     "metadata": {},
     "output_type": "execute_result"
    }
   ],
   "source": [
    "prescriptions[prescriptions.NPI.isin(physician_id_to_npi.NPI)].head()"
   ]
  },
  {
   "cell_type": "markdown",
   "metadata": {},
   "source": [
    "### Form of data"
   ]
  },
  {
   "cell_type": "markdown",
   "metadata": {},
   "source": [
    "Thinking about what form I want this dataset in to make predictions or build a regression model of the total days supply and number of claims filed for each drug by each provider."
   ]
  },
  {
   "cell_type": "markdown",
   "metadata": {},
   "source": [
    "| Provider      | Drug                  | Number of Claims  | Total Day Supply     | Specialty (one-hot?) | Amount of payment   | Location (CityState) one-hot? |  \n",
    "| ------------- |---------------------- | ----------------- | -------------------- | -------------------- | ------------------- | ----------------------------- |\n",
    "|    124        |   Abilify             |        4          |     25               |  Urology             |     \\$200.45        |        New York               |\n",
    "|    123        |   Tylenol-Hydrocodone |        62         |     200              |  Family Medicine     |     NaN             |        San Diego              |"
   ]
  },
  {
   "cell_type": "markdown",
   "metadata": {},
   "source": [
    "In this scenario I want to build two models, one with Number of Claims as my output or Y variable and one with Total Day Supply as my output/Y variable. \n",
    "\n",
    "My hypotheses are that payments from drug manufacturers influence the total number of claims filed for that drug, and that they also influence the the total day supply of the claims that were filed. \n",
    "\n",
    "If there is something suspicious going on it would probably present itself in the total day supply. If a physician is prescribing an unusually high volume of supply for the number of claims when they are recieving payments from a manufacturer, that certainly looks suspicous to me. "
   ]
  },
  {
   "cell_type": "markdown",
   "metadata": {},
   "source": [
    "With the data in this form I can make scatter plots comparing the amount of payment to both the number of claims and total day supply. I can color code based on those that have payment records for those drugs and those that do not. This could reveal a possible difference."
   ]
  },
  {
   "cell_type": "code",
   "execution_count": null,
   "metadata": {
    "collapsed": true
   },
   "outputs": [],
   "source": []
  },
  {
   "cell_type": "code",
   "execution_count": null,
   "metadata": {
    "collapsed": true
   },
   "outputs": [],
   "source": []
  }
 ],
 "metadata": {
  "anaconda-cloud": {},
  "kernelspec": {
   "display_name": "Python [conda env:py27]",
   "language": "python",
   "name": "conda-env-py27-py"
  },
  "language_info": {
   "codemirror_mode": {
    "name": "ipython",
    "version": 2
   },
   "file_extension": ".py",
   "mimetype": "text/x-python",
   "name": "python",
   "nbconvert_exporter": "python",
   "pygments_lexer": "ipython2",
   "version": "2.7.12"
  }
 },
 "nbformat": 4,
 "nbformat_minor": 1
}
