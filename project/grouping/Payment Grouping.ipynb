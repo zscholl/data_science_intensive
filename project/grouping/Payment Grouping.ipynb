{
 "cells": [
  {
   "cell_type": "code",
   "execution_count": 1,
   "metadata": {
    "collapsed": true
   },
   "outputs": [],
   "source": [
    "import pandas as pd"
   ]
  },
  {
   "cell_type": "code",
   "execution_count": 2,
   "metadata": {
    "collapsed": false
   },
   "outputs": [
    {
     "name": "stdout",
     "output_type": "stream",
     "text": [
      "\u001b[31mDrug manufacturer cleaning.ipynb\u001b[m\u001b[m*\r\n",
      "\u001b[31mNPI_to_Profile_ID.csv\u001b[m\u001b[m*\r\n",
      "\u001b[31mNPI_to_Profile_ID_address.csv\u001b[m\u001b[m*\r\n",
      "Payment Grouping.ipynb\r\n",
      "\u001b[31mPayments with NPI.ipynb\u001b[m\u001b[m*\r\n",
      "\u001b[31mPhysician Profile ID to NPID Address.ipynb\u001b[m\u001b[m*\r\n",
      "\u001b[31mPhysician Profile ID to NPID.ipynb\u001b[m\u001b[m*\r\n",
      "Prescriptions cleaning.ipynb\r\n",
      "\u001b[31mpayment_npi_mapping.csv\u001b[m\u001b[m*\r\n",
      "\u001b[31mpayments_with_npi_13.csv\u001b[m\u001b[m*\r\n",
      "payments_with_npi_cleaned_13.csv\r\n",
      "\u001b[31mprescribers.csv\u001b[m\u001b[m*\r\n",
      "prescription_data_npi_13.csv\r\n"
     ]
    }
   ],
   "source": [
    "%ls"
   ]
  },
  {
   "cell_type": "code",
   "execution_count": 3,
   "metadata": {
    "collapsed": false
   },
   "outputs": [
    {
     "name": "stderr",
     "output_type": "stream",
     "text": [
      "/Users/zakscholl/anaconda3/lib/python3.5/site-packages/IPython/core/interactiveshell.py:2717: DtypeWarning: Columns (11,12,17,18,19) have mixed types. Specify dtype option on import or set low_memory=False.\n",
      "  interactivity=interactivity, compiler=compiler, result=result)\n"
     ]
    },
    {
     "data": {
      "text/html": [
       "<div>\n",
       "<table border=\"1\" class=\"dataframe\">\n",
       "  <thead>\n",
       "    <tr style=\"text-align: right;\">\n",
       "      <th></th>\n",
       "      <th>Physician_Profile_ID</th>\n",
       "      <th>Physician_First_Name</th>\n",
       "      <th>Physician_Middle_Name</th>\n",
       "      <th>Physician_Last_Name</th>\n",
       "      <th>Physician_Name_Suffix</th>\n",
       "      <th>Recipient_Primary_Business_Street_Address_Line1</th>\n",
       "      <th>Recipient_Primary_Business_Street_Address_Line2</th>\n",
       "      <th>Recipient_City</th>\n",
       "      <th>Recipient_State</th>\n",
       "      <th>Recipient_Zip_Code</th>\n",
       "      <th>...</th>\n",
       "      <th>Applicable_Manufacturer_or_Applicable_GPO_Making_Payment_Name</th>\n",
       "      <th>Applicable_Manufacturer_or_Applicable_GPO_Making_Payment_State</th>\n",
       "      <th>Applicable_Manufacturer_or_Applicable_GPO_Making_Payment_Country</th>\n",
       "      <th>Total_Amount_of_Payment_USDollars</th>\n",
       "      <th>Date_of_Payment</th>\n",
       "      <th>Number_of_Payments_Included_in_Total_Amount</th>\n",
       "      <th>Form_of_Payment_or_Transfer_of_Value</th>\n",
       "      <th>Nature_of_Payment_or_Transfer_of_Value</th>\n",
       "      <th>NPI</th>\n",
       "      <th>manufacturer_cleaned</th>\n",
       "    </tr>\n",
       "  </thead>\n",
       "  <tbody>\n",
       "    <tr>\n",
       "      <th>0</th>\n",
       "      <td>269814</td>\n",
       "      <td>CALVIN</td>\n",
       "      <td>J</td>\n",
       "      <td>KUBO</td>\n",
       "      <td>NaN</td>\n",
       "      <td>9500 STOCKDALE HWY</td>\n",
       "      <td>NaN</td>\n",
       "      <td>BAKERSFIELD</td>\n",
       "      <td>CA</td>\n",
       "      <td>93311</td>\n",
       "      <td>...</td>\n",
       "      <td>FOREST PHARMACEUTICALS, INC.</td>\n",
       "      <td>NJ</td>\n",
       "      <td>United States</td>\n",
       "      <td>17.14</td>\n",
       "      <td>11/07/2013</td>\n",
       "      <td>1</td>\n",
       "      <td>In-kind items and services</td>\n",
       "      <td>Food and Beverage</td>\n",
       "      <td>1942221049</td>\n",
       "      <td>forest pharmaceuticals inc</td>\n",
       "    </tr>\n",
       "    <tr>\n",
       "      <th>1</th>\n",
       "      <td>269814</td>\n",
       "      <td>CALVIN</td>\n",
       "      <td>J</td>\n",
       "      <td>KUBO</td>\n",
       "      <td>NaN</td>\n",
       "      <td>9500 STOCKDALE HWY</td>\n",
       "      <td>NaN</td>\n",
       "      <td>BAKERSFIELD</td>\n",
       "      <td>CA</td>\n",
       "      <td>93311</td>\n",
       "      <td>...</td>\n",
       "      <td>FOREST PHARMACEUTICALS, INC.</td>\n",
       "      <td>NJ</td>\n",
       "      <td>United States</td>\n",
       "      <td>13.47</td>\n",
       "      <td>10/15/2013</td>\n",
       "      <td>1</td>\n",
       "      <td>In-kind items and services</td>\n",
       "      <td>Food and Beverage</td>\n",
       "      <td>1942221049</td>\n",
       "      <td>forest pharmaceuticals inc</td>\n",
       "    </tr>\n",
       "    <tr>\n",
       "      <th>2</th>\n",
       "      <td>269814</td>\n",
       "      <td>CALVIN</td>\n",
       "      <td>J</td>\n",
       "      <td>KUBO</td>\n",
       "      <td>NaN</td>\n",
       "      <td>9500 STOCKDALE HWY</td>\n",
       "      <td>NaN</td>\n",
       "      <td>BAKERSFIELD</td>\n",
       "      <td>CA</td>\n",
       "      <td>93311</td>\n",
       "      <td>...</td>\n",
       "      <td>FOREST PHARMACEUTICALS, INC.</td>\n",
       "      <td>NJ</td>\n",
       "      <td>United States</td>\n",
       "      <td>13.77</td>\n",
       "      <td>08/01/2013</td>\n",
       "      <td>1</td>\n",
       "      <td>In-kind items and services</td>\n",
       "      <td>Food and Beverage</td>\n",
       "      <td>1942221049</td>\n",
       "      <td>forest pharmaceuticals inc</td>\n",
       "    </tr>\n",
       "    <tr>\n",
       "      <th>3</th>\n",
       "      <td>269814</td>\n",
       "      <td>CALVIN</td>\n",
       "      <td>J</td>\n",
       "      <td>KUBO</td>\n",
       "      <td>NaN</td>\n",
       "      <td>9500 STOCKDALE HWY</td>\n",
       "      <td>203</td>\n",
       "      <td>BAKERSFIELD</td>\n",
       "      <td>CA</td>\n",
       "      <td>93311-3620</td>\n",
       "      <td>...</td>\n",
       "      <td>Otsuka America Pharmaceutical, Inc.</td>\n",
       "      <td>MD</td>\n",
       "      <td>United States</td>\n",
       "      <td>15.63</td>\n",
       "      <td>08/14/2013</td>\n",
       "      <td>1</td>\n",
       "      <td>In-kind items and services</td>\n",
       "      <td>Food and Beverage</td>\n",
       "      <td>1942221049</td>\n",
       "      <td>otsuka america pharmaceutical inc</td>\n",
       "    </tr>\n",
       "    <tr>\n",
       "      <th>4</th>\n",
       "      <td>269814</td>\n",
       "      <td>CALVIN</td>\n",
       "      <td>J.</td>\n",
       "      <td>KUBO</td>\n",
       "      <td>NaN</td>\n",
       "      <td>420 34th St</td>\n",
       "      <td>NaN</td>\n",
       "      <td>Bakersfield</td>\n",
       "      <td>CA</td>\n",
       "      <td>93301</td>\n",
       "      <td>...</td>\n",
       "      <td>Boehringer Ingelheim Pharmaceuticals, Inc.</td>\n",
       "      <td>CT</td>\n",
       "      <td>United States</td>\n",
       "      <td>4.33</td>\n",
       "      <td>09/26/2013</td>\n",
       "      <td>1</td>\n",
       "      <td>In-kind items and services</td>\n",
       "      <td>Food and Beverage</td>\n",
       "      <td>1942221049</td>\n",
       "      <td>boehringer ingelheim pharmaceuticals inc</td>\n",
       "    </tr>\n",
       "  </tbody>\n",
       "</table>\n",
       "<p>5 rows × 32 columns</p>\n",
       "</div>"
      ],
      "text/plain": [
       "   Physician_Profile_ID Physician_First_Name Physician_Middle_Name  \\\n",
       "0                269814               CALVIN                     J   \n",
       "1                269814               CALVIN                     J   \n",
       "2                269814               CALVIN                     J   \n",
       "3                269814               CALVIN                     J   \n",
       "4                269814               CALVIN                    J.   \n",
       "\n",
       "  Physician_Last_Name Physician_Name_Suffix  \\\n",
       "0                KUBO                   NaN   \n",
       "1                KUBO                   NaN   \n",
       "2                KUBO                   NaN   \n",
       "3                KUBO                   NaN   \n",
       "4                KUBO                   NaN   \n",
       "\n",
       "  Recipient_Primary_Business_Street_Address_Line1  \\\n",
       "0                              9500 STOCKDALE HWY   \n",
       "1                              9500 STOCKDALE HWY   \n",
       "2                              9500 STOCKDALE HWY   \n",
       "3                              9500 STOCKDALE HWY   \n",
       "4                                     420 34th St   \n",
       "\n",
       "  Recipient_Primary_Business_Street_Address_Line2 Recipient_City  \\\n",
       "0                                             NaN    BAKERSFIELD   \n",
       "1                                             NaN    BAKERSFIELD   \n",
       "2                                             NaN    BAKERSFIELD   \n",
       "3                                             203    BAKERSFIELD   \n",
       "4                                             NaN    Bakersfield   \n",
       "\n",
       "  Recipient_State Recipient_Zip_Code  \\\n",
       "0              CA              93311   \n",
       "1              CA              93311   \n",
       "2              CA              93311   \n",
       "3              CA         93311-3620   \n",
       "4              CA              93301   \n",
       "\n",
       "                     ...                     \\\n",
       "0                    ...                      \n",
       "1                    ...                      \n",
       "2                    ...                      \n",
       "3                    ...                      \n",
       "4                    ...                      \n",
       "\n",
       "  Applicable_Manufacturer_or_Applicable_GPO_Making_Payment_Name  \\\n",
       "0                       FOREST PHARMACEUTICALS, INC.              \n",
       "1                       FOREST PHARMACEUTICALS, INC.              \n",
       "2                       FOREST PHARMACEUTICALS, INC.              \n",
       "3                Otsuka America Pharmaceutical, Inc.              \n",
       "4         Boehringer Ingelheim Pharmaceuticals, Inc.              \n",
       "\n",
       "  Applicable_Manufacturer_or_Applicable_GPO_Making_Payment_State  \\\n",
       "0                                                 NJ               \n",
       "1                                                 NJ               \n",
       "2                                                 NJ               \n",
       "3                                                 MD               \n",
       "4                                                 CT               \n",
       "\n",
       "  Applicable_Manufacturer_or_Applicable_GPO_Making_Payment_Country  \\\n",
       "0                                      United States                 \n",
       "1                                      United States                 \n",
       "2                                      United States                 \n",
       "3                                      United States                 \n",
       "4                                      United States                 \n",
       "\n",
       "  Total_Amount_of_Payment_USDollars Date_of_Payment  \\\n",
       "0                             17.14      11/07/2013   \n",
       "1                             13.47      10/15/2013   \n",
       "2                             13.77      08/01/2013   \n",
       "3                             15.63      08/14/2013   \n",
       "4                              4.33      09/26/2013   \n",
       "\n",
       "  Number_of_Payments_Included_in_Total_Amount  \\\n",
       "0                                           1   \n",
       "1                                           1   \n",
       "2                                           1   \n",
       "3                                           1   \n",
       "4                                           1   \n",
       "\n",
       "  Form_of_Payment_or_Transfer_of_Value Nature_of_Payment_or_Transfer_of_Value  \\\n",
       "0           In-kind items and services                      Food and Beverage   \n",
       "1           In-kind items and services                      Food and Beverage   \n",
       "2           In-kind items and services                      Food and Beverage   \n",
       "3           In-kind items and services                      Food and Beverage   \n",
       "4           In-kind items and services                      Food and Beverage   \n",
       "\n",
       "          NPI                      manufacturer_cleaned  \n",
       "0  1942221049                forest pharmaceuticals inc  \n",
       "1  1942221049                forest pharmaceuticals inc  \n",
       "2  1942221049                forest pharmaceuticals inc  \n",
       "3  1942221049         otsuka america pharmaceutical inc  \n",
       "4  1942221049  boehringer ingelheim pharmaceuticals inc  \n",
       "\n",
       "[5 rows x 32 columns]"
      ]
     },
     "execution_count": 3,
     "metadata": {},
     "output_type": "execute_result"
    }
   ],
   "source": [
    "df = pd.read_csv(r'payments_with_npi_cleaned_13.csv')\n",
    "df.head()"
   ]
  },
  {
   "cell_type": "code",
   "execution_count": 4,
   "metadata": {
    "collapsed": false
   },
   "outputs": [
    {
     "data": {
      "text/html": [
       "<div>\n",
       "<table border=\"1\" class=\"dataframe\">\n",
       "  <thead>\n",
       "    <tr style=\"text-align: right;\">\n",
       "      <th></th>\n",
       "      <th></th>\n",
       "      <th>Total_Amount_of_Payment_USDollars</th>\n",
       "    </tr>\n",
       "    <tr>\n",
       "      <th>NPI</th>\n",
       "      <th>manufacturer_cleaned</th>\n",
       "      <th></th>\n",
       "    </tr>\n",
       "  </thead>\n",
       "  <tbody>\n",
       "    <tr>\n",
       "      <th rowspan=\"4\" valign=\"top\">1003000423</th>\n",
       "      <th>abbvie inc</th>\n",
       "      <td>13.29</td>\n",
       "    </tr>\n",
       "    <tr>\n",
       "      <th>bayer healthcare pharmaceuticals inc</th>\n",
       "      <td>18.60</td>\n",
       "    </tr>\n",
       "    <tr>\n",
       "      <th>intuitive surgical inc</th>\n",
       "      <td>446.80</td>\n",
       "    </tr>\n",
       "    <tr>\n",
       "      <th>roche diagnostics corporation</th>\n",
       "      <td>10.16</td>\n",
       "    </tr>\n",
       "    <tr>\n",
       "      <th>1003000902</th>\n",
       "      <th>astellas pharma us inc</th>\n",
       "      <td>13.69</td>\n",
       "    </tr>\n",
       "  </tbody>\n",
       "</table>\n",
       "</div>"
      ],
      "text/plain": [
       "                                                 Total_Amount_of_Payment_USDollars\n",
       "NPI        manufacturer_cleaned                                                   \n",
       "1003000423 abbvie inc                                                        13.29\n",
       "           bayer healthcare pharmaceuticals inc                              18.60\n",
       "           intuitive surgical inc                                           446.80\n",
       "           roche diagnostics corporation                                     10.16\n",
       "1003000902 astellas pharma us inc                                            13.69"
      ]
     },
     "execution_count": 4,
     "metadata": {},
     "output_type": "execute_result"
    }
   ],
   "source": [
    "npi_grouped = df.groupby(['NPI', 'manufacturer_cleaned']).agg({'Total_Amount_of_Payment_USDollars': 'sum'})\n"
   ]
  },
  {
   "cell_type": "code",
   "execution_count": 7,
   "metadata": {
    "collapsed": false
   },
   "outputs": [],
   "source": [
    "# npi_grouped.to_csv(r'payments_npi_by_manufacturer_totals_13.csv')"
   ]
  },
  {
   "cell_type": "code",
   "execution_count": null,
   "metadata": {
    "collapsed": true
   },
   "outputs": [],
   "source": []
  },
  {
   "cell_type": "code",
   "execution_count": null,
   "metadata": {
    "collapsed": true
   },
   "outputs": [],
   "source": []
  },
  {
   "cell_type": "code",
   "execution_count": null,
   "metadata": {
    "collapsed": true
   },
   "outputs": [],
   "source": []
  },
  {
   "cell_type": "code",
   "execution_count": null,
   "metadata": {
    "collapsed": true
   },
   "outputs": [],
   "source": []
  },
  {
   "cell_type": "code",
   "execution_count": null,
   "metadata": {
    "collapsed": true
   },
   "outputs": [],
   "source": []
  },
  {
   "cell_type": "code",
   "execution_count": null,
   "metadata": {
    "collapsed": true
   },
   "outputs": [],
   "source": []
  },
  {
   "cell_type": "code",
   "execution_count": null,
   "metadata": {
    "collapsed": true
   },
   "outputs": [],
   "source": []
  },
  {
   "cell_type": "code",
   "execution_count": null,
   "metadata": {
    "collapsed": true
   },
   "outputs": [],
   "source": []
  },
  {
   "cell_type": "code",
   "execution_count": null,
   "metadata": {
    "collapsed": true
   },
   "outputs": [],
   "source": []
  },
  {
   "cell_type": "code",
   "execution_count": null,
   "metadata": {
    "collapsed": true
   },
   "outputs": [],
   "source": []
  },
  {
   "cell_type": "code",
   "execution_count": null,
   "metadata": {
    "collapsed": true
   },
   "outputs": [],
   "source": []
  },
  {
   "cell_type": "code",
   "execution_count": null,
   "metadata": {
    "collapsed": true
   },
   "outputs": [],
   "source": []
  },
  {
   "cell_type": "code",
   "execution_count": null,
   "metadata": {
    "collapsed": true
   },
   "outputs": [],
   "source": []
  },
  {
   "cell_type": "code",
   "execution_count": null,
   "metadata": {
    "collapsed": true
   },
   "outputs": [],
   "source": []
  },
  {
   "cell_type": "code",
   "execution_count": null,
   "metadata": {
    "collapsed": true
   },
   "outputs": [],
   "source": []
  },
  {
   "cell_type": "code",
   "execution_count": null,
   "metadata": {
    "collapsed": true
   },
   "outputs": [],
   "source": []
  },
  {
   "cell_type": "code",
   "execution_count": null,
   "metadata": {
    "collapsed": true
   },
   "outputs": [],
   "source": []
  },
  {
   "cell_type": "code",
   "execution_count": null,
   "metadata": {
    "collapsed": true
   },
   "outputs": [],
   "source": []
  },
  {
   "cell_type": "code",
   "execution_count": null,
   "metadata": {
    "collapsed": true
   },
   "outputs": [],
   "source": []
  }
 ],
 "metadata": {
  "anaconda-cloud": {},
  "kernelspec": {
   "display_name": "Python [conda root]",
   "language": "python",
   "name": "conda-root-py"
  },
  "language_info": {
   "codemirror_mode": {
    "name": "ipython",
    "version": 3
   },
   "file_extension": ".py",
   "mimetype": "text/x-python",
   "name": "python",
   "nbconvert_exporter": "python",
   "pygments_lexer": "ipython3",
   "version": "3.5.2"
  }
 },
 "nbformat": 4,
 "nbformat_minor": 1
}
