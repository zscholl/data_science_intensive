{
 "cells": [
  {
   "cell_type": "code",
   "execution_count": 1,
   "metadata": {
    "collapsed": true
   },
   "outputs": [],
   "source": [
    "import pandas as pd\n",
    "import seaborn as sns\n",
    "import numpy as np\n",
    "import scipy.stats as st\n",
    "%matplotlib inline"
   ]
  },
  {
   "cell_type": "markdown",
   "metadata": {},
   "source": [
    "# Load in the data"
   ]
  },
  {
   "cell_type": "code",
   "execution_count": 2,
   "metadata": {
    "collapsed": false
   },
   "outputs": [],
   "source": [
    "payments = pd.read_csv(r'payments_npi_by_manufacturer_totals_13.csv')\n",
    "prescriptions = pd.read_csv(r'prescription_data_npi_13.csv')\n",
    "drugs = pd.read_csv(r'../drug_manufacturers_cleaned.csv')"
   ]
  },
  {
   "cell_type": "code",
   "execution_count": 3,
   "metadata": {
    "collapsed": false
   },
   "outputs": [],
   "source": [
    "forest_payments = payments[payments['manufacturer_cleaned'].str.contains(r'forest pharmaceuticals')]"
   ]
  },
  {
   "cell_type": "code",
   "execution_count": 4,
   "metadata": {
    "collapsed": false
   },
   "outputs": [
    {
     "data": {
      "text/html": [
       "<div>\n",
       "<table border=\"1\" class=\"dataframe\">\n",
       "  <thead>\n",
       "    <tr style=\"text-align: right;\">\n",
       "      <th></th>\n",
       "      <th>NPI</th>\n",
       "      <th>manufacturer_cleaned</th>\n",
       "      <th>Total_Amount_of_Payment_USDollars</th>\n",
       "    </tr>\n",
       "  </thead>\n",
       "  <tbody>\n",
       "    <tr>\n",
       "      <th>9</th>\n",
       "      <td>1003000902</td>\n",
       "      <td>forest pharmaceuticals inc</td>\n",
       "      <td>101.79</td>\n",
       "    </tr>\n",
       "    <tr>\n",
       "      <th>56</th>\n",
       "      <td>1003002817</td>\n",
       "      <td>forest pharmaceuticals inc</td>\n",
       "      <td>40.97</td>\n",
       "    </tr>\n",
       "    <tr>\n",
       "      <th>105</th>\n",
       "      <td>1003007204</td>\n",
       "      <td>forest pharmaceuticals inc</td>\n",
       "      <td>22.62</td>\n",
       "    </tr>\n",
       "    <tr>\n",
       "      <th>153</th>\n",
       "      <td>1003010307</td>\n",
       "      <td>forest pharmaceuticals inc</td>\n",
       "      <td>11.02</td>\n",
       "    </tr>\n",
       "    <tr>\n",
       "      <th>166</th>\n",
       "      <td>1003011214</td>\n",
       "      <td>forest pharmaceuticals inc</td>\n",
       "      <td>114.24</td>\n",
       "    </tr>\n",
       "  </tbody>\n",
       "</table>\n",
       "</div>"
      ],
      "text/plain": [
       "            NPI        manufacturer_cleaned  Total_Amount_of_Payment_USDollars\n",
       "9    1003000902  forest pharmaceuticals inc                             101.79\n",
       "56   1003002817  forest pharmaceuticals inc                              40.97\n",
       "105  1003007204  forest pharmaceuticals inc                              22.62\n",
       "153  1003010307  forest pharmaceuticals inc                              11.02\n",
       "166  1003011214  forest pharmaceuticals inc                             114.24"
      ]
     },
     "execution_count": 4,
     "metadata": {},
     "output_type": "execute_result"
    }
   ],
   "source": [
    "forest_payments.head()"
   ]
  },
  {
   "cell_type": "code",
   "execution_count": 5,
   "metadata": {
    "collapsed": false
   },
   "outputs": [
    {
     "data": {
      "text/html": [
       "<div>\n",
       "<table border=\"1\" class=\"dataframe\">\n",
       "  <thead>\n",
       "    <tr style=\"text-align: right;\">\n",
       "      <th></th>\n",
       "      <th>NPI</th>\n",
       "      <th>DRUG_NAME</th>\n",
       "      <th>TOTAL_CLAIM_COUNT</th>\n",
       "      <th>TOTAL_DAY_SUPPLY</th>\n",
       "      <th>TOTAL_DRUG_COST</th>\n",
       "    </tr>\n",
       "  </thead>\n",
       "  <tbody>\n",
       "    <tr>\n",
       "      <th>0</th>\n",
       "      <td>1003000126</td>\n",
       "      <td>ISOSORBIDE MONONITRATE ER</td>\n",
       "      <td>11</td>\n",
       "      <td>307</td>\n",
       "      <td>171.59</td>\n",
       "    </tr>\n",
       "    <tr>\n",
       "      <th>1</th>\n",
       "      <td>1003000126</td>\n",
       "      <td>LEVOFLOXACIN</td>\n",
       "      <td>26</td>\n",
       "      <td>165</td>\n",
       "      <td>227.10</td>\n",
       "    </tr>\n",
       "    <tr>\n",
       "      <th>2</th>\n",
       "      <td>1003000126</td>\n",
       "      <td>LISINOPRIL</td>\n",
       "      <td>19</td>\n",
       "      <td>570</td>\n",
       "      <td>100.37</td>\n",
       "    </tr>\n",
       "    <tr>\n",
       "      <th>3</th>\n",
       "      <td>1003000126</td>\n",
       "      <td>METOPROLOL TARTRATE</td>\n",
       "      <td>30</td>\n",
       "      <td>916</td>\n",
       "      <td>154.65</td>\n",
       "    </tr>\n",
       "    <tr>\n",
       "      <th>4</th>\n",
       "      <td>1003000126</td>\n",
       "      <td>PREDNISONE</td>\n",
       "      <td>14</td>\n",
       "      <td>133</td>\n",
       "      <td>44.72</td>\n",
       "    </tr>\n",
       "  </tbody>\n",
       "</table>\n",
       "</div>"
      ],
      "text/plain": [
       "          NPI                  DRUG_NAME  TOTAL_CLAIM_COUNT  TOTAL_DAY_SUPPLY  \\\n",
       "0  1003000126  ISOSORBIDE MONONITRATE ER                 11               307   \n",
       "1  1003000126               LEVOFLOXACIN                 26               165   \n",
       "2  1003000126                 LISINOPRIL                 19               570   \n",
       "3  1003000126        METOPROLOL TARTRATE                 30               916   \n",
       "4  1003000126                 PREDNISONE                 14               133   \n",
       "\n",
       "   TOTAL_DRUG_COST  \n",
       "0           171.59  \n",
       "1           227.10  \n",
       "2           100.37  \n",
       "3           154.65  \n",
       "4            44.72  "
      ]
     },
     "execution_count": 5,
     "metadata": {},
     "output_type": "execute_result"
    }
   ],
   "source": [
    "prescriptions.head()"
   ]
  },
  {
   "cell_type": "markdown",
   "metadata": {},
   "source": [
    "## Isolate drugs only associated with Forest Pharmaceuticals"
   ]
  },
  {
   "cell_type": "code",
   "execution_count": 6,
   "metadata": {
    "collapsed": false
   },
   "outputs": [],
   "source": [
    "forest_drugs = drugs[drugs.cleaned.str.contains('forest pharm')].brand_name"
   ]
  },
  {
   "cell_type": "code",
   "execution_count": 7,
   "metadata": {
    "collapsed": false
   },
   "outputs": [
    {
     "data": {
      "text/html": [
       "<div>\n",
       "<table border=\"1\" class=\"dataframe\">\n",
       "  <thead>\n",
       "    <tr style=\"text-align: right;\">\n",
       "      <th></th>\n",
       "      <th>brand_name</th>\n",
       "      <th>generic_name</th>\n",
       "      <th>manufacturer_name</th>\n",
       "      <th>cleaned</th>\n",
       "    </tr>\n",
       "  </thead>\n",
       "  <tbody>\n",
       "    <tr>\n",
       "      <th>0</th>\n",
       "      <td>VARICOGO</td>\n",
       "      <td>AESCULUS HIPPOCASTANUM, ARNICA MONTANA, CALCAR...</td>\n",
       "      <td>Native Remedies, LLC</td>\n",
       "      <td>native remedies llc</td>\n",
       "    </tr>\n",
       "    <tr>\n",
       "      <th>1</th>\n",
       "      <td>DUET DHA</td>\n",
       "      <td>.BETA.-CAROTENE, ASCORBIC ACID, CHOLECALCIFERO...</td>\n",
       "      <td>WH Nutritionals, LLC</td>\n",
       "      <td>wh nutritionals llc</td>\n",
       "    </tr>\n",
       "  </tbody>\n",
       "</table>\n",
       "</div>"
      ],
      "text/plain": [
       "  brand_name                                       generic_name  \\\n",
       "0   VARICOGO  AESCULUS HIPPOCASTANUM, ARNICA MONTANA, CALCAR...   \n",
       "1   DUET DHA  .BETA.-CAROTENE, ASCORBIC ACID, CHOLECALCIFERO...   \n",
       "\n",
       "      manufacturer_name              cleaned  \n",
       "0  Native Remedies, LLC  native remedies llc  \n",
       "1  WH Nutritionals, LLC  wh nutritionals llc  "
      ]
     },
     "execution_count": 7,
     "metadata": {},
     "output_type": "execute_result"
    }
   ],
   "source": [
    "drugs.head(2)"
   ]
  },
  {
   "cell_type": "code",
   "execution_count": 8,
   "metadata": {
    "collapsed": false
   },
   "outputs": [
    {
     "data": {
      "text/plain": [
       "44852            THYROLAR\n",
       "59982      ARMOUR THYROID\n",
       "62709             NAMENDA\n",
       "70065            DALIRESP\n",
       "71064          NAMENDA XR\n",
       "73342             SAPHRIS\n",
       "75432             TEFLARO\n",
       "75727             MONUROL\n",
       "78418            BYSTOLIC\n",
       "83304    TUDORZA PRESSAIR\n",
       "Name: brand_name, dtype: object"
      ]
     },
     "execution_count": 8,
     "metadata": {},
     "output_type": "execute_result"
    }
   ],
   "source": [
    "forest_drugs"
   ]
  },
  {
   "cell_type": "markdown",
   "metadata": {},
   "source": [
    "## Isolate prescription data for Forest Pharmacuetical drugs"
   ]
  },
  {
   "cell_type": "code",
   "execution_count": 9,
   "metadata": {
    "collapsed": false
   },
   "outputs": [],
   "source": [
    "forest_prescriptions = prescriptions[prescriptions.DRUG_NAME.isin(forest_drugs)]"
   ]
  },
  {
   "cell_type": "code",
   "execution_count": 10,
   "metadata": {
    "collapsed": false
   },
   "outputs": [
    {
     "data": {
      "text/html": [
       "<div>\n",
       "<table border=\"1\" class=\"dataframe\">\n",
       "  <thead>\n",
       "    <tr style=\"text-align: right;\">\n",
       "      <th></th>\n",
       "      <th>NPI</th>\n",
       "      <th>DRUG_NAME</th>\n",
       "      <th>TOTAL_CLAIM_COUNT</th>\n",
       "      <th>TOTAL_DAY_SUPPLY</th>\n",
       "      <th>TOTAL_DRUG_COST</th>\n",
       "    </tr>\n",
       "  </thead>\n",
       "  <tbody>\n",
       "    <tr>\n",
       "      <th>111</th>\n",
       "      <td>1003000522</td>\n",
       "      <td>NAMENDA</td>\n",
       "      <td>14</td>\n",
       "      <td>945</td>\n",
       "      <td>7912.88</td>\n",
       "    </tr>\n",
       "    <tr>\n",
       "      <th>227</th>\n",
       "      <td>1003000530</td>\n",
       "      <td>NAMENDA</td>\n",
       "      <td>13</td>\n",
       "      <td>434</td>\n",
       "      <td>3609.01</td>\n",
       "    </tr>\n",
       "    <tr>\n",
       "      <th>325</th>\n",
       "      <td>1003000902</td>\n",
       "      <td>BYSTOLIC</td>\n",
       "      <td>16</td>\n",
       "      <td>960</td>\n",
       "      <td>2195.88</td>\n",
       "    </tr>\n",
       "    <tr>\n",
       "      <th>551</th>\n",
       "      <td>1003002312</td>\n",
       "      <td>ARMOUR THYROID</td>\n",
       "      <td>11</td>\n",
       "      <td>532</td>\n",
       "      <td>44.98</td>\n",
       "    </tr>\n",
       "    <tr>\n",
       "      <th>558</th>\n",
       "      <td>1003002312</td>\n",
       "      <td>BYSTOLIC</td>\n",
       "      <td>14</td>\n",
       "      <td>420</td>\n",
       "      <td>1466.32</td>\n",
       "    </tr>\n",
       "  </tbody>\n",
       "</table>\n",
       "</div>"
      ],
      "text/plain": [
       "            NPI       DRUG_NAME  TOTAL_CLAIM_COUNT  TOTAL_DAY_SUPPLY  \\\n",
       "111  1003000522         NAMENDA                 14               945   \n",
       "227  1003000530         NAMENDA                 13               434   \n",
       "325  1003000902        BYSTOLIC                 16               960   \n",
       "551  1003002312  ARMOUR THYROID                 11               532   \n",
       "558  1003002312        BYSTOLIC                 14               420   \n",
       "\n",
       "     TOTAL_DRUG_COST  \n",
       "111          7912.88  \n",
       "227          3609.01  \n",
       "325          2195.88  \n",
       "551            44.98  \n",
       "558          1466.32  "
      ]
     },
     "execution_count": 10,
     "metadata": {},
     "output_type": "execute_result"
    }
   ],
   "source": [
    "forest_prescriptions.head()"
   ]
  },
  {
   "cell_type": "code",
   "execution_count": null,
   "metadata": {
    "collapsed": false
   },
   "outputs": [],
   "source": []
  },
  {
   "cell_type": "code",
   "execution_count": null,
   "metadata": {
    "collapsed": true
   },
   "outputs": [],
   "source": []
  },
  {
   "cell_type": "code",
   "execution_count": 11,
   "metadata": {
    "collapsed": false
   },
   "outputs": [
    {
     "data": {
      "text/plain": [
       "39540"
      ]
     },
     "execution_count": 11,
     "metadata": {},
     "output_type": "execute_result"
    }
   ],
   "source": [
    "len(forest_prescriptions[forest_prescriptions.NPI.isin(forest_payments.NPI)])"
   ]
  },
  {
   "cell_type": "code",
   "execution_count": 12,
   "metadata": {
    "collapsed": false
   },
   "outputs": [
    {
     "data": {
      "text/plain": [
       "132480"
      ]
     },
     "execution_count": 12,
     "metadata": {},
     "output_type": "execute_result"
    }
   ],
   "source": [
    "len(forest_prescriptions[~forest_prescriptions.NPI.isin(forest_payments.NPI)])"
   ]
  },
  {
   "cell_type": "markdown",
   "metadata": {},
   "source": [
    "So there are ~39k prescription entries for forest manufactured products where the provider was paid by forest and ~132k where they were not."
   ]
  },
  {
   "cell_type": "markdown",
   "metadata": {
    "collapsed": true
   },
   "source": [
    "\n"
   ]
  },
  {
   "cell_type": "code",
   "execution_count": 13,
   "metadata": {
    "collapsed": false
   },
   "outputs": [],
   "source": [
    "forest_scripts_by_npi = forest_prescriptions.groupby('NPI').agg({'TOTAL_DRUG_COST': 'sum', \n",
    "                                         'TOTAL_DAY_SUPPLY': 'sum', \n",
    "                                         'TOTAL_CLAIM_COUNT': 'sum'})"
   ]
  },
  {
   "cell_type": "code",
   "execution_count": 14,
   "metadata": {
    "collapsed": false
   },
   "outputs": [],
   "source": [
    "forest_data = forest_scripts_by_npi.reset_index().merge(\n",
    "    forest_payments, on='NPI', how='left').drop('manufacturer_cleaned', axis=1)"
   ]
  },
  {
   "cell_type": "markdown",
   "metadata": {
    "collapsed": true
   },
   "source": [
    "## Isolate the groups of prescriptions by providers that were paid by forest and those that were not"
   ]
  },
  {
   "cell_type": "code",
   "execution_count": 15,
   "metadata": {
    "collapsed": false
   },
   "outputs": [],
   "source": [
    "paid_by_forest = forest_data[~forest_data.Total_Amount_of_Payment_USDollars.isnull()]\n",
    "not_paid_by_forest = forest_data[forest_data.Total_Amount_of_Payment_USDollars.isnull()]"
   ]
  },
  {
   "cell_type": "code",
   "execution_count": 16,
   "metadata": {
    "collapsed": false
   },
   "outputs": [
    {
     "data": {
      "text/plain": [
       "23659"
      ]
     },
     "execution_count": 16,
     "metadata": {},
     "output_type": "execute_result"
    }
   ],
   "source": [
    "len(paid_by_forest)"
   ]
  },
  {
   "cell_type": "code",
   "execution_count": 17,
   "metadata": {
    "collapsed": false
   },
   "outputs": [
    {
     "data": {
      "text/plain": [
       "101657"
      ]
     },
     "execution_count": 17,
     "metadata": {},
     "output_type": "execute_result"
    }
   ],
   "source": [
    "len(not_paid_by_forest)"
   ]
  },
  {
   "cell_type": "markdown",
   "metadata": {},
   "source": [
    "So we've got 23k providers who were paid by forest pharmaceuticals and 100k who were not paid by forest."
   ]
  },
  {
   "cell_type": "code",
   "execution_count": 18,
   "metadata": {
    "collapsed": false
   },
   "outputs": [
    {
     "data": {
      "text/html": [
       "<div>\n",
       "<table border=\"1\" class=\"dataframe\">\n",
       "  <thead>\n",
       "    <tr style=\"text-align: right;\">\n",
       "      <th></th>\n",
       "      <th>NPI</th>\n",
       "      <th>TOTAL_DRUG_COST</th>\n",
       "      <th>TOTAL_DAY_SUPPLY</th>\n",
       "      <th>TOTAL_CLAIM_COUNT</th>\n",
       "      <th>Total_Amount_of_Payment_USDollars</th>\n",
       "    </tr>\n",
       "  </thead>\n",
       "  <tbody>\n",
       "    <tr>\n",
       "      <th>2</th>\n",
       "      <td>1003000902</td>\n",
       "      <td>2195.88</td>\n",
       "      <td>960</td>\n",
       "      <td>16</td>\n",
       "      <td>101.79</td>\n",
       "    </tr>\n",
       "    <tr>\n",
       "      <th>4</th>\n",
       "      <td>1003002817</td>\n",
       "      <td>133783.76</td>\n",
       "      <td>17896</td>\n",
       "      <td>585</td>\n",
       "      <td>40.97</td>\n",
       "    </tr>\n",
       "    <tr>\n",
       "      <th>16</th>\n",
       "      <td>1003010307</td>\n",
       "      <td>100.68</td>\n",
       "      <td>660</td>\n",
       "      <td>16</td>\n",
       "      <td>11.02</td>\n",
       "    </tr>\n",
       "    <tr>\n",
       "      <th>23</th>\n",
       "      <td>1003013756</td>\n",
       "      <td>5212.85</td>\n",
       "      <td>1470</td>\n",
       "      <td>48</td>\n",
       "      <td>24.20</td>\n",
       "    </tr>\n",
       "    <tr>\n",
       "      <th>31</th>\n",
       "      <td>1003017906</td>\n",
       "      <td>6434.70</td>\n",
       "      <td>769</td>\n",
       "      <td>25</td>\n",
       "      <td>10.69</td>\n",
       "    </tr>\n",
       "  </tbody>\n",
       "</table>\n",
       "</div>"
      ],
      "text/plain": [
       "           NPI  TOTAL_DRUG_COST  TOTAL_DAY_SUPPLY  TOTAL_CLAIM_COUNT  \\\n",
       "2   1003000902          2195.88               960                 16   \n",
       "4   1003002817        133783.76             17896                585   \n",
       "16  1003010307           100.68               660                 16   \n",
       "23  1003013756          5212.85              1470                 48   \n",
       "31  1003017906          6434.70               769                 25   \n",
       "\n",
       "    Total_Amount_of_Payment_USDollars  \n",
       "2                              101.79  \n",
       "4                               40.97  \n",
       "16                              11.02  \n",
       "23                              24.20  \n",
       "31                              10.69  "
      ]
     },
     "execution_count": 18,
     "metadata": {},
     "output_type": "execute_result"
    }
   ],
   "source": [
    "paid_by_forest.head()"
   ]
  },
  {
   "cell_type": "markdown",
   "metadata": {
    "collapsed": true
   },
   "source": [
    "\n",
    "\n"
   ]
  },
  {
   "cell_type": "markdown",
   "metadata": {},
   "source": [
    "## Descriptive statistics on both groups"
   ]
  },
  {
   "cell_type": "code",
   "execution_count": 19,
   "metadata": {
    "collapsed": false,
    "scrolled": true
   },
   "outputs": [
    {
     "data": {
      "text/html": [
       "<div>\n",
       "<table border=\"1\" class=\"dataframe\">\n",
       "  <thead>\n",
       "    <tr style=\"text-align: right;\">\n",
       "      <th></th>\n",
       "      <th>TOTAL_DRUG_COST</th>\n",
       "      <th>TOTAL_CLAIM_COUNT</th>\n",
       "      <th>TOTAL_DAY_SUPPLY</th>\n",
       "      <th>Total_Amount_of_Payment_USDollars</th>\n",
       "    </tr>\n",
       "  </thead>\n",
       "  <tbody>\n",
       "    <tr>\n",
       "      <th>count</th>\n",
       "      <td>2.365900e+04</td>\n",
       "      <td>23659.000000</td>\n",
       "      <td>23659.000000</td>\n",
       "      <td>23659.000000</td>\n",
       "    </tr>\n",
       "    <tr>\n",
       "      <th>mean</th>\n",
       "      <td>2.056418e+04</td>\n",
       "      <td>104.393635</td>\n",
       "      <td>3278.035758</td>\n",
       "      <td>261.490011</td>\n",
       "    </tr>\n",
       "    <tr>\n",
       "      <th>std</th>\n",
       "      <td>3.091723e+04</td>\n",
       "      <td>173.942240</td>\n",
       "      <td>4262.043548</td>\n",
       "      <td>1816.418405</td>\n",
       "    </tr>\n",
       "    <tr>\n",
       "      <th>min</th>\n",
       "      <td>5.446000e+01</td>\n",
       "      <td>11.000000</td>\n",
       "      <td>12.000000</td>\n",
       "      <td>10.000000</td>\n",
       "    </tr>\n",
       "    <tr>\n",
       "      <th>25%</th>\n",
       "      <td>5.638360e+03</td>\n",
       "      <td>27.000000</td>\n",
       "      <td>1050.000000</td>\n",
       "      <td>13.890000</td>\n",
       "    </tr>\n",
       "    <tr>\n",
       "      <th>50%</th>\n",
       "      <td>1.173389e+04</td>\n",
       "      <td>55.000000</td>\n",
       "      <td>2080.000000</td>\n",
       "      <td>29.040000</td>\n",
       "    </tr>\n",
       "    <tr>\n",
       "      <th>75%</th>\n",
       "      <td>2.388809e+04</td>\n",
       "      <td>115.000000</td>\n",
       "      <td>3982.000000</td>\n",
       "      <td>71.225000</td>\n",
       "    </tr>\n",
       "    <tr>\n",
       "      <th>max</th>\n",
       "      <td>1.287065e+06</td>\n",
       "      <td>7775.000000</td>\n",
       "      <td>140192.000000</td>\n",
       "      <td>70609.940000</td>\n",
       "    </tr>\n",
       "  </tbody>\n",
       "</table>\n",
       "</div>"
      ],
      "text/plain": [
       "       TOTAL_DRUG_COST  TOTAL_CLAIM_COUNT  TOTAL_DAY_SUPPLY  \\\n",
       "count     2.365900e+04       23659.000000      23659.000000   \n",
       "mean      2.056418e+04         104.393635       3278.035758   \n",
       "std       3.091723e+04         173.942240       4262.043548   \n",
       "min       5.446000e+01          11.000000         12.000000   \n",
       "25%       5.638360e+03          27.000000       1050.000000   \n",
       "50%       1.173389e+04          55.000000       2080.000000   \n",
       "75%       2.388809e+04         115.000000       3982.000000   \n",
       "max       1.287065e+06        7775.000000     140192.000000   \n",
       "\n",
       "       Total_Amount_of_Payment_USDollars  \n",
       "count                       23659.000000  \n",
       "mean                          261.490011  \n",
       "std                          1816.418405  \n",
       "min                            10.000000  \n",
       "25%                            13.890000  \n",
       "50%                            29.040000  \n",
       "75%                            71.225000  \n",
       "max                         70609.940000  "
      ]
     },
     "execution_count": 19,
     "metadata": {},
     "output_type": "execute_result"
    }
   ],
   "source": [
    "paid_by_forest[['TOTAL_DRUG_COST', 'TOTAL_CLAIM_COUNT', 'TOTAL_DAY_SUPPLY', 'Total_Amount_of_Payment_USDollars']].describe()"
   ]
  },
  {
   "cell_type": "code",
   "execution_count": 20,
   "metadata": {
    "collapsed": false
   },
   "outputs": [
    {
     "data": {
      "text/html": [
       "<div>\n",
       "<table border=\"1\" class=\"dataframe\">\n",
       "  <thead>\n",
       "    <tr style=\"text-align: right;\">\n",
       "      <th></th>\n",
       "      <th>TOTAL_DRUG_COST</th>\n",
       "      <th>TOTAL_CLAIM_COUNT</th>\n",
       "      <th>TOTAL_DAY_SUPPLY</th>\n",
       "    </tr>\n",
       "  </thead>\n",
       "  <tbody>\n",
       "    <tr>\n",
       "      <th>count</th>\n",
       "      <td>101657.000000</td>\n",
       "      <td>101657.000000</td>\n",
       "      <td>101657.000000</td>\n",
       "    </tr>\n",
       "    <tr>\n",
       "      <th>mean</th>\n",
       "      <td>12936.576816</td>\n",
       "      <td>64.926262</td>\n",
       "      <td>1907.096353</td>\n",
       "    </tr>\n",
       "    <tr>\n",
       "      <th>std</th>\n",
       "      <td>21772.136630</td>\n",
       "      <td>123.012532</td>\n",
       "      <td>2732.073468</td>\n",
       "    </tr>\n",
       "    <tr>\n",
       "      <th>min</th>\n",
       "      <td>11.970000</td>\n",
       "      <td>11.000000</td>\n",
       "      <td>11.000000</td>\n",
       "    </tr>\n",
       "    <tr>\n",
       "      <th>25%</th>\n",
       "      <td>3318.880000</td>\n",
       "      <td>16.000000</td>\n",
       "      <td>570.000000</td>\n",
       "    </tr>\n",
       "    <tr>\n",
       "      <th>50%</th>\n",
       "      <td>6815.210000</td>\n",
       "      <td>31.000000</td>\n",
       "      <td>1080.000000</td>\n",
       "    </tr>\n",
       "    <tr>\n",
       "      <th>75%</th>\n",
       "      <td>14232.440000</td>\n",
       "      <td>66.000000</td>\n",
       "      <td>2196.000000</td>\n",
       "    </tr>\n",
       "    <tr>\n",
       "      <th>max</th>\n",
       "      <td>962511.280000</td>\n",
       "      <td>7346.000000</td>\n",
       "      <td>130592.000000</td>\n",
       "    </tr>\n",
       "  </tbody>\n",
       "</table>\n",
       "</div>"
      ],
      "text/plain": [
       "       TOTAL_DRUG_COST  TOTAL_CLAIM_COUNT  TOTAL_DAY_SUPPLY\n",
       "count    101657.000000      101657.000000     101657.000000\n",
       "mean      12936.576816          64.926262       1907.096353\n",
       "std       21772.136630         123.012532       2732.073468\n",
       "min          11.970000          11.000000         11.000000\n",
       "25%        3318.880000          16.000000        570.000000\n",
       "50%        6815.210000          31.000000       1080.000000\n",
       "75%       14232.440000          66.000000       2196.000000\n",
       "max      962511.280000        7346.000000     130592.000000"
      ]
     },
     "execution_count": 20,
     "metadata": {},
     "output_type": "execute_result"
    }
   ],
   "source": [
    "not_paid_by_forest[['TOTAL_DRUG_COST', 'TOTAL_CLAIM_COUNT', 'TOTAL_DAY_SUPPLY']].describe()"
   ]
  },
  {
   "cell_type": "markdown",
   "metadata": {
    "collapsed": true
   },
   "source": [
    "\n"
   ]
  },
  {
   "cell_type": "markdown",
   "metadata": {},
   "source": [
    "## T-tests"
   ]
  },
  {
   "cell_type": "code",
   "execution_count": 21,
   "metadata": {
    "collapsed": false
   },
   "outputs": [
    {
     "data": {
      "text/plain": [
       "Ttest_indResult(statistic=33.030999188121534, pvalue=5.8062159470896435e-235)"
      ]
     },
     "execution_count": 21,
     "metadata": {},
     "output_type": "execute_result"
    }
   ],
   "source": [
    "st.ttest_ind(paid_by_forest.TOTAL_CLAIM_COUNT, not_paid_by_forest.TOTAL_CLAIM_COUNT, equal_var=False)"
   ]
  },
  {
   "cell_type": "code",
   "execution_count": 22,
   "metadata": {
    "collapsed": false
   },
   "outputs": [
    {
     "data": {
      "text/plain": [
       "Ttest_indResult(statistic=47.267866846677009, pvalue=0.0)"
      ]
     },
     "execution_count": 22,
     "metadata": {},
     "output_type": "execute_result"
    }
   ],
   "source": [
    "st.ttest_ind(paid_by_forest.TOTAL_DAY_SUPPLY, not_paid_by_forest.TOTAL_DAY_SUPPLY, equal_var=False)"
   ]
  },
  {
   "cell_type": "markdown",
   "metadata": {
    "collapsed": true
   },
   "source": [
    "\n"
   ]
  },
  {
   "cell_type": "markdown",
   "metadata": {
    "collapsed": true
   },
   "source": [
    "\n"
   ]
  },
  {
   "cell_type": "code",
   "execution_count": 23,
   "metadata": {
    "collapsed": false
   },
   "outputs": [
    {
     "name": "stderr",
     "output_type": "stream",
     "text": [
      "/Users/zakscholl/anaconda3/lib/python3.5/site-packages/statsmodels/nonparametric/kdetools.py:20: VisibleDeprecationWarning: using a non-integer number instead of an integer will result in an error in the future\n",
      "  y = X[:m/2+1] + np.r_[0,X[m/2+1:],0]*1j\n"
     ]
    },
    {
     "data": {
      "image/png": "[encoded data removed]",
      "text/plain": [
       "<matplotlib.figure.Figure at 0x117738f98>"
      ]
     },
     "metadata": {},
     "output_type": "display_data"
    }
   ],
   "source": [
    "ax = sns.distplot(paid_by_forest.TOTAL_CLAIM_COUNT)\n",
    "ax.set_title('Distribution of claim counts by providers paid by Forest')\n",
    "None"
   ]
  },
  {
   "cell_type": "code",
   "execution_count": 24,
   "metadata": {
    "collapsed": false
   },
   "outputs": [
    {
     "name": "stderr",
     "output_type": "stream",
     "text": [
      "/Users/zakscholl/anaconda3/lib/python3.5/site-packages/statsmodels/nonparametric/kdetools.py:20: VisibleDeprecationWarning: using a non-integer number instead of an integer will result in an error in the future\n",
      "  y = X[:m/2+1] + np.r_[0,X[m/2+1:],0]*1j\n"
     ]
    },
    {
     "data": {
      "image/png": "[encoded data removed]",
      "text/plain": [
       "<matplotlib.figure.Figure at 0x1197a4be0>"
      ]
     },
     "metadata": {},
     "output_type": "display_data"
    }
   ],
   "source": [
    "ax = sns.distplot(not_paid_by_forest.TOTAL_CLAIM_COUNT)\n",
    "ax.set_title('Distribution of claim counts by providers NOT paid by Forest')\n",
    "None"
   ]
  },
  {
   "cell_type": "markdown",
   "metadata": {
    "collapsed": true
   },
   "source": [
    "\n"
   ]
  },
  {
   "cell_type": "markdown",
   "metadata": {
    "collapsed": true
   },
   "source": [
    "## Mann-Whitney Tests"
   ]
  },
  {
   "cell_type": "code",
   "execution_count": 25,
   "metadata": {
    "collapsed": false
   },
   "outputs": [
    {
     "data": {
      "text/plain": [
       "MannwhitneyuResult(statistic=1537943577.5, pvalue=0.0)"
      ]
     },
     "execution_count": 25,
     "metadata": {},
     "output_type": "execute_result"
    }
   ],
   "source": [
    "# mann-whitney test\n",
    "st.mannwhitneyu(paid_by_forest.TOTAL_CLAIM_COUNT, not_paid_by_forest.TOTAL_CLAIM_COUNT, alternative='greater')"
   ]
  },
  {
   "cell_type": "code",
   "execution_count": 26,
   "metadata": {
    "collapsed": false
   },
   "outputs": [
    {
     "data": {
      "text/plain": [
       "MannwhitneyuResult(statistic=1605773823.0, pvalue=0.0)"
      ]
     },
     "execution_count": 26,
     "metadata": {},
     "output_type": "execute_result"
    }
   ],
   "source": [
    "st.mannwhitneyu(paid_by_forest.TOTAL_DAY_SUPPLY, not_paid_by_forest.TOTAL_DAY_SUPPLY, alternative='greater')"
   ]
  },
  {
   "cell_type": "code",
   "execution_count": null,
   "metadata": {
    "collapsed": true
   },
   "outputs": [],
   "source": []
  },
  {
   "cell_type": "code",
   "execution_count": null,
   "metadata": {
    "collapsed": false
   },
   "outputs": [],
   "source": []
  },
  {
   "cell_type": "code",
   "execution_count": null,
   "metadata": {
    "collapsed": true
   },
   "outputs": [],
   "source": []
  }
 ],
 "metadata": {
  "anaconda-cloud": {},
  "kernelspec": {
   "display_name": "Python [conda root]",
   "language": "python",
   "name": "conda-root-py"
  },
  "language_info": {
   "codemirror_mode": {
    "name": "ipython",
    "version": 3
   },
   "file_extension": ".py",
   "mimetype": "text/x-python",
   "name": "python",
   "nbconvert_exporter": "python",
   "pygments_lexer": "ipython3",
   "version": "3.5.2"
  }
 },
 "nbformat": 4,
 "nbformat_minor": 1
}
