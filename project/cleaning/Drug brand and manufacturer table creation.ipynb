{
 "cells": [
  {
   "cell_type": "code",
   "execution_count": 1,
   "metadata": {
    "collapsed": false
   },
   "outputs": [],
   "source": [
    "import pandas as pd\n",
    "import numpy as np\n",
    "import json\n",
    "from pandas.io.json import json_normalize"
   ]
  },
  {
   "cell_type": "code",
   "execution_count": 2,
   "metadata": {
    "collapsed": false,
    "scrolled": true
   },
   "outputs": [],
   "source": [
    "# get all json data into a list\n",
    "json_data = []\n",
    "\n",
    "json_data.append(json_normalize(\n",
    "        json.load(open(r'data_unzipped/drug_labels/drug-label-0001-of-0005.json'))\n",
    "        , 'results'))\n",
    "json_data.append(json_normalize(\n",
    "        json.load(open(r'data_unzipped/drug_labels/drug-label-0002-of-0005.json'))\n",
    "        , 'results'))\n",
    "json_data.append(json_normalize(\n",
    "        json.load(open(r'data_unzipped/drug_labels/drug-label-0003-of-0005.json'))\n",
    "        , 'results'))\n",
    "json_data.append(json_normalize(\n",
    "        json.load(open(r'data_unzipped/drug_labels/drug-label-0004-of-0005.json'))\n",
    "        , 'results'))\n",
    "json_data.append(json_normalize(\n",
    "        json.load(open(r'data_unzipped/drug_labels/drug-label-0005-of-0005.json'))\n",
    "        , 'results'))"
   ]
  },
  {
   "cell_type": "code",
   "execution_count": 11,
   "metadata": {
    "collapsed": false
   },
   "outputs": [],
   "source": [
    "# loop through all values in that series and turn the dict into a data frame \n",
    "# append all dataframes together at the end -> export to csv\n",
    "def fix_dict(data):\n",
    "    \"\"\"\n",
    "    Function to turn list value items in the dictionary to \n",
    "    comma separated strings. Enables it to be put into \n",
    "    a single row in a pandas dataframe\n",
    "    \"\"\"\n",
    "    keys = ['manufacturer_name', 'brand_name', 'generic_name']\n",
    "    new_dict = {}\n",
    "    for key,value in data.items():     \n",
    "        if key in keys:\n",
    "            new_dict[key] = \",\".join(value)\n",
    "    return new_dict"
   ]
  },
  {
   "cell_type": "code",
   "execution_count": 12,
   "metadata": {
    "collapsed": false
   },
   "outputs": [
    {
     "data": {
      "text/html": [
       "<div>\n",
       "<table border=\"1\" class=\"dataframe\">\n",
       "  <thead>\n",
       "    <tr style=\"text-align: right;\">\n",
       "      <th></th>\n",
       "      <th>brand_name</th>\n",
       "      <th>generic_name</th>\n",
       "      <th>manufacturer_name</th>\n",
       "    </tr>\n",
       "  </thead>\n",
       "  <tbody>\n",
       "    <tr>\n",
       "      <th>0</th>\n",
       "      <td>VaricoGo</td>\n",
       "      <td>AESCULUS HIPPOCASTANUM, ARNICA MONTANA, CALCAR...</td>\n",
       "      <td>Native Remedies, LLC</td>\n",
       "    </tr>\n",
       "    <tr>\n",
       "      <th>0</th>\n",
       "      <td>Duet DHA</td>\n",
       "      <td>.BETA.-CAROTENE, ASCORBIC ACID, CHOLECALCIFERO...</td>\n",
       "      <td>WH Nutritionals, LLC</td>\n",
       "    </tr>\n",
       "    <tr>\n",
       "      <th>0</th>\n",
       "      <td>Vanilla Cupcake Anti Bacterial Foaming Hand</td>\n",
       "      <td>TRICLOSAN</td>\n",
       "      <td>Five Below</td>\n",
       "    </tr>\n",
       "    <tr>\n",
       "      <th>0</th>\n",
       "      <td>BICILLIN L-A</td>\n",
       "      <td>PENICILLIN G BENZATHINE</td>\n",
       "      <td>A-S Medication Solutions LLC</td>\n",
       "    </tr>\n",
       "    <tr>\n",
       "      <th>0</th>\n",
       "      <td>Academy Sports Outdoors SUNSCREEN CONTINUOUS B...</td>\n",
       "      <td>AVOBENZONE, OCTOCRYLENE, OXYBENZONE</td>\n",
       "      <td>Academy Ltd</td>\n",
       "    </tr>\n",
       "  </tbody>\n",
       "</table>\n",
       "</div>"
      ],
      "text/plain": [
       "                                          brand_name  \\\n",
       "0                                           VaricoGo   \n",
       "0                                           Duet DHA   \n",
       "0        Vanilla Cupcake Anti Bacterial Foaming Hand   \n",
       "0                                       BICILLIN L-A   \n",
       "0  Academy Sports Outdoors SUNSCREEN CONTINUOUS B...   \n",
       "\n",
       "                                        generic_name  \\\n",
       "0  AESCULUS HIPPOCASTANUM, ARNICA MONTANA, CALCAR...   \n",
       "0  .BETA.-CAROTENE, ASCORBIC ACID, CHOLECALCIFERO...   \n",
       "0                                          TRICLOSAN   \n",
       "0                            PENICILLIN G BENZATHINE   \n",
       "0                AVOBENZONE, OCTOCRYLENE, OXYBENZONE   \n",
       "\n",
       "              manufacturer_name  \n",
       "0          Native Remedies, LLC  \n",
       "0          WH Nutritionals, LLC  \n",
       "0                    Five Below  \n",
       "0  A-S Medication Solutions LLC  \n",
       "0                   Academy Ltd  "
      ]
     },
     "execution_count": 12,
     "metadata": {},
     "output_type": "execute_result"
    }
   ],
   "source": [
    "dataframes = []\n",
    "for frame in json_data:\n",
    "\n",
    "    # find all rows that have an open_fda dictionary that is non-empty\n",
    "    frame['fda'] = frame['openfda'].apply(lambda row: bool(row))\n",
    "\n",
    "    for fda in frame[frame.fda].openfda.values:\n",
    "        dataframes.append(pd.DataFrame(fix_dict(fda), index=[0]))\n",
    "\n",
    "df = pd.concat(dataframes)\n",
    "df.head()"
   ]
  },
  {
   "cell_type": "code",
   "execution_count": 15,
   "metadata": {
    "collapsed": false
   },
   "outputs": [
    {
     "name": "stdout",
     "output_type": "stream",
     "text": [
      "Drug brand and manufacturer table creation.ipynb\r\n",
      "\u001b[1m\u001b[36mdata\u001b[m\u001b[m/\r\n",
      "data.zip\r\n",
      "\u001b[1m\u001b[36mdata_unzipped\u001b[m\u001b[m/\r\n"
     ]
    }
   ],
   "source": [
    "#%ls"
   ]
  },
  {
   "cell_type": "code",
   "execution_count": 16,
   "metadata": {
    "collapsed": false
   },
   "outputs": [],
   "source": [
    "# save it to csv file\n",
    "#df.to_csv(r'drug_manufacturers.csv', index=False)"
   ]
  },
  {
   "cell_type": "code",
   "execution_count": 14,
   "metadata": {
    "collapsed": false
   },
   "outputs": [
    {
     "data": {
      "text/html": [
       "<div>\n",
       "<table border=\"1\" class=\"dataframe\">\n",
       "  <thead>\n",
       "    <tr style=\"text-align: right;\">\n",
       "      <th></th>\n",
       "      <th>brand_name</th>\n",
       "      <th>generic_name</th>\n",
       "      <th>manufacturer_name</th>\n",
       "    </tr>\n",
       "  </thead>\n",
       "  <tbody>\n",
       "    <tr>\n",
       "      <th>0</th>\n",
       "      <td>Budesonide (Enteric Coated)</td>\n",
       "      <td>BUDESONIDE</td>\n",
       "      <td>Teva Pharmaceuticals USA, Inc.</td>\n",
       "    </tr>\n",
       "    <tr>\n",
       "      <th>0</th>\n",
       "      <td>Mycophenolate Mofetil</td>\n",
       "      <td>MYCOPHENOLATE MOFETIL</td>\n",
       "      <td>Teva Pharmaceuticals USA Inc</td>\n",
       "    </tr>\n",
       "    <tr>\n",
       "      <th>0</th>\n",
       "      <td>Nicotinum</td>\n",
       "      <td>NICOTINE</td>\n",
       "      <td>Washington Homeopathic Products</td>\n",
       "    </tr>\n",
       "    <tr>\n",
       "      <th>0</th>\n",
       "      <td>CEFAZOLIN</td>\n",
       "      <td>CEFAZOLIN SODIUM</td>\n",
       "      <td>Cardinal Health</td>\n",
       "    </tr>\n",
       "    <tr>\n",
       "      <th>0</th>\n",
       "      <td>Lamotrigine</td>\n",
       "      <td>LAMOTRIGINE</td>\n",
       "      <td>Mylan Institutional Inc.</td>\n",
       "    </tr>\n",
       "  </tbody>\n",
       "</table>\n",
       "</div>"
      ],
      "text/plain": [
       "                    brand_name           generic_name  \\\n",
       "0  Budesonide (Enteric Coated)             BUDESONIDE   \n",
       "0        Mycophenolate Mofetil  MYCOPHENOLATE MOFETIL   \n",
       "0                    Nicotinum               NICOTINE   \n",
       "0                    CEFAZOLIN       CEFAZOLIN SODIUM   \n",
       "0                  Lamotrigine            LAMOTRIGINE   \n",
       "\n",
       "                 manufacturer_name  \n",
       "0   Teva Pharmaceuticals USA, Inc.  \n",
       "0     Teva Pharmaceuticals USA Inc  \n",
       "0  Washington Homeopathic Products  \n",
       "0                  Cardinal Health  \n",
       "0         Mylan Institutional Inc.  "
      ]
     },
     "execution_count": 14,
     "metadata": {},
     "output_type": "execute_result"
    }
   ],
   "source": [
    "df.tail()"
   ]
  },
  {
   "cell_type": "code",
   "execution_count": null,
   "metadata": {
    "collapsed": false
   },
   "outputs": [],
   "source": []
  },
  {
   "cell_type": "code",
   "execution_count": null,
   "metadata": {
    "collapsed": false
   },
   "outputs": [],
   "source": []
  },
  {
   "cell_type": "code",
   "execution_count": null,
   "metadata": {
    "collapsed": true
   },
   "outputs": [],
   "source": []
  },
  {
   "cell_type": "code",
   "execution_count": null,
   "metadata": {
    "collapsed": true
   },
   "outputs": [],
   "source": []
  },
  {
   "cell_type": "code",
   "execution_count": null,
   "metadata": {
    "collapsed": true
   },
   "outputs": [],
   "source": []
  },
  {
   "cell_type": "code",
   "execution_count": null,
   "metadata": {
    "collapsed": true
   },
   "outputs": [],
   "source": []
  },
  {
   "cell_type": "code",
   "execution_count": null,
   "metadata": {
    "collapsed": true
   },
   "outputs": [],
   "source": []
  },
  {
   "cell_type": "code",
   "execution_count": null,
   "metadata": {
    "collapsed": true
   },
   "outputs": [],
   "source": []
  },
  {
   "cell_type": "code",
   "execution_count": null,
   "metadata": {
    "collapsed": true
   },
   "outputs": [],
   "source": []
  },
  {
   "cell_type": "code",
   "execution_count": null,
   "metadata": {
    "collapsed": true
   },
   "outputs": [],
   "source": []
  },
  {
   "cell_type": "code",
   "execution_count": null,
   "metadata": {
    "collapsed": true
   },
   "outputs": [],
   "source": []
  },
  {
   "cell_type": "code",
   "execution_count": null,
   "metadata": {
    "collapsed": true
   },
   "outputs": [],
   "source": []
  },
  {
   "cell_type": "code",
   "execution_count": null,
   "metadata": {
    "collapsed": true
   },
   "outputs": [],
   "source": []
  },
  {
   "cell_type": "code",
   "execution_count": null,
   "metadata": {
    "collapsed": true
   },
   "outputs": [],
   "source": []
  },
  {
   "cell_type": "code",
   "execution_count": null,
   "metadata": {
    "collapsed": true
   },
   "outputs": [],
   "source": []
  }
 ],
 "metadata": {
  "anaconda-cloud": {},
  "kernelspec": {
   "display_name": "Python [conda root]",
   "language": "python",
   "name": "conda-root-py"
  },
  "language_info": {
   "codemirror_mode": {
    "name": "ipython",
    "version": 3
   },
   "file_extension": ".py",
   "mimetype": "text/x-python",
   "name": "python",
   "nbconvert_exporter": "python",
   "pygments_lexer": "ipython3",
   "version": "3.5.2"
  }
 },
 "nbformat": 4,
 "nbformat_minor": 1
}
