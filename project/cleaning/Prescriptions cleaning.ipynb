{
 "cells": [
  {
   "cell_type": "code",
   "execution_count": 1,
   "metadata": {
    "collapsed": true
   },
   "outputs": [],
   "source": [
    "import pandas as pd"
   ]
  },
  {
   "cell_type": "code",
   "execution_count": 2,
   "metadata": {
    "collapsed": true
   },
   "outputs": [],
   "source": [
    "prescriptions = pd.read_csv(r'../data_unzipped/PartD_13/PARTD_PRESCRIBER_PUF_NPI_DRUG_13.tab', delimiter='\\t')\n",
    "drugs = pd.read_csv(r'../drug_manufacturers_cleaned.csv')"
   ]
  },
  {
   "cell_type": "code",
   "execution_count": 3,
   "metadata": {
    "collapsed": false,
    "scrolled": true
   },
   "outputs": [
    {
     "data": {
      "text/html": [
       "<div>\n",
       "<table border=\"1\" class=\"dataframe\">\n",
       "  <thead>\n",
       "    <tr style=\"text-align: right;\">\n",
       "      <th></th>\n",
       "      <th>NPI</th>\n",
       "      <th>NPPES_PROVIDER_LAST_ORG_NAME</th>\n",
       "      <th>NPPES_PROVIDER_FIRST_NAME</th>\n",
       "      <th>NPPES_PROVIDER_CITY</th>\n",
       "      <th>NPPES_PROVIDER_STATE</th>\n",
       "      <th>SPECIALTY_DESC</th>\n",
       "      <th>DESCRIPTION_FLAG</th>\n",
       "      <th>DRUG_NAME</th>\n",
       "      <th>GENERIC_NAME</th>\n",
       "      <th>BENE_COUNT</th>\n",
       "      <th>TOTAL_CLAIM_COUNT</th>\n",
       "      <th>TOTAL_DAY_SUPPLY</th>\n",
       "      <th>TOTAL_DRUG_COST</th>\n",
       "      <th>BENE_COUNT_GE65</th>\n",
       "      <th>BENE_COUNT_GE65_REDACT_FLAG</th>\n",
       "      <th>TOTAL_CLAIM_COUNT_GE65</th>\n",
       "      <th>GE65_REDACT_FLAG</th>\n",
       "      <th>TOTAL_DAY_SUPPLY_GE65</th>\n",
       "      <th>TOTAL_DRUG_COST_GE65</th>\n",
       "    </tr>\n",
       "  </thead>\n",
       "  <tbody>\n",
       "    <tr>\n",
       "      <th>0</th>\n",
       "      <td>1821285826</td>\n",
       "      <td>21ST CENTURY ONCOLOGY LLC</td>\n",
       "      <td>NaN</td>\n",
       "      <td>AVENTURA</td>\n",
       "      <td>FL</td>\n",
       "      <td>Urology</td>\n",
       "      <td>S</td>\n",
       "      <td>TAMSULOSIN HCL</td>\n",
       "      <td>TAMSULOSIN HCL</td>\n",
       "      <td>NaN</td>\n",
       "      <td>12</td>\n",
       "      <td>360</td>\n",
       "      <td>142.14</td>\n",
       "      <td>NaN</td>\n",
       "      <td>*</td>\n",
       "      <td>NaN</td>\n",
       "      <td>*</td>\n",
       "      <td>NaN</td>\n",
       "      <td>NaN</td>\n",
       "    </tr>\n",
       "    <tr>\n",
       "      <th>1</th>\n",
       "      <td>1093969024</td>\n",
       "      <td>A PRESTIGE WELLNESS CENTER, PA</td>\n",
       "      <td>NaN</td>\n",
       "      <td>DORAL</td>\n",
       "      <td>FL</td>\n",
       "      <td>Internal Medicine</td>\n",
       "      <td>S</td>\n",
       "      <td>PANTOPRAZOLE SODIUM</td>\n",
       "      <td>PANTOPRAZOLE SODIUM</td>\n",
       "      <td>NaN</td>\n",
       "      <td>12</td>\n",
       "      <td>360</td>\n",
       "      <td>196.37</td>\n",
       "      <td>NaN</td>\n",
       "      <td>*</td>\n",
       "      <td>NaN</td>\n",
       "      <td>*</td>\n",
       "      <td>NaN</td>\n",
       "      <td>NaN</td>\n",
       "    </tr>\n",
       "    <tr>\n",
       "      <th>2</th>\n",
       "      <td>1518048750</td>\n",
       "      <td>A VILES</td>\n",
       "      <td>OMAR</td>\n",
       "      <td>MINEOLA</td>\n",
       "      <td>NY</td>\n",
       "      <td>Pediatric Medicine</td>\n",
       "      <td>S</td>\n",
       "      <td>VENLAFAXINE HCL ER</td>\n",
       "      <td>VENLAFAXINE HCL</td>\n",
       "      <td>NaN</td>\n",
       "      <td>12</td>\n",
       "      <td>360</td>\n",
       "      <td>161.69</td>\n",
       "      <td>0.0</td>\n",
       "      <td>NaN</td>\n",
       "      <td>0.0</td>\n",
       "      <td>NaN</td>\n",
       "      <td>0.0</td>\n",
       "      <td>0.0</td>\n",
       "    </tr>\n",
       "    <tr>\n",
       "      <th>3</th>\n",
       "      <td>1952310666</td>\n",
       "      <td>A'BODJEDI</td>\n",
       "      <td>ENENGE</td>\n",
       "      <td>STAMFORD</td>\n",
       "      <td>CT</td>\n",
       "      <td>Psychiatry</td>\n",
       "      <td>S</td>\n",
       "      <td>ABILIFY</td>\n",
       "      <td>ARIPIPRAZOLE</td>\n",
       "      <td>NaN</td>\n",
       "      <td>14</td>\n",
       "      <td>420</td>\n",
       "      <td>12705.73</td>\n",
       "      <td>0.0</td>\n",
       "      <td>NaN</td>\n",
       "      <td>0.0</td>\n",
       "      <td>NaN</td>\n",
       "      <td>0.0</td>\n",
       "      <td>0.0</td>\n",
       "    </tr>\n",
       "    <tr>\n",
       "      <th>4</th>\n",
       "      <td>1952310666</td>\n",
       "      <td>A'BODJEDI</td>\n",
       "      <td>ENENGE</td>\n",
       "      <td>STAMFORD</td>\n",
       "      <td>CT</td>\n",
       "      <td>Psychiatry</td>\n",
       "      <td>S</td>\n",
       "      <td>ALENDRONATE SODIUM</td>\n",
       "      <td>ALENDRONATE SODIUM</td>\n",
       "      <td>NaN</td>\n",
       "      <td>17</td>\n",
       "      <td>480</td>\n",
       "      <td>107.83</td>\n",
       "      <td>NaN</td>\n",
       "      <td>#</td>\n",
       "      <td>NaN</td>\n",
       "      <td>#</td>\n",
       "      <td>NaN</td>\n",
       "      <td>NaN</td>\n",
       "    </tr>\n",
       "  </tbody>\n",
       "</table>\n",
       "</div>"
      ],
      "text/plain": [
       "          NPI    NPPES_PROVIDER_LAST_ORG_NAME NPPES_PROVIDER_FIRST_NAME  \\\n",
       "0  1821285826       21ST CENTURY ONCOLOGY LLC                       NaN   \n",
       "1  1093969024  A PRESTIGE WELLNESS CENTER, PA                       NaN   \n",
       "2  1518048750                         A VILES                      OMAR   \n",
       "3  1952310666                       A'BODJEDI                    ENENGE   \n",
       "4  1952310666                       A'BODJEDI                    ENENGE   \n",
       "\n",
       "  NPPES_PROVIDER_CITY NPPES_PROVIDER_STATE      SPECIALTY_DESC  \\\n",
       "0            AVENTURA                   FL             Urology   \n",
       "1               DORAL                   FL   Internal Medicine   \n",
       "2             MINEOLA                   NY  Pediatric Medicine   \n",
       "3            STAMFORD                   CT          Psychiatry   \n",
       "4            STAMFORD                   CT          Psychiatry   \n",
       "\n",
       "  DESCRIPTION_FLAG            DRUG_NAME         GENERIC_NAME  BENE_COUNT  \\\n",
       "0                S       TAMSULOSIN HCL       TAMSULOSIN HCL         NaN   \n",
       "1                S  PANTOPRAZOLE SODIUM  PANTOPRAZOLE SODIUM         NaN   \n",
       "2                S   VENLAFAXINE HCL ER      VENLAFAXINE HCL         NaN   \n",
       "3                S              ABILIFY         ARIPIPRAZOLE         NaN   \n",
       "4                S   ALENDRONATE SODIUM   ALENDRONATE SODIUM         NaN   \n",
       "\n",
       "   TOTAL_CLAIM_COUNT  TOTAL_DAY_SUPPLY  TOTAL_DRUG_COST  BENE_COUNT_GE65  \\\n",
       "0                 12               360           142.14              NaN   \n",
       "1                 12               360           196.37              NaN   \n",
       "2                 12               360           161.69              0.0   \n",
       "3                 14               420         12705.73              0.0   \n",
       "4                 17               480           107.83              NaN   \n",
       "\n",
       "  BENE_COUNT_GE65_REDACT_FLAG  TOTAL_CLAIM_COUNT_GE65 GE65_REDACT_FLAG  \\\n",
       "0                           *                     NaN                *   \n",
       "1                           *                     NaN                *   \n",
       "2                         NaN                     0.0              NaN   \n",
       "3                         NaN                     0.0              NaN   \n",
       "4                           #                     NaN                #   \n",
       "\n",
       "   TOTAL_DAY_SUPPLY_GE65  TOTAL_DRUG_COST_GE65  \n",
       "0                    NaN                   NaN  \n",
       "1                    NaN                   NaN  \n",
       "2                    0.0                   0.0  \n",
       "3                    0.0                   0.0  \n",
       "4                    NaN                   NaN  "
      ]
     },
     "execution_count": 3,
     "metadata": {},
     "output_type": "execute_result"
    }
   ],
   "source": [
    "prescriptions.head()"
   ]
  },
  {
   "cell_type": "markdown",
   "metadata": {},
   "source": [
    "\n"
   ]
  },
  {
   "cell_type": "markdown",
   "metadata": {},
   "source": [
    "\n"
   ]
  },
  {
   "cell_type": "markdown",
   "metadata": {},
   "source": [
    "From earlier analysis we know that the top 225 drugs cover 90% of all claims.\n",
    "\n",
    "Let's try and tie the drug names to manufacturers who make them."
   ]
  },
  {
   "cell_type": "code",
   "execution_count": 4,
   "metadata": {
    "collapsed": false
   },
   "outputs": [
    {
     "data": {
      "text/plain": [
       "2738"
      ]
     },
     "execution_count": 4,
     "metadata": {},
     "output_type": "execute_result"
    }
   ],
   "source": [
    "len(prescriptions.DRUG_NAME.unique())"
   ]
  },
  {
   "cell_type": "code",
   "execution_count": 5,
   "metadata": {
    "collapsed": false
   },
   "outputs": [
    {
     "data": {
      "text/plain": [
       "39188"
      ]
     },
     "execution_count": 5,
     "metadata": {},
     "output_type": "execute_result"
    }
   ],
   "source": [
    "len(drugs.brand_name.unique())"
   ]
  },
  {
   "cell_type": "code",
   "execution_count": 6,
   "metadata": {
    "collapsed": true
   },
   "outputs": [],
   "source": [
    "drugs.brand_name = drugs.brand_name.str.upper()"
   ]
  },
  {
   "cell_type": "markdown",
   "metadata": {
    "collapsed": true
   },
   "source": [
    "\n"
   ]
  },
  {
   "cell_type": "markdown",
   "metadata": {
    "collapsed": true
   },
   "source": [
    "\n"
   ]
  },
  {
   "cell_type": "code",
   "execution_count": 7,
   "metadata": {
    "collapsed": false
   },
   "outputs": [
    {
     "data": {
      "text/plain": [
       "39188"
      ]
     },
     "execution_count": 7,
     "metadata": {},
     "output_type": "execute_result"
    }
   ],
   "source": [
    "len(drugs.brand_name.drop_duplicates())"
   ]
  },
  {
   "cell_type": "code",
   "execution_count": 8,
   "metadata": {
    "collapsed": false
   },
   "outputs": [
    {
     "data": {
      "text/plain": [
       "0.70233747260774293"
      ]
     },
     "execution_count": 8,
     "metadata": {},
     "output_type": "execute_result"
    }
   ],
   "source": [
    "sum(drugs.brand_name.drop_duplicates().isin(prescriptions.DRUG_NAME.unique())) / len(prescriptions.DRUG_NAME.unique())"
   ]
  },
  {
   "cell_type": "code",
   "execution_count": 9,
   "metadata": {
    "collapsed": false
   },
   "outputs": [
    {
     "data": {
      "text/plain": [
       "0.53367217280813217"
      ]
     },
     "execution_count": 9,
     "metadata": {},
     "output_type": "execute_result"
    }
   ],
   "source": [
    "sum(drugs.generic_name.drop_duplicates().isin(prescriptions.GENERIC_NAME.unique())) / len(prescriptions.GENERIC_NAME.unique())"
   ]
  },
  {
   "cell_type": "markdown",
   "metadata": {},
   "source": [
    " \n",
    " "
   ]
  },
  {
   "cell_type": "markdown",
   "metadata": {},
   "source": [
    "So based solely on the brand name we've got pretty good coverage of the prescriptions."
   ]
  },
  {
   "cell_type": "markdown",
   "metadata": {},
   "source": [
    "The interesting problem here is that a single brand name drug can be made by multiple manufacturers"
   ]
  },
  {
   "cell_type": "code",
   "execution_count": 10,
   "metadata": {
    "collapsed": false
   },
   "outputs": [
    {
     "data": {
      "text/plain": [
       "OXYGEN                     664\n",
       "IBUPROFEN                  505\n",
       "GABAPENTIN                 294\n",
       "METFORMIN HYDROCHLORIDE    247\n",
       "LISINOPRIL                 239\n",
       "Name: brand_name, dtype: int64"
      ]
     },
     "execution_count": 10,
     "metadata": {},
     "output_type": "execute_result"
    }
   ],
   "source": [
    "drugs.brand_name.value_counts().sort_values(ascending=False)[:5]"
   ]
  },
  {
   "cell_type": "code",
   "execution_count": 11,
   "metadata": {
    "collapsed": false
   },
   "outputs": [
    {
     "data": {
      "text/plain": [
       "30514"
      ]
     },
     "execution_count": 11,
     "metadata": {},
     "output_type": "execute_result"
    }
   ],
   "source": [
    "sum(drugs.brand_name.value_counts() == 1)"
   ]
  },
  {
   "cell_type": "code",
   "execution_count": 12,
   "metadata": {
    "collapsed": false
   },
   "outputs": [
    {
     "data": {
      "text/plain": [
       "8673"
      ]
     },
     "execution_count": 12,
     "metadata": {},
     "output_type": "execute_result"
    }
   ],
   "source": [
    "sum(drugs.brand_name.value_counts() != 1)"
   ]
  },
  {
   "cell_type": "markdown",
   "metadata": {},
   "source": [
    "Good thing is that the majority of brand name drugs have a single manufacturer, the real question is how likely is it that drug manufacturers are making payments to doctors who are the only manufacturer of that drug? Under their brand name it may be likely. \n",
    "\n",
    "Let's see what the counts are like on the drugs that exist in the prescription dataset."
   ]
  },
  {
   "cell_type": "code",
   "execution_count": 13,
   "metadata": {
    "collapsed": false
   },
   "outputs": [
    {
     "data": {
      "text/plain": [
       "674"
      ]
     },
     "execution_count": 13,
     "metadata": {},
     "output_type": "execute_result"
    }
   ],
   "source": [
    "sum(drugs[drugs.brand_name.isin(prescriptions.DRUG_NAME.unique())].brand_name.value_counts() == 1)"
   ]
  },
  {
   "cell_type": "code",
   "execution_count": 14,
   "metadata": {
    "collapsed": false
   },
   "outputs": [
    {
     "data": {
      "text/plain": [
       "1248"
      ]
     },
     "execution_count": 14,
     "metadata": {},
     "output_type": "execute_result"
    }
   ],
   "source": [
    "sum(drugs[drugs.brand_name.isin(prescriptions.DRUG_NAME.unique())].brand_name.value_counts() != 1)"
   ]
  },
  {
   "cell_type": "markdown",
   "metadata": {},
   "source": [
    "So the majority of these prescriptions have multiple manufacturers"
   ]
  },
  {
   "cell_type": "code",
   "execution_count": null,
   "metadata": {
    "collapsed": true
   },
   "outputs": [],
   "source": []
  },
  {
   "cell_type": "code",
   "execution_count": 15,
   "metadata": {
    "collapsed": true
   },
   "outputs": [],
   "source": [
    "prescription_set = prescriptions.groupby(['NPI', 'DRUG_NAME']\n",
    "                                        ).agg({'TOTAL_CLAIM_COUNT': 'sum', \n",
    "                                               'TOTAL_DAY_SUPPLY': 'sum', \n",
    "                                               'TOTAL_DRUG_COST': 'sum'})"
   ]
  },
  {
   "cell_type": "code",
   "execution_count": 16,
   "metadata": {
    "collapsed": false
   },
   "outputs": [
    {
     "data": {
      "text/html": [
       "<div>\n",
       "<table border=\"1\" class=\"dataframe\">\n",
       "  <thead>\n",
       "    <tr style=\"text-align: right;\">\n",
       "      <th></th>\n",
       "      <th></th>\n",
       "      <th>TOTAL_CLAIM_COUNT</th>\n",
       "      <th>TOTAL_DAY_SUPPLY</th>\n",
       "      <th>TOTAL_DRUG_COST</th>\n",
       "    </tr>\n",
       "    <tr>\n",
       "      <th>NPI</th>\n",
       "      <th>DRUG_NAME</th>\n",
       "      <th></th>\n",
       "      <th></th>\n",
       "      <th></th>\n",
       "    </tr>\n",
       "  </thead>\n",
       "  <tbody>\n",
       "    <tr>\n",
       "      <th rowspan=\"5\" valign=\"top\">1003000126</th>\n",
       "      <th>ISOSORBIDE MONONITRATE ER</th>\n",
       "      <td>11</td>\n",
       "      <td>307</td>\n",
       "      <td>171.59</td>\n",
       "    </tr>\n",
       "    <tr>\n",
       "      <th>LEVOFLOXACIN</th>\n",
       "      <td>26</td>\n",
       "      <td>165</td>\n",
       "      <td>227.10</td>\n",
       "    </tr>\n",
       "    <tr>\n",
       "      <th>LISINOPRIL</th>\n",
       "      <td>19</td>\n",
       "      <td>570</td>\n",
       "      <td>100.37</td>\n",
       "    </tr>\n",
       "    <tr>\n",
       "      <th>METOPROLOL TARTRATE</th>\n",
       "      <td>30</td>\n",
       "      <td>916</td>\n",
       "      <td>154.65</td>\n",
       "    </tr>\n",
       "    <tr>\n",
       "      <th>PREDNISONE</th>\n",
       "      <td>14</td>\n",
       "      <td>133</td>\n",
       "      <td>44.72</td>\n",
       "    </tr>\n",
       "  </tbody>\n",
       "</table>\n",
       "</div>"
      ],
      "text/plain": [
       "                                      TOTAL_CLAIM_COUNT  TOTAL_DAY_SUPPLY  \\\n",
       "NPI        DRUG_NAME                                                        \n",
       "1003000126 ISOSORBIDE MONONITRATE ER                 11               307   \n",
       "           LEVOFLOXACIN                              26               165   \n",
       "           LISINOPRIL                                19               570   \n",
       "           METOPROLOL TARTRATE                       30               916   \n",
       "           PREDNISONE                                14               133   \n",
       "\n",
       "                                      TOTAL_DRUG_COST  \n",
       "NPI        DRUG_NAME                                   \n",
       "1003000126 ISOSORBIDE MONONITRATE ER           171.59  \n",
       "           LEVOFLOXACIN                        227.10  \n",
       "           LISINOPRIL                          100.37  \n",
       "           METOPROLOL TARTRATE                 154.65  \n",
       "           PREDNISONE                           44.72  "
      ]
     },
     "execution_count": 16,
     "metadata": {},
     "output_type": "execute_result"
    }
   ],
   "source": [
    "prescription_set.head()"
   ]
  },
  {
   "cell_type": "code",
   "execution_count": 17,
   "metadata": {
    "collapsed": true
   },
   "outputs": [],
   "source": [
    "# prescription_set.to_csv(r'prescription_data_npi_13.csv')"
   ]
  },
  {
   "cell_type": "code",
   "execution_count": null,
   "metadata": {
    "collapsed": true
   },
   "outputs": [],
   "source": []
  }
 ],
 "metadata": {
  "anaconda-cloud": {},
  "kernelspec": {
   "display_name": "Python [conda root]",
   "language": "python",
   "name": "conda-root-py"
  },
  "language_info": {
   "codemirror_mode": {
    "name": "ipython",
    "version": 3
   },
   "file_extension": ".py",
   "mimetype": "text/x-python",
   "name": "python",
   "nbconvert_exporter": "python",
   "pygments_lexer": "ipython3",
   "version": "3.5.2"
  }
 },
 "nbformat": 4,
 "nbformat_minor": 1
}
