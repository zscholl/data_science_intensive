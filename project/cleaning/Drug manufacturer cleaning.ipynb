{
 "cells": [
  {
   "cell_type": "code",
   "execution_count": 4,
   "metadata": {
    "collapsed": true
   },
   "outputs": [],
   "source": [
    "import pandas as pd"
   ]
  },
  {
   "cell_type": "code",
   "execution_count": 5,
   "metadata": {
    "collapsed": false
   },
   "outputs": [
    {
     "name": "stderr",
     "output_type": "stream",
     "text": [
      "/Users/zakscholl/anaconda3/lib/python3.5/site-packages/IPython/core/interactiveshell.py:2717: DtypeWarning: Columns (11,12,18,19) have mixed types. Specify dtype option on import or set low_memory=False.\n",
      "  interactivity=interactivity, compiler=compiler, result=result)\n"
     ]
    }
   ],
   "source": [
    "prescriptions = pd.read_csv(r'../data_unzipped/PartD_13/PARTD_PRESCRIBER_PUF_NPI_DRUG_13.tab', delimiter='\\t')\n",
    "payments = pd.read_csv(r'payments_with_npi_13.csv')"
   ]
  },
  {
   "cell_type": "code",
   "execution_count": 6,
   "metadata": {
    "collapsed": false
   },
   "outputs": [
    {
     "data": {
      "text/plain": [
       "7899437"
      ]
     },
     "execution_count": 6,
     "metadata": {},
     "output_type": "execute_result"
    }
   ],
   "source": [
    "# find the number of prescription rows I have with payments that have NPIs\n",
    "len(prescriptions[prescriptions.NPI.isin(payments.NPI)])"
   ]
  },
  {
   "cell_type": "code",
   "execution_count": 156,
   "metadata": {
    "collapsed": true
   },
   "outputs": [],
   "source": [
    "# TODO: get the drug names for each manufacturer with payments in this set\n",
    "drugs = pd.read_csv(r'../drug_manufacturers.csv')"
   ]
  },
  {
   "cell_type": "code",
   "execution_count": 20,
   "metadata": {
    "collapsed": false
   },
   "outputs": [
    {
     "data": {
      "text/html": [
       "<div>\n",
       "<table border=\"1\" class=\"dataframe\">\n",
       "  <thead>\n",
       "    <tr style=\"text-align: right;\">\n",
       "      <th></th>\n",
       "      <th>brand_name</th>\n",
       "      <th>generic_name</th>\n",
       "      <th>manufacturer_name</th>\n",
       "    </tr>\n",
       "  </thead>\n",
       "  <tbody>\n",
       "    <tr>\n",
       "      <th>2706</th>\n",
       "      <td>BUSULFEX</td>\n",
       "      <td>BUSULFAN</td>\n",
       "      <td>Otsuka America Pharmaceutical, Inc.</td>\n",
       "    </tr>\n",
       "    <tr>\n",
       "      <th>55970</th>\n",
       "      <td>SAMSCA</td>\n",
       "      <td>TOLVAPTAN</td>\n",
       "      <td>Otsuka America Pharmaceutical Inc.</td>\n",
       "    </tr>\n",
       "    <tr>\n",
       "      <th>72625</th>\n",
       "      <td>REXULTI</td>\n",
       "      <td>BREXPIPRAZOLE</td>\n",
       "      <td>Otsuka America Pharmaceutical, Inc.</td>\n",
       "    </tr>\n",
       "    <tr>\n",
       "      <th>73697</th>\n",
       "      <td>PLETAL</td>\n",
       "      <td>CILOSTAZOL</td>\n",
       "      <td>Otsuka America Pharmaceutical, Inc.</td>\n",
       "    </tr>\n",
       "    <tr>\n",
       "      <th>76569</th>\n",
       "      <td>Dacogen</td>\n",
       "      <td>DECITABINE</td>\n",
       "      <td>Otsuka America Pharmaceutical, Inc.</td>\n",
       "    </tr>\n",
       "  </tbody>\n",
       "</table>\n",
       "</div>"
      ],
      "text/plain": [
       "      brand_name   generic_name                    manufacturer_name\n",
       "2706    BUSULFEX       BUSULFAN  Otsuka America Pharmaceutical, Inc.\n",
       "55970     SAMSCA      TOLVAPTAN   Otsuka America Pharmaceutical Inc.\n",
       "72625    REXULTI  BREXPIPRAZOLE  Otsuka America Pharmaceutical, Inc.\n",
       "73697     PLETAL     CILOSTAZOL  Otsuka America Pharmaceutical, Inc.\n",
       "76569    Dacogen     DECITABINE  Otsuka America Pharmaceutical, Inc."
      ]
     },
     "execution_count": 20,
     "metadata": {},
     "output_type": "execute_result"
    }
   ],
   "source": [
    "drugs[drugs.manufacturer_name.str.contains('Otsuka')]"
   ]
  },
  {
   "cell_type": "code",
   "execution_count": 11,
   "metadata": {
    "collapsed": false
   },
   "outputs": [
    {
     "data": {
      "text/plain": [
       "0                  FOREST PHARMACEUTICALS, INC.\n",
       "1                  FOREST PHARMACEUTICALS, INC.\n",
       "2                  FOREST PHARMACEUTICALS, INC.\n",
       "3           Otsuka America Pharmaceutical, Inc.\n",
       "4    Boehringer Ingelheim Pharmaceuticals, Inc.\n",
       "Name: Applicable_Manufacturer_or_Applicable_GPO_Making_Payment_Name, dtype: object"
      ]
     },
     "execution_count": 11,
     "metadata": {},
     "output_type": "execute_result"
    }
   ],
   "source": [
    "payments['Applicable_Manufacturer_or_Applicable_GPO_Making_Payment_Name'].head()"
   ]
  },
  {
   "cell_type": "code",
   "execution_count": null,
   "metadata": {
    "collapsed": true
   },
   "outputs": [],
   "source": [
    "# remove punctuation and case when merging the payments data set with drug manufacturers\n",
    "\n",
    "# find number of drug manufacturers needed to cover 90% of the payments\n",
    "\n",
    "# Forest Pharmaceuticals -> Forest Laboratories"
   ]
  },
  {
   "cell_type": "code",
   "execution_count": 26,
   "metadata": {
    "collapsed": false
   },
   "outputs": [
    {
     "data": {
      "text/plain": [
       "0.9001817236793079"
      ]
     },
     "execution_count": 26,
     "metadata": {},
     "output_type": "execute_result"
    }
   ],
   "source": [
    "payments['Applicable_Manufacturer_or_Applicable_GPO_Making_Payment_Name'].value_counts(\n",
    "    normalize=True).sort_values(ascending=False)[:115].sum()"
   ]
  },
  {
   "cell_type": "markdown",
   "metadata": {
    "collapsed": true
   },
   "source": [
    "Top 115 payment makers cover 90% of the payments"
   ]
  },
  {
   "cell_type": "markdown",
   "metadata": {},
   "source": [
    "Goal is to make sure all of those are accurately merged with the manufacturers dataset"
   ]
  },
  {
   "cell_type": "code",
   "execution_count": 70,
   "metadata": {
    "collapsed": false
   },
   "outputs": [],
   "source": [
    "top_payers = payments['Applicable_Manufacturer_or_Applicable_GPO_Making_Payment_Name'].value_counts(\n",
    "    normalize=True).sort_values(ascending=False)[:115]"
   ]
  },
  {
   "cell_type": "code",
   "execution_count": 71,
   "metadata": {
    "collapsed": false
   },
   "outputs": [
    {
     "data": {
      "text/plain": [
       "43"
      ]
     },
     "execution_count": 71,
     "metadata": {},
     "output_type": "execute_result"
    }
   ],
   "source": [
    "sum(top_payers.index.isin(drugs.manufacturer_name))"
   ]
  },
  {
   "cell_type": "markdown",
   "metadata": {},
   "source": [
    "So off the bat not many of the top payers match the manufacturers in the drug dataset"
   ]
  },
  {
   "cell_type": "markdown",
   "metadata": {},
   "source": [
    "I'm betting it has to do with punctuation and case inconsistency, so I'll adjust that first to see if we can get better coverage"
   ]
  },
  {
   "cell_type": "code",
   "execution_count": 72,
   "metadata": {
    "collapsed": false
   },
   "outputs": [
    {
     "data": {
      "text/plain": [
       "FOREST PHARMACEUTICALS, INC.      0.054110\n",
       "AstraZeneca Pharmaceuticals LP    0.051373\n",
       "Novo Nordisk Inc                  0.047950\n",
       "Pfizer Inc.                       0.043880\n",
       "Janssen Pharmaceuticals, Inc      0.038103\n",
       "Name: Applicable_Manufacturer_or_Applicable_GPO_Making_Payment_Name, dtype: float64"
      ]
     },
     "execution_count": 72,
     "metadata": {},
     "output_type": "execute_result"
    }
   ],
   "source": [
    "top_payers[:5]"
   ]
  },
  {
   "cell_type": "code",
   "execution_count": 73,
   "metadata": {
    "collapsed": false
   },
   "outputs": [],
   "source": [
    "top_payers.index = top_payers.index.str.replace('[^\\w\\s]', '')\n",
    "top_payers.index = top_payers.index.str.lower()"
   ]
  },
  {
   "cell_type": "code",
   "execution_count": 74,
   "metadata": {
    "collapsed": false
   },
   "outputs": [
    {
     "data": {
      "text/plain": [
       "forest pharmaceuticals inc        0.054110\n",
       "astrazeneca pharmaceuticals lp    0.051373\n",
       "novo nordisk inc                  0.047950\n",
       "pfizer inc                        0.043880\n",
       "janssen pharmaceuticals inc       0.038103\n",
       "Name: Applicable_Manufacturer_or_Applicable_GPO_Making_Payment_Name, dtype: float64"
      ]
     },
     "execution_count": 74,
     "metadata": {},
     "output_type": "execute_result"
    }
   ],
   "source": [
    "top_payers[:5]"
   ]
  },
  {
   "cell_type": "code",
   "execution_count": null,
   "metadata": {
    "collapsed": true
   },
   "outputs": [],
   "source": []
  },
  {
   "cell_type": "code",
   "execution_count": 157,
   "metadata": {
    "collapsed": false
   },
   "outputs": [],
   "source": [
    "drugs['cleaned'] = drugs.manufacturer_name.str.lower()"
   ]
  },
  {
   "cell_type": "code",
   "execution_count": 158,
   "metadata": {
    "collapsed": true
   },
   "outputs": [],
   "source": [
    "drugs['cleaned'] = drugs.cleaned.str.replace('[^\\w\\s]', '')"
   ]
  },
  {
   "cell_type": "code",
   "execution_count": 159,
   "metadata": {
    "collapsed": false
   },
   "outputs": [
    {
     "data": {
      "text/plain": [
       "0            native remedies llc\n",
       "1            wh nutritionals llc\n",
       "2                     five below\n",
       "3    as medication solutions llc\n",
       "4                    academy ltd\n",
       "Name: cleaned, dtype: object"
      ]
     },
     "execution_count": 159,
     "metadata": {},
     "output_type": "execute_result"
    }
   ],
   "source": [
    "drugs.cleaned[:5]"
   ]
  },
  {
   "cell_type": "code",
   "execution_count": null,
   "metadata": {
    "collapsed": true
   },
   "outputs": [],
   "source": []
  },
  {
   "cell_type": "code",
   "execution_count": null,
   "metadata": {
    "collapsed": true
   },
   "outputs": [],
   "source": []
  },
  {
   "cell_type": "code",
   "execution_count": 78,
   "metadata": {
    "collapsed": false
   },
   "outputs": [
    {
     "data": {
      "text/plain": [
       "62"
      ]
     },
     "execution_count": 78,
     "metadata": {},
     "output_type": "execute_result"
    }
   ],
   "source": [
    "sum(top_payers.index.isin(drugs.cleaned))"
   ]
  },
  {
   "cell_type": "code",
   "execution_count": 103,
   "metadata": {
    "collapsed": false
   },
   "outputs": [
    {
     "data": {
      "text/plain": [
       "0.59215543958772099"
      ]
     },
     "execution_count": 103,
     "metadata": {},
     "output_type": "execute_result"
    }
   ],
   "source": [
    "sum(top_payers[top_payers.index.isin(drugs.cleaned)])"
   ]
  },
  {
   "cell_type": "markdown",
   "metadata": {
    "collapsed": true
   },
   "source": [
    "So now we're at just over half in terms of number and percentage, which isn't so bad. But I'd like to see if we can easily bump that up"
   ]
  },
  {
   "cell_type": "code",
   "execution_count": 80,
   "metadata": {
    "collapsed": false
   },
   "outputs": [
    {
     "data": {
      "text/plain": [
       "1700"
      ]
     },
     "execution_count": 80,
     "metadata": {},
     "output_type": "execute_result"
    }
   ],
   "source": [
    "len(drugs[drugs.cleaned.isin(top_payers.index)])"
   ]
  },
  {
   "cell_type": "markdown",
   "metadata": {
    "collapsed": true
   },
   "source": [
    "This encompasses about 1700 different prescription drugs. Probably not a bad sample that we can go ahead with, but I want to manually check a few of the ones that aren't matching...see if there is some commanality among them that we can overcome."
   ]
  },
  {
   "cell_type": "code",
   "execution_count": 102,
   "metadata": {
    "collapsed": false
   },
   "outputs": [
    {
     "data": {
      "text/plain": [
       "forest pharmaceuticals inc        0.054110\n",
       "novo nordisk inc                  0.047950\n",
       "lilly usa llc                     0.032739\n",
       "merck sharp  dohme corporation    0.016893\n",
       "horizon pharma usa inc            0.011651\n",
       "genentech usa inc                 0.011625\n",
       "warner chilcott llc               0.009874\n",
       "boston scientific corporation     0.008685\n",
       "shire us holdings                 0.008367\n",
       "medtronic vascular inc            0.008092\n",
       "Name: Applicable_Manufacturer_or_Applicable_GPO_Making_Payment_Name, dtype: float64"
      ]
     },
     "execution_count": 102,
     "metadata": {},
     "output_type": "execute_result"
    }
   ],
   "source": [
    "top_payers[~top_payers.index.isin(drugs.cleaned)][:10]"
   ]
  },
  {
   "cell_type": "markdown",
   "metadata": {
    "collapsed": true
   },
   "source": [
    "Well I know that the top case is because \"Forest Pharmaceuticals\" is the company name, but they manufacture under \"Forest Laboratories\""
   ]
  },
  {
   "cell_type": "code",
   "execution_count": 95,
   "metadata": {
    "collapsed": false
   },
   "outputs": [
    {
     "data": {
      "text/html": [
       "<div>\n",
       "<table border=\"1\" class=\"dataframe\">\n",
       "  <thead>\n",
       "    <tr style=\"text-align: right;\">\n",
       "      <th></th>\n",
       "      <th>brand_name</th>\n",
       "      <th>generic_name</th>\n",
       "      <th>manufacturer_name</th>\n",
       "      <th>cleaned</th>\n",
       "    </tr>\n",
       "  </thead>\n",
       "  <tbody>\n",
       "    <tr>\n",
       "      <th>53413</th>\n",
       "      <td>Xultophy 100/3.6</td>\n",
       "      <td>(INSULIN DEGLUDEC AND LIRAGLUTIDE)</td>\n",
       "      <td>Novo Nordisk</td>\n",
       "      <td>novo nordisk</td>\n",
       "    </tr>\n",
       "    <tr>\n",
       "      <th>55461</th>\n",
       "      <td>Vagifem</td>\n",
       "      <td>ESTRADIOL</td>\n",
       "      <td>Novo Nordisk</td>\n",
       "      <td>novo nordisk</td>\n",
       "    </tr>\n",
       "    <tr>\n",
       "      <th>62986</th>\n",
       "      <td>NovoLog</td>\n",
       "      <td>INSULIN ASPART</td>\n",
       "      <td>Novo Nordisk</td>\n",
       "      <td>novo nordisk</td>\n",
       "    </tr>\n",
       "    <tr>\n",
       "      <th>64388</th>\n",
       "      <td>Novolin 70/30</td>\n",
       "      <td>HUMAN INSULIN</td>\n",
       "      <td>Novo Nordisk</td>\n",
       "      <td>novo nordisk</td>\n",
       "    </tr>\n",
       "    <tr>\n",
       "      <th>65363</th>\n",
       "      <td>Norditropin</td>\n",
       "      <td>SOMATROPIN</td>\n",
       "      <td>Novo Nordisk</td>\n",
       "      <td>novo nordisk</td>\n",
       "    </tr>\n",
       "  </tbody>\n",
       "</table>\n",
       "</div>"
      ],
      "text/plain": [
       "             brand_name                        generic_name manufacturer_name  \\\n",
       "53413  Xultophy 100/3.6  (INSULIN DEGLUDEC AND LIRAGLUTIDE)      Novo Nordisk   \n",
       "55461           Vagifem                           ESTRADIOL      Novo Nordisk   \n",
       "62986           NovoLog                      INSULIN ASPART      Novo Nordisk   \n",
       "64388     Novolin 70/30                       HUMAN INSULIN      Novo Nordisk   \n",
       "65363       Norditropin                          SOMATROPIN      Novo Nordisk   \n",
       "\n",
       "            cleaned  \n",
       "53413  novo nordisk  \n",
       "55461  novo nordisk  \n",
       "62986  novo nordisk  \n",
       "64388  novo nordisk  \n",
       "65363  novo nordisk  "
      ]
     },
     "execution_count": 95,
     "metadata": {},
     "output_type": "execute_result"
    }
   ],
   "source": [
    "drugs[drugs.cleaned.str.contains(r'novo nordisk')][:5]"
   ]
  },
  {
   "cell_type": "code",
   "execution_count": 91,
   "metadata": {
    "collapsed": false
   },
   "outputs": [
    {
     "data": {
      "text/html": [
       "<div>\n",
       "<table border=\"1\" class=\"dataframe\">\n",
       "  <thead>\n",
       "    <tr style=\"text-align: right;\">\n",
       "      <th></th>\n",
       "      <th>brand_name</th>\n",
       "      <th>generic_name</th>\n",
       "      <th>manufacturer_name</th>\n",
       "      <th>cleaned</th>\n",
       "    </tr>\n",
       "  </thead>\n",
       "  <tbody>\n",
       "    <tr>\n",
       "      <th>37566</th>\n",
       "      <td>TALTZ</td>\n",
       "      <td>IXEKIZUMAB</td>\n",
       "      <td>Eli Lilly and Company</td>\n",
       "      <td>eli lilly and company</td>\n",
       "    </tr>\n",
       "    <tr>\n",
       "      <th>38573</th>\n",
       "      <td>Humulin 70/30</td>\n",
       "      <td>INSULIN HUMAN</td>\n",
       "      <td>Eli Lilly and Company</td>\n",
       "      <td>eli lilly and company</td>\n",
       "    </tr>\n",
       "    <tr>\n",
       "      <th>41500</th>\n",
       "      <td>Humulin N</td>\n",
       "      <td>INSULIN HUMAN</td>\n",
       "      <td>Eli Lilly and Company</td>\n",
       "      <td>eli lilly and company</td>\n",
       "    </tr>\n",
       "    <tr>\n",
       "      <th>41506</th>\n",
       "      <td>Portrazza</td>\n",
       "      <td>NECITUMUMAB</td>\n",
       "      <td>Eli Lilly and Company</td>\n",
       "      <td>eli lilly and company</td>\n",
       "    </tr>\n",
       "    <tr>\n",
       "      <th>52274</th>\n",
       "      <td>LARTRUVO</td>\n",
       "      <td>OLARATUMAB</td>\n",
       "      <td>Eli Lilly and Company</td>\n",
       "      <td>eli lilly and company</td>\n",
       "    </tr>\n",
       "  </tbody>\n",
       "</table>\n",
       "</div>"
      ],
      "text/plain": [
       "          brand_name   generic_name      manufacturer_name  \\\n",
       "37566          TALTZ     IXEKIZUMAB  Eli Lilly and Company   \n",
       "38573  Humulin 70/30  INSULIN HUMAN  Eli Lilly and Company   \n",
       "41500      Humulin N  INSULIN HUMAN  Eli Lilly and Company   \n",
       "41506      Portrazza    NECITUMUMAB  Eli Lilly and Company   \n",
       "52274       LARTRUVO     OLARATUMAB  Eli Lilly and Company   \n",
       "\n",
       "                     cleaned  \n",
       "37566  eli lilly and company  \n",
       "38573  eli lilly and company  \n",
       "41500  eli lilly and company  \n",
       "41506  eli lilly and company  \n",
       "52274  eli lilly and company  "
      ]
     },
     "execution_count": 91,
     "metadata": {},
     "output_type": "execute_result"
    }
   ],
   "source": [
    "drugs[drugs.cleaned.str.contains(r'lilly')][:5]"
   ]
  },
  {
   "cell_type": "code",
   "execution_count": 96,
   "metadata": {
    "collapsed": false
   },
   "outputs": [
    {
     "data": {
      "text/html": [
       "<div>\n",
       "<table border=\"1\" class=\"dataframe\">\n",
       "  <thead>\n",
       "    <tr style=\"text-align: right;\">\n",
       "      <th></th>\n",
       "      <th>brand_name</th>\n",
       "      <th>generic_name</th>\n",
       "      <th>manufacturer_name</th>\n",
       "      <th>cleaned</th>\n",
       "    </tr>\n",
       "  </thead>\n",
       "  <tbody>\n",
       "    <tr>\n",
       "      <th>2984</th>\n",
       "      <td>BRIDION</td>\n",
       "      <td>SUGAMMADEX</td>\n",
       "      <td>Merck Sharp &amp; Dohme Corp.</td>\n",
       "      <td>merck sharp  dohme corp</td>\n",
       "    </tr>\n",
       "    <tr>\n",
       "      <th>11734</th>\n",
       "      <td>Integrilin</td>\n",
       "      <td>EPTIFIBATIDE</td>\n",
       "      <td>Merck Sharp &amp; Dohme Corp.</td>\n",
       "      <td>merck sharp  dohme corp</td>\n",
       "    </tr>\n",
       "    <tr>\n",
       "      <th>36438</th>\n",
       "      <td>CUBICIN RF</td>\n",
       "      <td>DAPTOMYCIN</td>\n",
       "      <td>Merck Sharp &amp; Dohme Corp.</td>\n",
       "      <td>merck sharp  dohme corp</td>\n",
       "    </tr>\n",
       "    <tr>\n",
       "      <th>39398</th>\n",
       "      <td>CUBICIN RF</td>\n",
       "      <td>DAPTOMYCIN</td>\n",
       "      <td>Merck Sharp &amp; Dohme Corp.</td>\n",
       "      <td>merck sharp  dohme corp</td>\n",
       "    </tr>\n",
       "    <tr>\n",
       "      <th>43078</th>\n",
       "      <td>ZEPATIER</td>\n",
       "      <td>ELBASVIR AND GRAZOPREVIR</td>\n",
       "      <td>Merck Sharp &amp; Dohme Corp.</td>\n",
       "      <td>merck sharp  dohme corp</td>\n",
       "    </tr>\n",
       "  </tbody>\n",
       "</table>\n",
       "</div>"
      ],
      "text/plain": [
       "       brand_name              generic_name          manufacturer_name  \\\n",
       "2984      BRIDION                SUGAMMADEX  Merck Sharp & Dohme Corp.   \n",
       "11734  Integrilin              EPTIFIBATIDE  Merck Sharp & Dohme Corp.   \n",
       "36438  CUBICIN RF                DAPTOMYCIN  Merck Sharp & Dohme Corp.   \n",
       "39398  CUBICIN RF                DAPTOMYCIN  Merck Sharp & Dohme Corp.   \n",
       "43078    ZEPATIER  ELBASVIR AND GRAZOPREVIR  Merck Sharp & Dohme Corp.   \n",
       "\n",
       "                       cleaned  \n",
       "2984   merck sharp  dohme corp  \n",
       "11734  merck sharp  dohme corp  \n",
       "36438  merck sharp  dohme corp  \n",
       "39398  merck sharp  dohme corp  \n",
       "43078  merck sharp  dohme corp  "
      ]
     },
     "execution_count": 96,
     "metadata": {},
     "output_type": "execute_result"
    }
   ],
   "source": [
    "drugs[drugs.cleaned.str.contains(r'merck')][:5]"
   ]
  },
  {
   "cell_type": "code",
   "execution_count": 99,
   "metadata": {
    "collapsed": false
   },
   "outputs": [
    {
     "data": {
      "text/html": [
       "<div>\n",
       "<table border=\"1\" class=\"dataframe\">\n",
       "  <thead>\n",
       "    <tr style=\"text-align: right;\">\n",
       "      <th></th>\n",
       "      <th>brand_name</th>\n",
       "      <th>generic_name</th>\n",
       "      <th>manufacturer_name</th>\n",
       "      <th>cleaned</th>\n",
       "    </tr>\n",
       "  </thead>\n",
       "  <tbody>\n",
       "    <tr>\n",
       "      <th>62750</th>\n",
       "      <td>RAYOS</td>\n",
       "      <td>PREDNISONE</td>\n",
       "      <td>Horizon Pharma Inc.</td>\n",
       "      <td>horizon pharma inc</td>\n",
       "    </tr>\n",
       "    <tr>\n",
       "      <th>64109</th>\n",
       "      <td>Pennsaid</td>\n",
       "      <td>DICLOFENAC SODIUM</td>\n",
       "      <td>Horizon Pharma Inc.</td>\n",
       "      <td>horizon pharma inc</td>\n",
       "    </tr>\n",
       "    <tr>\n",
       "      <th>65127</th>\n",
       "      <td>Vimovo</td>\n",
       "      <td>NAPROXEN AND ESOMEPRAZOLE MAGNESIUM</td>\n",
       "      <td>Horizon Pharma Inc.</td>\n",
       "      <td>horizon pharma inc</td>\n",
       "    </tr>\n",
       "    <tr>\n",
       "      <th>65294</th>\n",
       "      <td>BUPHENYL</td>\n",
       "      <td>SODIUM PHENYLBUTYRATE</td>\n",
       "      <td>Horizon Pharma, Inc.</td>\n",
       "      <td>horizon pharma inc</td>\n",
       "    </tr>\n",
       "    <tr>\n",
       "      <th>68026</th>\n",
       "      <td>DUEXIS</td>\n",
       "      <td>IBUPROFEN AND FAMOTIDINE</td>\n",
       "      <td>Horizon Pharma Inc.</td>\n",
       "      <td>horizon pharma inc</td>\n",
       "    </tr>\n",
       "  </tbody>\n",
       "</table>\n",
       "</div>"
      ],
      "text/plain": [
       "      brand_name                         generic_name     manufacturer_name  \\\n",
       "62750      RAYOS                           PREDNISONE   Horizon Pharma Inc.   \n",
       "64109   Pennsaid                    DICLOFENAC SODIUM   Horizon Pharma Inc.   \n",
       "65127     Vimovo  NAPROXEN AND ESOMEPRAZOLE MAGNESIUM   Horizon Pharma Inc.   \n",
       "65294   BUPHENYL                SODIUM PHENYLBUTYRATE  Horizon Pharma, Inc.   \n",
       "68026     DUEXIS             IBUPROFEN AND FAMOTIDINE   Horizon Pharma Inc.   \n",
       "\n",
       "                  cleaned  \n",
       "62750  horizon pharma inc  \n",
       "64109  horizon pharma inc  \n",
       "65127  horizon pharma inc  \n",
       "65294  horizon pharma inc  \n",
       "68026  horizon pharma inc  "
      ]
     },
     "execution_count": 99,
     "metadata": {},
     "output_type": "execute_result"
    }
   ],
   "source": [
    "drugs[drugs.cleaned.str.contains(r'horizon pharma')]"
   ]
  },
  {
   "cell_type": "code",
   "execution_count": 106,
   "metadata": {
    "collapsed": false
   },
   "outputs": [
    {
     "data": {
      "text/html": [
       "<div>\n",
       "<table border=\"1\" class=\"dataframe\">\n",
       "  <thead>\n",
       "    <tr style=\"text-align: right;\">\n",
       "      <th></th>\n",
       "      <th>brand_name</th>\n",
       "      <th>generic_name</th>\n",
       "      <th>manufacturer_name</th>\n",
       "      <th>cleaned</th>\n",
       "    </tr>\n",
       "  </thead>\n",
       "  <tbody>\n",
       "    <tr>\n",
       "      <th>18289</th>\n",
       "      <td>TNKase</td>\n",
       "      <td>TENECTEPLASE</td>\n",
       "      <td>Genentech, Inc.</td>\n",
       "      <td>genentech inc</td>\n",
       "    </tr>\n",
       "    <tr>\n",
       "      <th>39169</th>\n",
       "      <td>ALECENSA</td>\n",
       "      <td>ALECTINIB HYDROCHLORIDE</td>\n",
       "      <td>Genentech, Inc.</td>\n",
       "      <td>genentech inc</td>\n",
       "    </tr>\n",
       "    <tr>\n",
       "      <th>39440</th>\n",
       "      <td>TECENTRIQ</td>\n",
       "      <td>ATEZOLIZUMAB</td>\n",
       "      <td>Genentech, Inc.</td>\n",
       "      <td>genentech inc</td>\n",
       "    </tr>\n",
       "    <tr>\n",
       "      <th>46105</th>\n",
       "      <td>Esbriet</td>\n",
       "      <td>PIRFENIDONE</td>\n",
       "      <td>Genentech, Inc.</td>\n",
       "      <td>genentech inc</td>\n",
       "    </tr>\n",
       "    <tr>\n",
       "      <th>54784</th>\n",
       "      <td>Xenical</td>\n",
       "      <td>ORLISTAT</td>\n",
       "      <td>Genentech, Inc.</td>\n",
       "      <td>genentech inc</td>\n",
       "    </tr>\n",
       "  </tbody>\n",
       "</table>\n",
       "</div>"
      ],
      "text/plain": [
       "      brand_name             generic_name manufacturer_name        cleaned\n",
       "18289     TNKase             TENECTEPLASE   Genentech, Inc.  genentech inc\n",
       "39169   ALECENSA  ALECTINIB HYDROCHLORIDE   Genentech, Inc.  genentech inc\n",
       "39440  TECENTRIQ             ATEZOLIZUMAB   Genentech, Inc.  genentech inc\n",
       "46105    Esbriet              PIRFENIDONE   Genentech, Inc.  genentech inc\n",
       "54784    Xenical                 ORLISTAT   Genentech, Inc.  genentech inc"
      ]
     },
     "execution_count": 106,
     "metadata": {},
     "output_type": "execute_result"
    }
   ],
   "source": [
    "drugs[drugs.cleaned.str.contains(r'genentech')][:5]"
   ]
  },
  {
   "cell_type": "code",
   "execution_count": 108,
   "metadata": {
    "collapsed": false
   },
   "outputs": [
    {
     "data": {
      "text/html": [
       "<div>\n",
       "<table border=\"1\" class=\"dataframe\">\n",
       "  <thead>\n",
       "    <tr style=\"text-align: right;\">\n",
       "      <th></th>\n",
       "      <th>brand_name</th>\n",
       "      <th>generic_name</th>\n",
       "      <th>manufacturer_name</th>\n",
       "      <th>cleaned</th>\n",
       "    </tr>\n",
       "  </thead>\n",
       "  <tbody>\n",
       "    <tr>\n",
       "      <th>6392</th>\n",
       "      <td>norethindrone acetate and ethinyl estradiol an...</td>\n",
       "      <td>NORETHINDRONE ACETATE AND ETHINYL ESTRADIOL, A...</td>\n",
       "      <td>Warner Chilcott (US), LLC</td>\n",
       "      <td>warner chilcott us llc</td>\n",
       "    </tr>\n",
       "    <tr>\n",
       "      <th>8146</th>\n",
       "      <td>FEMCON Fe</td>\n",
       "      <td>NORETHINDRONE AND ETHINYL ESTRADIOL, AND FERRO...</td>\n",
       "      <td>Warner Chilcott (US), LLC</td>\n",
       "      <td>warner chilcott us llc</td>\n",
       "    </tr>\n",
       "    <tr>\n",
       "      <th>12735</th>\n",
       "      <td>ESTROSTEP Fe</td>\n",
       "      <td>NORETHINDRONE ACETATE AND ETHINYL ESTRADIOL AN...</td>\n",
       "      <td>Warner Chilcott (US), LLC</td>\n",
       "      <td>warner chilcott us llc</td>\n",
       "    </tr>\n",
       "    <tr>\n",
       "      <th>25591</th>\n",
       "      <td>Dovonex</td>\n",
       "      <td>CALCIPOTRIENE</td>\n",
       "      <td>Warner Chilcott (US), LLC</td>\n",
       "      <td>warner chilcott us llc</td>\n",
       "    </tr>\n",
       "    <tr>\n",
       "      <th>25686</th>\n",
       "      <td>TACLONEX</td>\n",
       "      <td>CALCIPOTRIENE AND BETAMETHASONE DIPROPIONATE</td>\n",
       "      <td>Warner Chilcott (US), LLC</td>\n",
       "      <td>warner chilcott us llc</td>\n",
       "    </tr>\n",
       "  </tbody>\n",
       "</table>\n",
       "</div>"
      ],
      "text/plain": [
       "                                              brand_name  \\\n",
       "6392   norethindrone acetate and ethinyl estradiol an...   \n",
       "8146                                           FEMCON Fe   \n",
       "12735                                       ESTROSTEP Fe   \n",
       "25591                                            Dovonex   \n",
       "25686                                           TACLONEX   \n",
       "\n",
       "                                            generic_name  \\\n",
       "6392   NORETHINDRONE ACETATE AND ETHINYL ESTRADIOL, A...   \n",
       "8146   NORETHINDRONE AND ETHINYL ESTRADIOL, AND FERRO...   \n",
       "12735  NORETHINDRONE ACETATE AND ETHINYL ESTRADIOL AN...   \n",
       "25591                                      CALCIPOTRIENE   \n",
       "25686       CALCIPOTRIENE AND BETAMETHASONE DIPROPIONATE   \n",
       "\n",
       "               manufacturer_name                 cleaned  \n",
       "6392   Warner Chilcott (US), LLC  warner chilcott us llc  \n",
       "8146   Warner Chilcott (US), LLC  warner chilcott us llc  \n",
       "12735  Warner Chilcott (US), LLC  warner chilcott us llc  \n",
       "25591  Warner Chilcott (US), LLC  warner chilcott us llc  \n",
       "25686  Warner Chilcott (US), LLC  warner chilcott us llc  "
      ]
     },
     "execution_count": 108,
     "metadata": {},
     "output_type": "execute_result"
    }
   ],
   "source": [
    "drugs[drugs.cleaned.str.contains(r'warner')][:5]"
   ]
  },
  {
   "cell_type": "code",
   "execution_count": 112,
   "metadata": {
    "collapsed": false
   },
   "outputs": [
    {
     "data": {
      "text/html": [
       "<div>\n",
       "<table border=\"1\" class=\"dataframe\">\n",
       "  <thead>\n",
       "    <tr style=\"text-align: right;\">\n",
       "      <th></th>\n",
       "      <th>brand_name</th>\n",
       "      <th>generic_name</th>\n",
       "      <th>manufacturer_name</th>\n",
       "      <th>cleaned</th>\n",
       "    </tr>\n",
       "  </thead>\n",
       "  <tbody>\n",
       "  </tbody>\n",
       "</table>\n",
       "</div>"
      ],
      "text/plain": [
       "Empty DataFrame\n",
       "Columns: [brand_name, generic_name, manufacturer_name, cleaned]\n",
       "Index: []"
      ]
     },
     "execution_count": 112,
     "metadata": {},
     "output_type": "execute_result"
    }
   ],
   "source": [
    "drugs[drugs.cleaned.str.contains(r'boston')]"
   ]
  },
  {
   "cell_type": "code",
   "execution_count": 115,
   "metadata": {
    "collapsed": false
   },
   "outputs": [
    {
     "data": {
      "text/html": [
       "<div>\n",
       "<table border=\"1\" class=\"dataframe\">\n",
       "  <thead>\n",
       "    <tr style=\"text-align: right;\">\n",
       "      <th></th>\n",
       "      <th>brand_name</th>\n",
       "      <th>generic_name</th>\n",
       "      <th>manufacturer_name</th>\n",
       "      <th>cleaned</th>\n",
       "    </tr>\n",
       "  </thead>\n",
       "  <tbody>\n",
       "    <tr>\n",
       "      <th>26955</th>\n",
       "      <td>ProAmatine</td>\n",
       "      <td>MIDODRINE HYDROCHLORIDE</td>\n",
       "      <td>Shire US Manufacturing Inc.</td>\n",
       "      <td>shire us manufacturing inc</td>\n",
       "    </tr>\n",
       "    <tr>\n",
       "      <th>32575</th>\n",
       "      <td>Xiidra</td>\n",
       "      <td>LIFITEGRAST</td>\n",
       "      <td>Shire US Manufacturing Inc.</td>\n",
       "      <td>shire us manufacturing inc</td>\n",
       "    </tr>\n",
       "    <tr>\n",
       "      <th>65855</th>\n",
       "      <td>Intuniv</td>\n",
       "      <td>GUANFACINE</td>\n",
       "      <td>Shire US Manufacturing Inc.</td>\n",
       "      <td>shire us manufacturing inc</td>\n",
       "    </tr>\n",
       "    <tr>\n",
       "      <th>67271</th>\n",
       "      <td>Fosrenol</td>\n",
       "      <td>LANTHANUM CARBONATE</td>\n",
       "      <td>Shire US Manufacturing Inc.</td>\n",
       "      <td>shire us manufacturing inc</td>\n",
       "    </tr>\n",
       "    <tr>\n",
       "      <th>69991</th>\n",
       "      <td>ELAPRASE</td>\n",
       "      <td>IDURSULFASE</td>\n",
       "      <td>Shire US Manufacturing Inc.</td>\n",
       "      <td>shire us manufacturing inc</td>\n",
       "    </tr>\n",
       "  </tbody>\n",
       "</table>\n",
       "</div>"
      ],
      "text/plain": [
       "       brand_name             generic_name            manufacturer_name  \\\n",
       "26955  ProAmatine  MIDODRINE HYDROCHLORIDE  Shire US Manufacturing Inc.   \n",
       "32575      Xiidra              LIFITEGRAST  Shire US Manufacturing Inc.   \n",
       "65855     Intuniv               GUANFACINE  Shire US Manufacturing Inc.   \n",
       "67271    Fosrenol      LANTHANUM CARBONATE  Shire US Manufacturing Inc.   \n",
       "69991    ELAPRASE              IDURSULFASE  Shire US Manufacturing Inc.   \n",
       "\n",
       "                          cleaned  \n",
       "26955  shire us manufacturing inc  \n",
       "32575  shire us manufacturing inc  \n",
       "65855  shire us manufacturing inc  \n",
       "67271  shire us manufacturing inc  \n",
       "69991  shire us manufacturing inc  "
      ]
     },
     "execution_count": 115,
     "metadata": {},
     "output_type": "execute_result"
    }
   ],
   "source": [
    "drugs[drugs.cleaned.str.contains(r'shire us')][:5]"
   ]
  },
  {
   "cell_type": "code",
   "execution_count": 118,
   "metadata": {
    "collapsed": false
   },
   "outputs": [
    {
     "data": {
      "text/html": [
       "<div>\n",
       "<table border=\"1\" class=\"dataframe\">\n",
       "  <thead>\n",
       "    <tr style=\"text-align: right;\">\n",
       "      <th></th>\n",
       "      <th>brand_name</th>\n",
       "      <th>generic_name</th>\n",
       "      <th>manufacturer_name</th>\n",
       "      <th>cleaned</th>\n",
       "    </tr>\n",
       "  </thead>\n",
       "  <tbody>\n",
       "    <tr>\n",
       "      <th>61366</th>\n",
       "      <td>Lioresal</td>\n",
       "      <td>BACLOFEN</td>\n",
       "      <td>Medtronic Neuromodulation</td>\n",
       "      <td>medtronic neuromodulation</td>\n",
       "    </tr>\n",
       "  </tbody>\n",
       "</table>\n",
       "</div>"
      ],
      "text/plain": [
       "      brand_name generic_name          manufacturer_name  \\\n",
       "61366   Lioresal     BACLOFEN  Medtronic Neuromodulation   \n",
       "\n",
       "                         cleaned  \n",
       "61366  medtronic neuromodulation  "
      ]
     },
     "execution_count": 118,
     "metadata": {},
     "output_type": "execute_result"
    }
   ],
   "source": [
    "drugs[drugs.cleaned.str.contains(r'medtronic')]"
   ]
  },
  {
   "cell_type": "code",
   "execution_count": 120,
   "metadata": {
    "collapsed": false
   },
   "outputs": [
    {
     "data": {
      "text/html": [
       "<div>\n",
       "<table border=\"1\" class=\"dataframe\">\n",
       "  <thead>\n",
       "    <tr style=\"text-align: right;\">\n",
       "      <th></th>\n",
       "      <th>brand_name</th>\n",
       "      <th>generic_name</th>\n",
       "      <th>manufacturer_name</th>\n",
       "      <th>cleaned</th>\n",
       "    </tr>\n",
       "  </thead>\n",
       "  <tbody>\n",
       "    <tr>\n",
       "      <th>44852</th>\n",
       "      <td>Thyrolar</td>\n",
       "      <td>LIOTHYRONINE SODIUM, LEVOTHYROXINE SODIUM</td>\n",
       "      <td>Forest Laboratories, Inc</td>\n",
       "      <td>forest laboratories inc</td>\n",
       "    </tr>\n",
       "    <tr>\n",
       "      <th>59982</th>\n",
       "      <td>Armour Thyroid</td>\n",
       "      <td>THYROID, PORCINE</td>\n",
       "      <td>Forest Laboratories, Inc</td>\n",
       "      <td>forest laboratories inc</td>\n",
       "    </tr>\n",
       "    <tr>\n",
       "      <th>62709</th>\n",
       "      <td>Namenda</td>\n",
       "      <td>MEMANTINE HYDROCHLORIDE</td>\n",
       "      <td>Forest Laboratories, Inc.</td>\n",
       "      <td>forest laboratories inc</td>\n",
       "    </tr>\n",
       "    <tr>\n",
       "      <th>70065</th>\n",
       "      <td>Daliresp</td>\n",
       "      <td>ROFLUMILAST</td>\n",
       "      <td>Forest Laboratories, Inc.</td>\n",
       "      <td>forest laboratories inc</td>\n",
       "    </tr>\n",
       "    <tr>\n",
       "      <th>71064</th>\n",
       "      <td>Namenda XR</td>\n",
       "      <td>MEMANTINE HYDROCHLORIDE</td>\n",
       "      <td>Forest Laboratories, Inc.</td>\n",
       "      <td>forest laboratories inc</td>\n",
       "    </tr>\n",
       "  </tbody>\n",
       "</table>\n",
       "</div>"
      ],
      "text/plain": [
       "           brand_name                               generic_name  \\\n",
       "44852        Thyrolar  LIOTHYRONINE SODIUM, LEVOTHYROXINE SODIUM   \n",
       "59982  Armour Thyroid                           THYROID, PORCINE   \n",
       "62709         Namenda                    MEMANTINE HYDROCHLORIDE   \n",
       "70065        Daliresp                                ROFLUMILAST   \n",
       "71064      Namenda XR                    MEMANTINE HYDROCHLORIDE   \n",
       "\n",
       "               manufacturer_name                  cleaned  \n",
       "44852   Forest Laboratories, Inc  forest laboratories inc  \n",
       "59982   Forest Laboratories, Inc  forest laboratories inc  \n",
       "62709  Forest Laboratories, Inc.  forest laboratories inc  \n",
       "70065  Forest Laboratories, Inc.  forest laboratories inc  \n",
       "71064  Forest Laboratories, Inc.  forest laboratories inc  "
      ]
     },
     "execution_count": 120,
     "metadata": {},
     "output_type": "execute_result"
    }
   ],
   "source": [
    "drugs[drugs.cleaned.str.contains(r'forest lab')][:5]"
   ]
  },
  {
   "cell_type": "markdown",
   "metadata": {},
   "source": [
    "\n"
   ]
  },
  {
   "cell_type": "markdown",
   "metadata": {},
   "source": [
    "So save for boston scientific and medtronic vascular, with a few modifications to the names that these are associated with, we can pick up about another 12% coverage. Well worth it for a little bit of manual digging."
   ]
  },
  {
   "cell_type": "markdown",
   "metadata": {},
   "source": [
    "To merge these datasets we need to modify the manufacturer names broadly to be all lowercase, without punctuation, and then add some special cases for these eight manufacturers. \n",
    "\n",
    "Once we've done that we can start looking at the drug names that those manufacturers manufacture and look at the coverage on our prescription dataset."
   ]
  },
  {
   "cell_type": "markdown",
   "metadata": {},
   "source": [
    "So let's take the drugs dataset and make those modifications to the 'cleaned' column and save it so we can merge it in future work."
   ]
  },
  {
   "cell_type": "code",
   "execution_count": 160,
   "metadata": {
    "collapsed": true
   },
   "outputs": [],
   "source": [
    "# specific changes based on the top 8 \n",
    "drugs['cleaned'] = drugs['cleaned'].str.replace('novo nordisk', 'novo nordisk inc')\n",
    "drugs['cleaned'] = drugs['cleaned'].str.replace('forest laboratories', 'forest pharmaceuticals inc')\n",
    "drugs['cleaned'] = drugs['cleaned'].str.replace('forest laboratories inc', 'forest pharmaceuticals inc')\n",
    "drugs['cleaned'] = drugs['cleaned'].str.replace('eli lilly and company', 'lilly usa llc')\n",
    "drugs['cleaned'] = drugs['cleaned'].str.replace('merck sharp  dohme corp', 'merck sharp  dohme corporation')\n",
    "drugs['cleaned'] = drugs['cleaned'].str.replace('horizon pharma inc', 'horizon pharma usa inc')\n",
    "drugs['cleaned'] = drugs['cleaned'].str.replace('genentech inc', 'genentech usa inc')\n",
    "drugs['cleaned'] = drugs['cleaned'].str.replace('warner chilcott us llc', 'warner chilcott llc')\n",
    "drugs['cleaned'] = drugs['cleaned'].str.replace('shire us manufacturing inc', 'shire us holdings')"
   ]
  },
  {
   "cell_type": "code",
   "execution_count": null,
   "metadata": {
    "collapsed": true
   },
   "outputs": [],
   "source": []
  },
  {
   "cell_type": "code",
   "execution_count": null,
   "metadata": {
    "collapsed": false
   },
   "outputs": [],
   "source": []
  },
  {
   "cell_type": "code",
   "execution_count": 173,
   "metadata": {
    "collapsed": false
   },
   "outputs": [
    {
     "data": {
      "text/plain": [
       "70"
      ]
     },
     "execution_count": 173,
     "metadata": {},
     "output_type": "execute_result"
    }
   ],
   "source": [
    " sum(top_payers.index.isin(drugs.cleaned))"
   ]
  },
  {
   "cell_type": "code",
   "execution_count": 174,
   "metadata": {
    "collapsed": false
   },
   "outputs": [
    {
     "data": {
      "text/plain": [
       "0.78536349770831404"
      ]
     },
     "execution_count": 174,
     "metadata": {},
     "output_type": "execute_result"
    }
   ],
   "source": [
    "sum(top_payers[top_payers.index.isin(drugs.cleaned)])"
   ]
  },
  {
   "cell_type": "markdown",
   "metadata": {},
   "source": [
    "So perfect, we picked up another 6 matches and upped our coverage over 75% of the top 90% of payment companies."
   ]
  },
  {
   "cell_type": "code",
   "execution_count": 175,
   "metadata": {
    "collapsed": false
   },
   "outputs": [
    {
     "data": {
      "text/plain": [
       "boston scientific corporation    0.008685\n",
       "medtronic vascular inc           0.008092\n",
       "questcor pharmaceuticals         0.005750\n",
       "stryker corporation              0.005480\n",
       "st jude medical inc              0.005066\n",
       "medtronic usa inc                0.004906\n",
       "intuitive surgical inc           0.004305\n",
       "salix pharmaceuticals ltd        0.004280\n",
       "abbott laboratories              0.003470\n",
       "depuy synthes sales inc          0.003213\n",
       "Name: Applicable_Manufacturer_or_Applicable_GPO_Making_Payment_Name, dtype: float64"
      ]
     },
     "execution_count": 175,
     "metadata": {},
     "output_type": "execute_result"
    }
   ],
   "source": [
    "top_payers[~top_payers.index.isin(drugs.cleaned)][:10]"
   ]
  },
  {
   "cell_type": "code",
   "execution_count": 177,
   "metadata": {
    "collapsed": false
   },
   "outputs": [
    {
     "name": "stdout",
     "output_type": "stream",
     "text": [
      "\u001b[30m\u001b[43m2_5_work\u001b[m\u001b[m/\r\n",
      "Data Story.ipynb\r\n",
      "Drug brand and manufacturer table creation.ipynb\r\n",
      "Payments Exploration.ipynb\r\n",
      "Payments Parsing.ipynb\r\n",
      "Physician Profile ID -> NPID.ipynb\r\n",
      "Prescription Analysis.ipynb\r\n",
      "\u001b[1m\u001b[36mdata\u001b[m\u001b[m/\r\n",
      "data.zip\r\n",
      "\u001b[1m\u001b[36mdata_unzipped\u001b[m\u001b[m/\r\n",
      "drug_manufacturers.csv\r\n"
     ]
    }
   ],
   "source": [
    "%ls ../"
   ]
  },
  {
   "cell_type": "markdown",
   "metadata": {},
   "source": [
    "So let's save this dataset so we can use it in future work."
   ]
  },
  {
   "cell_type": "code",
   "execution_count": 178,
   "metadata": {
    "collapsed": true
   },
   "outputs": [],
   "source": [
    "#drugs.to_csv(r'../drug_manufacturers_cleaned.csv', index=False)"
   ]
  },
  {
   "cell_type": "code",
   "execution_count": 179,
   "metadata": {
    "collapsed": true
   },
   "outputs": [],
   "source": [
    "payments['manufacturer_cleaned'] = payments['Applicable_Manufacturer_or_Applicable_GPO_Making_Payment_Name'].str.replace('[^\\w\\s]', '')\n",
    "payments['manufacturer_cleaned'] = payments['manufacturer_cleaned'].str.lower()"
   ]
  },
  {
   "cell_type": "code",
   "execution_count": null,
   "metadata": {
    "collapsed": true
   },
   "outputs": [],
   "source": []
  },
  {
   "cell_type": "markdown",
   "metadata": {
    "collapsed": true
   },
   "source": [
    "And now we can save the payments data set which has the NPI data and a cleaned manufacturer column that we can use to join with the drug manufacturer dataset"
   ]
  },
  {
   "cell_type": "code",
   "execution_count": 181,
   "metadata": {
    "collapsed": false
   },
   "outputs": [],
   "source": [
    "#payments.to_csv(r'payments_with_npi_cleaned_13.csv', index=False)"
   ]
  },
  {
   "cell_type": "code",
   "execution_count": null,
   "metadata": {
    "collapsed": true
   },
   "outputs": [],
   "source": []
  }
 ],
 "metadata": {
  "anaconda-cloud": {},
  "kernelspec": {
   "display_name": "Python [conda root]",
   "language": "python",
   "name": "conda-root-py"
  },
  "language_info": {
   "codemirror_mode": {
    "name": "ipython",
    "version": 3
   },
   "file_extension": ".py",
   "mimetype": "text/x-python",
   "name": "python",
   "nbconvert_exporter": "python",
   "pygments_lexer": "ipython3",
   "version": "3.5.2"
  }
 },
 "nbformat": 4,
 "nbformat_minor": 1
}
