{
 "cells": [
  {
   "cell_type": "code",
   "execution_count": 1,
   "metadata": {
    "collapsed": true
   },
   "outputs": [],
   "source": [
    "import pandas as pd"
   ]
  },
  {
   "cell_type": "code",
   "execution_count": 2,
   "metadata": {
    "collapsed": true
   },
   "outputs": [],
   "source": [
    "# datatypes that must be cast as strings\n",
    "types = {'Applicable_Manufacturer_or_Applicable_GPO_Making_Payment_ID': 'str',\n",
    " 'Charity_Indicator': 'str',\n",
    " 'City_of_Travel': 'str',\n",
    " 'Contextual_Information': 'str',\n",
    " 'Country_of_Travel': 'str',\n",
    " 'NDC_of_Associated_Covered_Drug_or_Biological1': 'str',\n",
    " 'NDC_of_Associated_Covered_Drug_or_Biological2': 'str',\n",
    " 'NDC_of_Associated_Covered_Drug_or_Biological3': 'str',\n",
    " 'NDC_of_Associated_Covered_Drug_or_Biological4': 'str',\n",
    " 'NDC_of_Associated_Covered_Drug_or_Biological5': 'str',\n",
    " 'Name_of_Associated_Covered_Device_or_Medical_Supply1': 'str',\n",
    " 'Name_of_Associated_Covered_Device_or_Medical_Supply2': 'str',\n",
    " 'Name_of_Associated_Covered_Device_or_Medical_Supply3': 'str',\n",
    " 'Name_of_Associated_Covered_Device_or_Medical_Supply4': 'str',\n",
    " 'Name_of_Associated_Covered_Device_or_Medical_Supply5': 'str',\n",
    " 'Name_of_Associated_Covered_Drug_or_Biological1': 'str',\n",
    " 'Name_of_Associated_Covered_Drug_or_Biological2': 'str',\n",
    " 'Name_of_Associated_Covered_Drug_or_Biological3': 'str',\n",
    " 'Name_of_Associated_Covered_Drug_or_Biological4': 'str',\n",
    " 'Name_of_Associated_Covered_Drug_or_Biological5': 'str',\n",
    " 'Name_of_Third_Party_Entity_Receiving_Payment_or_Transfer_of_Value': 'str',\n",
    " 'Physician_License_State_code2': 'str',\n",
    " 'Physician_License_State_code3': 'str',\n",
    " 'Physician_License_State_code4': 'str',\n",
    " 'Physician_License_State_code5': 'str',\n",
    " 'Physician_Name_Suffix': 'str',\n",
    " 'Physician_Profile_ID': 'str',\n",
    " 'Recipient_Postal_Code': 'str',\n",
    " 'Recipient_Primary_Business_Street_Address_Line2': 'str',\n",
    " 'Recipient_Province': 'str',\n",
    " 'Recipient_Zip_Code': 'str',\n",
    " 'Record_ID': 'str',\n",
    " 'State_of_Travel': 'str',\n",
    " 'Teaching_Hospital_ID': 'str',\n",
    " 'Teaching_Hospital_Name': 'str',\n",
    " 'Third_Party_Equals_Covered_Recipient_Indicator': 'str'}"
   ]
  },
  {
   "cell_type": "markdown",
   "metadata": {},
   "source": [
    "\n"
   ]
  },
  {
   "cell_type": "markdown",
   "metadata": {},
   "source": [
    "## Read in the payments data set"
   ]
  },
  {
   "cell_type": "code",
   "execution_count": 3,
   "metadata": {
    "collapsed": false
   },
   "outputs": [
    {
     "data": {
      "text/html": [
       "<div>\n",
       "<table border=\"1\" class=\"dataframe\">\n",
       "  <thead>\n",
       "    <tr style=\"text-align: right;\">\n",
       "      <th></th>\n",
       "      <th>Change_Type</th>\n",
       "      <th>Covered_Recipient_Type</th>\n",
       "      <th>Teaching_Hospital_CCN</th>\n",
       "      <th>Teaching_Hospital_ID</th>\n",
       "      <th>Teaching_Hospital_Name</th>\n",
       "      <th>Physician_Profile_ID</th>\n",
       "      <th>Physician_First_Name</th>\n",
       "      <th>Physician_Middle_Name</th>\n",
       "      <th>Physician_Last_Name</th>\n",
       "      <th>Physician_Name_Suffix</th>\n",
       "      <th>...</th>\n",
       "      <th>NDC_of_Associated_Covered_Drug_or_Biological3</th>\n",
       "      <th>NDC_of_Associated_Covered_Drug_or_Biological4</th>\n",
       "      <th>NDC_of_Associated_Covered_Drug_or_Biological5</th>\n",
       "      <th>Name_of_Associated_Covered_Device_or_Medical_Supply1</th>\n",
       "      <th>Name_of_Associated_Covered_Device_or_Medical_Supply2</th>\n",
       "      <th>Name_of_Associated_Covered_Device_or_Medical_Supply3</th>\n",
       "      <th>Name_of_Associated_Covered_Device_or_Medical_Supply4</th>\n",
       "      <th>Name_of_Associated_Covered_Device_or_Medical_Supply5</th>\n",
       "      <th>Program_Year</th>\n",
       "      <th>Payment_Publication_Date</th>\n",
       "    </tr>\n",
       "  </thead>\n",
       "  <tbody>\n",
       "    <tr>\n",
       "      <th>0</th>\n",
       "      <td>UNCHANGED</td>\n",
       "      <td>Covered Recipient Physician</td>\n",
       "      <td>NaN</td>\n",
       "      <td>NaN</td>\n",
       "      <td>NaN</td>\n",
       "      <td>269814</td>\n",
       "      <td>CALVIN</td>\n",
       "      <td>J</td>\n",
       "      <td>KUBO</td>\n",
       "      <td>NaN</td>\n",
       "      <td>...</td>\n",
       "      <td>NaN</td>\n",
       "      <td>NaN</td>\n",
       "      <td>NaN</td>\n",
       "      <td>NaN</td>\n",
       "      <td>NaN</td>\n",
       "      <td>NaN</td>\n",
       "      <td>NaN</td>\n",
       "      <td>NaN</td>\n",
       "      <td>2013</td>\n",
       "      <td>06/30/2016</td>\n",
       "    </tr>\n",
       "    <tr>\n",
       "      <th>1</th>\n",
       "      <td>UNCHANGED</td>\n",
       "      <td>Covered Recipient Physician</td>\n",
       "      <td>NaN</td>\n",
       "      <td>NaN</td>\n",
       "      <td>NaN</td>\n",
       "      <td>180504</td>\n",
       "      <td>LEONARD</td>\n",
       "      <td>A</td>\n",
       "      <td>KUCHEMBA</td>\n",
       "      <td>NaN</td>\n",
       "      <td>...</td>\n",
       "      <td>NaN</td>\n",
       "      <td>NaN</td>\n",
       "      <td>NaN</td>\n",
       "      <td>NaN</td>\n",
       "      <td>NaN</td>\n",
       "      <td>NaN</td>\n",
       "      <td>NaN</td>\n",
       "      <td>NaN</td>\n",
       "      <td>2013</td>\n",
       "      <td>06/30/2016</td>\n",
       "    </tr>\n",
       "    <tr>\n",
       "      <th>2</th>\n",
       "      <td>UNCHANGED</td>\n",
       "      <td>Covered Recipient Physician</td>\n",
       "      <td>NaN</td>\n",
       "      <td>NaN</td>\n",
       "      <td>NaN</td>\n",
       "      <td>180504</td>\n",
       "      <td>LEONARD</td>\n",
       "      <td>A</td>\n",
       "      <td>KUCHEMBA</td>\n",
       "      <td>NaN</td>\n",
       "      <td>...</td>\n",
       "      <td>NaN</td>\n",
       "      <td>NaN</td>\n",
       "      <td>NaN</td>\n",
       "      <td>NaN</td>\n",
       "      <td>NaN</td>\n",
       "      <td>NaN</td>\n",
       "      <td>NaN</td>\n",
       "      <td>NaN</td>\n",
       "      <td>2013</td>\n",
       "      <td>06/30/2016</td>\n",
       "    </tr>\n",
       "    <tr>\n",
       "      <th>3</th>\n",
       "      <td>UNCHANGED</td>\n",
       "      <td>Covered Recipient Physician</td>\n",
       "      <td>NaN</td>\n",
       "      <td>NaN</td>\n",
       "      <td>NaN</td>\n",
       "      <td>86548</td>\n",
       "      <td>RONALD</td>\n",
       "      <td>H</td>\n",
       "      <td>KURLANDER</td>\n",
       "      <td>NaN</td>\n",
       "      <td>...</td>\n",
       "      <td>NaN</td>\n",
       "      <td>NaN</td>\n",
       "      <td>NaN</td>\n",
       "      <td>NaN</td>\n",
       "      <td>NaN</td>\n",
       "      <td>NaN</td>\n",
       "      <td>NaN</td>\n",
       "      <td>NaN</td>\n",
       "      <td>2013</td>\n",
       "      <td>06/30/2016</td>\n",
       "    </tr>\n",
       "    <tr>\n",
       "      <th>4</th>\n",
       "      <td>UNCHANGED</td>\n",
       "      <td>Covered Recipient Physician</td>\n",
       "      <td>NaN</td>\n",
       "      <td>NaN</td>\n",
       "      <td>NaN</td>\n",
       "      <td>307584</td>\n",
       "      <td>HAROLD</td>\n",
       "      <td>M</td>\n",
       "      <td>KURLANDER</td>\n",
       "      <td>NaN</td>\n",
       "      <td>...</td>\n",
       "      <td>NaN</td>\n",
       "      <td>NaN</td>\n",
       "      <td>NaN</td>\n",
       "      <td>NaN</td>\n",
       "      <td>NaN</td>\n",
       "      <td>NaN</td>\n",
       "      <td>NaN</td>\n",
       "      <td>NaN</td>\n",
       "      <td>2013</td>\n",
       "      <td>06/30/2016</td>\n",
       "    </tr>\n",
       "  </tbody>\n",
       "</table>\n",
       "<p>5 rows × 65 columns</p>\n",
       "</div>"
      ],
      "text/plain": [
       "  Change_Type       Covered_Recipient_Type  Teaching_Hospital_CCN  \\\n",
       "0   UNCHANGED  Covered Recipient Physician                    NaN   \n",
       "1   UNCHANGED  Covered Recipient Physician                    NaN   \n",
       "2   UNCHANGED  Covered Recipient Physician                    NaN   \n",
       "3   UNCHANGED  Covered Recipient Physician                    NaN   \n",
       "4   UNCHANGED  Covered Recipient Physician                    NaN   \n",
       "\n",
       "  Teaching_Hospital_ID Teaching_Hospital_Name Physician_Profile_ID  \\\n",
       "0                  NaN                    NaN               269814   \n",
       "1                  NaN                    NaN               180504   \n",
       "2                  NaN                    NaN               180504   \n",
       "3                  NaN                    NaN                86548   \n",
       "4                  NaN                    NaN               307584   \n",
       "\n",
       "  Physician_First_Name Physician_Middle_Name Physician_Last_Name  \\\n",
       "0               CALVIN                     J                KUBO   \n",
       "1              LEONARD                     A            KUCHEMBA   \n",
       "2              LEONARD                     A            KUCHEMBA   \n",
       "3               RONALD                     H           KURLANDER   \n",
       "4               HAROLD                     M           KURLANDER   \n",
       "\n",
       "  Physician_Name_Suffix           ...             \\\n",
       "0                   NaN           ...              \n",
       "1                   NaN           ...              \n",
       "2                   NaN           ...              \n",
       "3                   NaN           ...              \n",
       "4                   NaN           ...              \n",
       "\n",
       "  NDC_of_Associated_Covered_Drug_or_Biological3  \\\n",
       "0                                           NaN   \n",
       "1                                           NaN   \n",
       "2                                           NaN   \n",
       "3                                           NaN   \n",
       "4                                           NaN   \n",
       "\n",
       "  NDC_of_Associated_Covered_Drug_or_Biological4  \\\n",
       "0                                           NaN   \n",
       "1                                           NaN   \n",
       "2                                           NaN   \n",
       "3                                           NaN   \n",
       "4                                           NaN   \n",
       "\n",
       "  NDC_of_Associated_Covered_Drug_or_Biological5  \\\n",
       "0                                           NaN   \n",
       "1                                           NaN   \n",
       "2                                           NaN   \n",
       "3                                           NaN   \n",
       "4                                           NaN   \n",
       "\n",
       "  Name_of_Associated_Covered_Device_or_Medical_Supply1  \\\n",
       "0                                                NaN     \n",
       "1                                                NaN     \n",
       "2                                                NaN     \n",
       "3                                                NaN     \n",
       "4                                                NaN     \n",
       "\n",
       "  Name_of_Associated_Covered_Device_or_Medical_Supply2  \\\n",
       "0                                                NaN     \n",
       "1                                                NaN     \n",
       "2                                                NaN     \n",
       "3                                                NaN     \n",
       "4                                                NaN     \n",
       "\n",
       "  Name_of_Associated_Covered_Device_or_Medical_Supply3  \\\n",
       "0                                                NaN     \n",
       "1                                                NaN     \n",
       "2                                                NaN     \n",
       "3                                                NaN     \n",
       "4                                                NaN     \n",
       "\n",
       "  Name_of_Associated_Covered_Device_or_Medical_Supply4  \\\n",
       "0                                                NaN     \n",
       "1                                                NaN     \n",
       "2                                                NaN     \n",
       "3                                                NaN     \n",
       "4                                                NaN     \n",
       "\n",
       "  Name_of_Associated_Covered_Device_or_Medical_Supply5 Program_Year  \\\n",
       "0                                                NaN           2013   \n",
       "1                                                NaN           2013   \n",
       "2                                                NaN           2013   \n",
       "3                                                NaN           2013   \n",
       "4                                                NaN           2013   \n",
       "\n",
       "  Payment_Publication_Date  \n",
       "0               06/30/2016  \n",
       "1               06/30/2016  \n",
       "2               06/30/2016  \n",
       "3               06/30/2016  \n",
       "4               06/30/2016  \n",
       "\n",
       "[5 rows x 65 columns]"
      ]
     },
     "execution_count": 3,
     "metadata": {},
     "output_type": "execute_result"
    }
   ],
   "source": [
    "df = pd.read_csv(r'payments_13/OP_DTL_GNRL_PGYR2013_P06302016.csv', dtype=types)\n",
    "df.head()"
   ]
  },
  {
   "cell_type": "markdown",
   "metadata": {},
   "source": [
    "\n"
   ]
  },
  {
   "cell_type": "markdown",
   "metadata": {},
   "source": [
    "## Pare down to the columns we care about"
   ]
  },
  {
   "cell_type": "code",
   "execution_count": 5,
   "metadata": {
    "collapsed": false
   },
   "outputs": [],
   "source": [
    "payments = df[['Physician_Profile_ID', 'Physician_First_Name', 'Physician_Middle_Name',\n",
    "       'Physician_Last_Name', 'Physician_Name_Suffix',\n",
    "       'Recipient_Primary_Business_Street_Address_Line1',\n",
    "       'Recipient_Primary_Business_Street_Address_Line2', 'Recipient_City',\n",
    "       'Recipient_State', 'Recipient_Zip_Code', 'Recipient_Country',\n",
    "       'Recipient_Province', 'Recipient_Postal_Code', 'Physician_Primary_Type',\n",
    "       'Physician_Specialty', 'Physician_License_State_code1',\n",
    "       'Physician_License_State_code2', 'Physician_License_State_code3',\n",
    "       'Physician_License_State_code4', 'Physician_License_State_code5',\n",
    "       'Submitting_Applicable_Manufacturer_or_Applicable_GPO_Name',\n",
    "       'Applicable_Manufacturer_or_Applicable_GPO_Making_Payment_ID',\n",
    "       'Applicable_Manufacturer_or_Applicable_GPO_Making_Payment_Name',\n",
    "       'Applicable_Manufacturer_or_Applicable_GPO_Making_Payment_State',\n",
    "       'Applicable_Manufacturer_or_Applicable_GPO_Making_Payment_Country',\n",
    "       'Total_Amount_of_Payment_USDollars', 'Date_of_Payment',\n",
    "       'Number_of_Payments_Included_in_Total_Amount',\n",
    "       'Form_of_Payment_or_Transfer_of_Value',\n",
    "       'Nature_of_Payment_or_Transfer_of_Value',]]"
   ]
  },
  {
   "cell_type": "code",
   "execution_count": 6,
   "metadata": {
    "collapsed": false
   },
   "outputs": [],
   "source": [
    "payment_info = payments[['Physician_Profile_ID', 'Physician_First_Name', 'Physician_Middle_Name',\n",
    "       'Physician_Last_Name',\n",
    "       'Recipient_Primary_Business_Street_Address_Line1', 'Recipient_City',\n",
    "       'Recipient_State']]"
   ]
  },
  {
   "cell_type": "markdown",
   "metadata": {},
   "source": [
    "Now we have the information we need to look up a provider in the NPPES dataset"
   ]
  },
  {
   "cell_type": "code",
   "execution_count": 7,
   "metadata": {
    "collapsed": false
   },
   "outputs": [
    {
     "data": {
      "text/html": [
       "<div>\n",
       "<table border=\"1\" class=\"dataframe\">\n",
       "  <thead>\n",
       "    <tr style=\"text-align: right;\">\n",
       "      <th></th>\n",
       "      <th>Physician_Profile_ID</th>\n",
       "      <th>Physician_First_Name</th>\n",
       "      <th>Physician_Middle_Name</th>\n",
       "      <th>Physician_Last_Name</th>\n",
       "      <th>Recipient_Primary_Business_Street_Address_Line1</th>\n",
       "      <th>Recipient_City</th>\n",
       "      <th>Recipient_State</th>\n",
       "    </tr>\n",
       "  </thead>\n",
       "  <tbody>\n",
       "    <tr>\n",
       "      <th>0</th>\n",
       "      <td>269814</td>\n",
       "      <td>CALVIN</td>\n",
       "      <td>J</td>\n",
       "      <td>KUBO</td>\n",
       "      <td>9500 STOCKDALE HWY</td>\n",
       "      <td>BAKERSFIELD</td>\n",
       "      <td>CA</td>\n",
       "    </tr>\n",
       "    <tr>\n",
       "      <th>1</th>\n",
       "      <td>180504</td>\n",
       "      <td>LEONARD</td>\n",
       "      <td>A</td>\n",
       "      <td>KUCHEMBA</td>\n",
       "      <td>610 WYOMING AVE</td>\n",
       "      <td>KINGSTON</td>\n",
       "      <td>PA</td>\n",
       "    </tr>\n",
       "    <tr>\n",
       "      <th>2</th>\n",
       "      <td>180504</td>\n",
       "      <td>LEONARD</td>\n",
       "      <td>A</td>\n",
       "      <td>KUCHEMBA</td>\n",
       "      <td>610 WYOMING AVE</td>\n",
       "      <td>KINGSTON</td>\n",
       "      <td>PA</td>\n",
       "    </tr>\n",
       "    <tr>\n",
       "      <th>3</th>\n",
       "      <td>86548</td>\n",
       "      <td>RONALD</td>\n",
       "      <td>H</td>\n",
       "      <td>KURLANDER</td>\n",
       "      <td>1 MEDICAL PLZ</td>\n",
       "      <td>POMPANO BEACH</td>\n",
       "      <td>FL</td>\n",
       "    </tr>\n",
       "    <tr>\n",
       "      <th>4</th>\n",
       "      <td>307584</td>\n",
       "      <td>HAROLD</td>\n",
       "      <td>M</td>\n",
       "      <td>KURLANDER</td>\n",
       "      <td>909 FROSTWOOD DR</td>\n",
       "      <td>HOUSTON</td>\n",
       "      <td>TX</td>\n",
       "    </tr>\n",
       "  </tbody>\n",
       "</table>\n",
       "</div>"
      ],
      "text/plain": [
       "  Physician_Profile_ID Physician_First_Name Physician_Middle_Name  \\\n",
       "0               269814               CALVIN                     J   \n",
       "1               180504              LEONARD                     A   \n",
       "2               180504              LEONARD                     A   \n",
       "3                86548               RONALD                     H   \n",
       "4               307584               HAROLD                     M   \n",
       "\n",
       "  Physician_Last_Name Recipient_Primary_Business_Street_Address_Line1  \\\n",
       "0                KUBO                              9500 STOCKDALE HWY   \n",
       "1            KUCHEMBA                                 610 WYOMING AVE   \n",
       "2            KUCHEMBA                                 610 WYOMING AVE   \n",
       "3           KURLANDER                                   1 MEDICAL PLZ   \n",
       "4           KURLANDER                                909 FROSTWOOD DR   \n",
       "\n",
       "  Recipient_City Recipient_State  \n",
       "0    BAKERSFIELD              CA  \n",
       "1       KINGSTON              PA  \n",
       "2       KINGSTON              PA  \n",
       "3  POMPANO BEACH              FL  \n",
       "4        HOUSTON              TX  "
      ]
     },
     "execution_count": 7,
     "metadata": {},
     "output_type": "execute_result"
    }
   ],
   "source": [
    "payment_info.head()"
   ]
  },
  {
   "cell_type": "markdown",
   "metadata": {},
   "source": [
    "\n",
    "\n"
   ]
  },
  {
   "cell_type": "markdown",
   "metadata": {},
   "source": [
    "## Read in the NPPES dataset "
   ]
  },
  {
   "cell_type": "markdown",
   "metadata": {},
   "source": [
    "We will use this to lookup a provider's NPI from their first_name, middle_name, last_name, address, state, and city given in the payments dataset."
   ]
  },
  {
   "cell_type": "code",
   "execution_count": 8,
   "metadata": {
    "collapsed": false
   },
   "outputs": [
    {
     "data": {
      "text/html": [
       "<div>\n",
       "<table border=\"1\" class=\"dataframe\">\n",
       "  <thead>\n",
       "    <tr style=\"text-align: right;\">\n",
       "      <th></th>\n",
       "      <th>NPI</th>\n",
       "      <th>Provider Last Name (Legal Name)</th>\n",
       "      <th>Provider First Name</th>\n",
       "      <th>Provider Middle Name</th>\n",
       "      <th>Provider First Line Business Mailing Address</th>\n",
       "      <th>Provider Business Mailing Address City Name</th>\n",
       "      <th>Provider Business Mailing Address State Name</th>\n",
       "    </tr>\n",
       "  </thead>\n",
       "  <tbody>\n",
       "    <tr>\n",
       "      <th>0</th>\n",
       "      <td>1679576722</td>\n",
       "      <td>WIEBE</td>\n",
       "      <td>DAVID</td>\n",
       "      <td>A</td>\n",
       "      <td>PO BOX 2168</td>\n",
       "      <td>KEARNEY</td>\n",
       "      <td>NE</td>\n",
       "    </tr>\n",
       "    <tr>\n",
       "      <th>1</th>\n",
       "      <td>1588667638</td>\n",
       "      <td>PILCHER</td>\n",
       "      <td>WILLIAM</td>\n",
       "      <td>C</td>\n",
       "      <td>1824 KING STREET</td>\n",
       "      <td>JACKSONVILLE</td>\n",
       "      <td>FL</td>\n",
       "    </tr>\n",
       "    <tr>\n",
       "      <th>2</th>\n",
       "      <td>1497758544</td>\n",
       "      <td>NaN</td>\n",
       "      <td>NaN</td>\n",
       "      <td>NaN</td>\n",
       "      <td>3418 VILLAGE DR</td>\n",
       "      <td>FAYETTEVILLE</td>\n",
       "      <td>NC</td>\n",
       "    </tr>\n",
       "    <tr>\n",
       "      <th>3</th>\n",
       "      <td>1306849450</td>\n",
       "      <td>SMITSON</td>\n",
       "      <td>HAROLD</td>\n",
       "      <td>LEROY</td>\n",
       "      <td>810 LUCAS DR</td>\n",
       "      <td>ATHENS</td>\n",
       "      <td>TX</td>\n",
       "    </tr>\n",
       "    <tr>\n",
       "      <th>4</th>\n",
       "      <td>1215930367</td>\n",
       "      <td>GRESSOT</td>\n",
       "      <td>LAURENT</td>\n",
       "      <td>NaN</td>\n",
       "      <td>17323 RED OAK DR</td>\n",
       "      <td>HOUSTON</td>\n",
       "      <td>TX</td>\n",
       "    </tr>\n",
       "  </tbody>\n",
       "</table>\n",
       "</div>"
      ],
      "text/plain": [
       "          NPI Provider Last Name (Legal Name) Provider First Name  \\\n",
       "0  1679576722                           WIEBE               DAVID   \n",
       "1  1588667638                         PILCHER             WILLIAM   \n",
       "2  1497758544                             NaN                 NaN   \n",
       "3  1306849450                         SMITSON              HAROLD   \n",
       "4  1215930367                         GRESSOT             LAURENT   \n",
       "\n",
       "  Provider Middle Name Provider First Line Business Mailing Address  \\\n",
       "0                    A                                  PO BOX 2168   \n",
       "1                    C                             1824 KING STREET   \n",
       "2                  NaN                              3418 VILLAGE DR   \n",
       "3                LEROY                                 810 LUCAS DR   \n",
       "4                  NaN                             17323 RED OAK DR   \n",
       "\n",
       "  Provider Business Mailing Address City Name  \\\n",
       "0                                     KEARNEY   \n",
       "1                                JACKSONVILLE   \n",
       "2                                FAYETTEVILLE   \n",
       "3                                      ATHENS   \n",
       "4                                     HOUSTON   \n",
       "\n",
       "  Provider Business Mailing Address State Name  \n",
       "0                                           NE  \n",
       "1                                           FL  \n",
       "2                                           NC  \n",
       "3                                           TX  \n",
       "4                                           TX  "
      ]
     },
     "execution_count": 8,
     "metadata": {},
     "output_type": "execute_result"
    }
   ],
   "source": [
    "nppes = pd.read_csv(r'NPPES/npidata_20050523-20170108.csv', usecols=['NPI', 'Provider Last Name (Legal Name)', 'Provider First Name', 'Provider Middle Name', 'Provider First Line Business Mailing Address', 'Provider Business Mailing Address City Name', 'Provider Business Mailing Address State Name'], dtype={'Provider Business Mailing Address Postal Code': 'str'})\n",
    "nppes.head()"
   ]
  },
  {
   "cell_type": "code",
   "execution_count": 9,
   "metadata": {
    "collapsed": true
   },
   "outputs": [],
   "source": [
    "nppes.columns = ['NPI', 'last_name', 'first_name', 'middle_name', 'address', 'city', 'state']\n",
    "payment_info.columns = ['Physician_Profile_ID', 'first_name', 'middle_name', 'last_name', 'address', 'city', 'state']"
   ]
  },
  {
   "cell_type": "code",
   "execution_count": 10,
   "metadata": {
    "collapsed": false
   },
   "outputs": [
    {
     "data": {
      "text/html": [
       "<div>\n",
       "<table border=\"1\" class=\"dataframe\">\n",
       "  <thead>\n",
       "    <tr style=\"text-align: right;\">\n",
       "      <th></th>\n",
       "      <th>NPI</th>\n",
       "      <th>last_name</th>\n",
       "      <th>first_name</th>\n",
       "      <th>middle_name</th>\n",
       "      <th>address</th>\n",
       "      <th>city</th>\n",
       "      <th>state</th>\n",
       "    </tr>\n",
       "  </thead>\n",
       "  <tbody>\n",
       "    <tr>\n",
       "      <th>0</th>\n",
       "      <td>1679576722</td>\n",
       "      <td>WIEBE</td>\n",
       "      <td>DAVID</td>\n",
       "      <td>A</td>\n",
       "      <td>PO BOX 2168</td>\n",
       "      <td>KEARNEY</td>\n",
       "      <td>NE</td>\n",
       "    </tr>\n",
       "    <tr>\n",
       "      <th>1</th>\n",
       "      <td>1588667638</td>\n",
       "      <td>PILCHER</td>\n",
       "      <td>WILLIAM</td>\n",
       "      <td>C</td>\n",
       "      <td>1824 KING STREET</td>\n",
       "      <td>JACKSONVILLE</td>\n",
       "      <td>FL</td>\n",
       "    </tr>\n",
       "    <tr>\n",
       "      <th>2</th>\n",
       "      <td>1497758544</td>\n",
       "      <td>NaN</td>\n",
       "      <td>NaN</td>\n",
       "      <td>NaN</td>\n",
       "      <td>3418 VILLAGE DR</td>\n",
       "      <td>FAYETTEVILLE</td>\n",
       "      <td>NC</td>\n",
       "    </tr>\n",
       "    <tr>\n",
       "      <th>3</th>\n",
       "      <td>1306849450</td>\n",
       "      <td>SMITSON</td>\n",
       "      <td>HAROLD</td>\n",
       "      <td>LEROY</td>\n",
       "      <td>810 LUCAS DR</td>\n",
       "      <td>ATHENS</td>\n",
       "      <td>TX</td>\n",
       "    </tr>\n",
       "    <tr>\n",
       "      <th>4</th>\n",
       "      <td>1215930367</td>\n",
       "      <td>GRESSOT</td>\n",
       "      <td>LAURENT</td>\n",
       "      <td>NaN</td>\n",
       "      <td>17323 RED OAK DR</td>\n",
       "      <td>HOUSTON</td>\n",
       "      <td>TX</td>\n",
       "    </tr>\n",
       "  </tbody>\n",
       "</table>\n",
       "</div>"
      ],
      "text/plain": [
       "          NPI last_name first_name middle_name           address  \\\n",
       "0  1679576722     WIEBE      DAVID           A       PO BOX 2168   \n",
       "1  1588667638   PILCHER    WILLIAM           C  1824 KING STREET   \n",
       "2  1497758544       NaN        NaN         NaN   3418 VILLAGE DR   \n",
       "3  1306849450   SMITSON     HAROLD       LEROY      810 LUCAS DR   \n",
       "4  1215930367   GRESSOT    LAURENT         NaN  17323 RED OAK DR   \n",
       "\n",
       "           city state  \n",
       "0       KEARNEY    NE  \n",
       "1  JACKSONVILLE    FL  \n",
       "2  FAYETTEVILLE    NC  \n",
       "3        ATHENS    TX  \n",
       "4       HOUSTON    TX  "
      ]
     },
     "execution_count": 10,
     "metadata": {},
     "output_type": "execute_result"
    }
   ],
   "source": [
    "nppes.head()"
   ]
  },
  {
   "cell_type": "markdown",
   "metadata": {},
   "source": [
    "Remove the duplicates from the payments dataset"
   ]
  },
  {
   "cell_type": "code",
   "execution_count": 11,
   "metadata": {
    "collapsed": false
   },
   "outputs": [],
   "source": [
    "payment_info = payment_info.drop_duplicates()"
   ]
  },
  {
   "cell_type": "markdown",
   "metadata": {},
   "source": [
    "Merge the NPPES dataset with the payment information on the provider address info"
   ]
  },
  {
   "cell_type": "code",
   "execution_count": 12,
   "metadata": {
    "collapsed": false
   },
   "outputs": [],
   "source": [
    "payment_npi = payment_info.merge(nppes, on=['last_name', \n",
    "                                            'first_name', \n",
    "                                            'middle_name', \n",
    "                                            'address', \n",
    "                                            'city', 'state'], how='inner')"
   ]
  },
  {
   "cell_type": "markdown",
   "metadata": {
    "collapsed": false
   },
   "source": [
    "Drop any duplicate address/name combinations"
   ]
  },
  {
   "cell_type": "code",
   "execution_count": 13,
   "metadata": {
    "collapsed": false
   },
   "outputs": [],
   "source": [
    "payment_npi = payment_npi[~payment_npi.duplicated(subset=['last_name', \n",
    "                                                          'first_name', \n",
    "                                                          'middle_name', \n",
    "                                                          'address', \n",
    "                                                          'city', 'state'] ,keep=False)]"
   ]
  },
  {
   "cell_type": "code",
   "execution_count": 14,
   "metadata": {
    "collapsed": false
   },
   "outputs": [
    {
     "data": {
      "text/html": [
       "<div>\n",
       "<table border=\"1\" class=\"dataframe\">\n",
       "  <thead>\n",
       "    <tr style=\"text-align: right;\">\n",
       "      <th></th>\n",
       "      <th>Physician_Profile_ID</th>\n",
       "      <th>first_name</th>\n",
       "      <th>middle_name</th>\n",
       "      <th>last_name</th>\n",
       "      <th>address</th>\n",
       "      <th>city</th>\n",
       "      <th>state</th>\n",
       "      <th>NPI</th>\n",
       "    </tr>\n",
       "  </thead>\n",
       "  <tbody>\n",
       "    <tr>\n",
       "      <th>0</th>\n",
       "      <td>155645</td>\n",
       "      <td>JONATHAN</td>\n",
       "      <td>K</td>\n",
       "      <td>KUROHARA</td>\n",
       "      <td>2876 SYCAMORE DR</td>\n",
       "      <td>SIMI VALLEY</td>\n",
       "      <td>CA</td>\n",
       "      <td>1427023407</td>\n",
       "    </tr>\n",
       "    <tr>\n",
       "      <th>1</th>\n",
       "      <td>103390</td>\n",
       "      <td>RALPH</td>\n",
       "      <td>NaN</td>\n",
       "      <td>PALUMBO</td>\n",
       "      <td>1601 CLINT MOORE RD</td>\n",
       "      <td>BOCA RATON</td>\n",
       "      <td>FL</td>\n",
       "      <td>1295717718</td>\n",
       "    </tr>\n",
       "    <tr>\n",
       "      <th>2</th>\n",
       "      <td>175237</td>\n",
       "      <td>SANJIV</td>\n",
       "      <td>A</td>\n",
       "      <td>PATEL</td>\n",
       "      <td>1130 UPPER FRONT ST</td>\n",
       "      <td>BINGHAMTON</td>\n",
       "      <td>NY</td>\n",
       "      <td>1861564999</td>\n",
       "    </tr>\n",
       "    <tr>\n",
       "      <th>3</th>\n",
       "      <td>244224</td>\n",
       "      <td>STEVEN</td>\n",
       "      <td>J</td>\n",
       "      <td>PETIT</td>\n",
       "      <td>630 S RAYMOND AVE</td>\n",
       "      <td>PASADENA</td>\n",
       "      <td>CA</td>\n",
       "      <td>1376567495</td>\n",
       "    </tr>\n",
       "    <tr>\n",
       "      <th>4</th>\n",
       "      <td>130534</td>\n",
       "      <td>MANANA</td>\n",
       "      <td>NaN</td>\n",
       "      <td>PETROV</td>\n",
       "      <td>353 OCEAN AVE</td>\n",
       "      <td>BROOKLYN</td>\n",
       "      <td>NY</td>\n",
       "      <td>1881620227</td>\n",
       "    </tr>\n",
       "  </tbody>\n",
       "</table>\n",
       "</div>"
      ],
      "text/plain": [
       "  Physician_Profile_ID first_name middle_name last_name              address  \\\n",
       "0               155645   JONATHAN           K  KUROHARA     2876 SYCAMORE DR   \n",
       "1               103390      RALPH         NaN   PALUMBO  1601 CLINT MOORE RD   \n",
       "2               175237     SANJIV           A     PATEL  1130 UPPER FRONT ST   \n",
       "3               244224     STEVEN           J     PETIT    630 S RAYMOND AVE   \n",
       "4               130534     MANANA         NaN    PETROV        353 OCEAN AVE   \n",
       "\n",
       "          city state         NPI  \n",
       "0  SIMI VALLEY    CA  1427023407  \n",
       "1   BOCA RATON    FL  1295717718  \n",
       "2   BINGHAMTON    NY  1861564999  \n",
       "3     PASADENA    CA  1376567495  \n",
       "4     BROOKLYN    NY  1881620227  "
      ]
     },
     "execution_count": 14,
     "metadata": {},
     "output_type": "execute_result"
    }
   ],
   "source": [
    "payment_npi.head()"
   ]
  },
  {
   "cell_type": "code",
   "execution_count": 16,
   "metadata": {
    "collapsed": false
   },
   "outputs": [
    {
     "data": {
      "text/html": [
       "<div>\n",
       "<table border=\"1\" class=\"dataframe\">\n",
       "  <thead>\n",
       "    <tr style=\"text-align: right;\">\n",
       "      <th></th>\n",
       "      <th>Physician_Profile_ID</th>\n",
       "      <th>NPI</th>\n",
       "    </tr>\n",
       "  </thead>\n",
       "  <tbody>\n",
       "    <tr>\n",
       "      <th>0</th>\n",
       "      <td>155645</td>\n",
       "      <td>1427023407</td>\n",
       "    </tr>\n",
       "    <tr>\n",
       "      <th>1</th>\n",
       "      <td>103390</td>\n",
       "      <td>1295717718</td>\n",
       "    </tr>\n",
       "    <tr>\n",
       "      <th>2</th>\n",
       "      <td>175237</td>\n",
       "      <td>1861564999</td>\n",
       "    </tr>\n",
       "    <tr>\n",
       "      <th>3</th>\n",
       "      <td>244224</td>\n",
       "      <td>1376567495</td>\n",
       "    </tr>\n",
       "    <tr>\n",
       "      <th>4</th>\n",
       "      <td>130534</td>\n",
       "      <td>1881620227</td>\n",
       "    </tr>\n",
       "  </tbody>\n",
       "</table>\n",
       "</div>"
      ],
      "text/plain": [
       "  Physician_Profile_ID         NPI\n",
       "0               155645  1427023407\n",
       "1               103390  1295717718\n",
       "2               175237  1861564999\n",
       "3               244224  1376567495\n",
       "4               130534  1881620227"
      ]
     },
     "execution_count": 16,
     "metadata": {},
     "output_type": "execute_result"
    }
   ],
   "source": [
    "payment_npi[['Physician_Profile_ID', 'NPI']].head()"
   ]
  },
  {
   "cell_type": "markdown",
   "metadata": {},
   "source": [
    "Export the physician_profile to NPI mapping"
   ]
  },
  {
   "cell_type": "code",
   "execution_count": 21,
   "metadata": {
    "collapsed": false
   },
   "outputs": [],
   "source": [
    "# payment_npi[['Physician_Profile_ID', 'NPI']].to_csv(r'payment_npi_mapping.csv')"
   ]
  },
  {
   "cell_type": "code",
   "execution_count": null,
   "metadata": {
    "collapsed": true
   },
   "outputs": [],
   "source": []
  },
  {
   "cell_type": "code",
   "execution_count": null,
   "metadata": {
    "collapsed": true
   },
   "outputs": [],
   "source": []
  },
  {
   "cell_type": "code",
   "execution_count": null,
   "metadata": {
    "collapsed": true
   },
   "outputs": [],
   "source": []
  },
  {
   "cell_type": "code",
   "execution_count": null,
   "metadata": {
    "collapsed": true
   },
   "outputs": [],
   "source": []
  },
  {
   "cell_type": "code",
   "execution_count": null,
   "metadata": {
    "collapsed": true
   },
   "outputs": [],
   "source": []
  },
  {
   "cell_type": "code",
   "execution_count": null,
   "metadata": {
    "collapsed": true
   },
   "outputs": [],
   "source": []
  }
 ],
 "metadata": {
  "anaconda-cloud": {},
  "kernelspec": {
   "display_name": "Python [conda root]",
   "language": "python",
   "name": "conda-root-py"
  },
  "language_info": {
   "codemirror_mode": {
    "name": "ipython",
    "version": 3
   },
   "file_extension": ".py",
   "mimetype": "text/x-python",
   "name": "python",
   "nbconvert_exporter": "python",
   "pygments_lexer": "ipython3",
   "version": "3.5.2"
  }
 },
 "nbformat": 4,
 "nbformat_minor": 1
}
