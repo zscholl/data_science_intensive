{
 "cells": [
  {
   "cell_type": "markdown",
   "metadata": {},
   "source": [
    "# Examining Racial Discrimination in the US Job Market\n",
    "\n",
    "### Background\n",
    "Racial discrimination continues to be pervasive in cultures throughout the world. Researchers examined the level of racial discrimination in the United States labor market by randomly assigning identical résumés to black-sounding or white-sounding names and observing the impact on requests for interviews from employers.\n",
    "\n",
    "### Data\n",
    "In the dataset provided, each row represents a resume. The 'race' column has two values, 'b' and 'w', indicating black-sounding and white-sounding. The column 'call' has two values, 1 and 0, indicating whether the resume received a call from employers or not.\n",
    "\n",
    "Note that the 'b' and 'w' values in race are assigned randomly to the resumes when presented to the employer."
   ]
  },
  {
   "cell_type": "code",
   "execution_count": 15,
   "metadata": {
    "collapsed": false
   },
   "outputs": [],
   "source": [
    "import pandas as pd\n",
    "import numpy as np\n",
    "from scipy import stats\n",
    "import seaborn as sns\n",
    "import math\n",
    "%matplotlib inline"
   ]
  },
  {
   "cell_type": "code",
   "execution_count": 2,
   "metadata": {
    "collapsed": false
   },
   "outputs": [],
   "source": [
    "data = pd.io.stata.read_stata('data/us_job_market_discrimination.dta')"
   ]
  },
  {
   "cell_type": "code",
   "execution_count": 3,
   "metadata": {
    "collapsed": false
   },
   "outputs": [
    {
     "data": {
      "text/plain": [
       "157.0"
      ]
     },
     "execution_count": 3,
     "metadata": {},
     "output_type": "execute_result"
    }
   ],
   "source": [
    "# number of callbacks for black-sounding names\n",
    "sum(data[data.race=='b'].call)"
   ]
  },
  {
   "cell_type": "code",
   "execution_count": 4,
   "metadata": {
    "collapsed": false
   },
   "outputs": [
    {
     "data": {
      "text/plain": [
       "146.87720739219711"
      ]
     },
     "execution_count": 4,
     "metadata": {},
     "output_type": "execute_result"
    }
   ],
   "source": [
    "n = len(data[data.race=='b'])\n",
    "p = sum(data[data.race=='b'].call) / n\n",
    "q = 1 - p\n",
    "npq = n * p * q\n",
    "npq"
   ]
  },
  {
   "cell_type": "code",
   "execution_count": 5,
   "metadata": {
    "collapsed": false
   },
   "outputs": [
    {
     "data": {
      "text/plain": [
       "235.0"
      ]
     },
     "execution_count": 5,
     "metadata": {},
     "output_type": "execute_result"
    }
   ],
   "source": [
    "# number of callbacks for white-sounding names\n",
    "sum(data[data.race=='w'].call)"
   ]
  },
  {
   "cell_type": "code",
   "execution_count": 6,
   "metadata": {
    "collapsed": false
   },
   "outputs": [
    {
     "data": {
      "text/plain": [
       "212.32032854209444"
      ]
     },
     "execution_count": 6,
     "metadata": {},
     "output_type": "execute_result"
    }
   ],
   "source": [
    "n = len(data[data.race=='w'])\n",
    "p = sum(data[data.race=='w'].call) / n\n",
    "q = 1 - p\n",
    "npq = n * p * q\n",
    "npq"
   ]
  },
  {
   "cell_type": "code",
   "execution_count": 7,
   "metadata": {
    "collapsed": false
   },
   "outputs": [
    {
     "data": {
      "text/plain": [
       "4870"
      ]
     },
     "execution_count": 7,
     "metadata": {},
     "output_type": "execute_result"
    }
   ],
   "source": [
    "# total size of sample\n",
    "len(data)"
   ]
  },
  {
   "cell_type": "code",
   "execution_count": 8,
   "metadata": {
    "collapsed": false
   },
   "outputs": [
    {
     "data": {
      "text/plain": [
       "2435"
      ]
     },
     "execution_count": 8,
     "metadata": {},
     "output_type": "execute_result"
    }
   ],
   "source": [
    "# number of white-sounding names\n",
    "len(data[data.race=='w'])"
   ]
  },
  {
   "cell_type": "code",
   "execution_count": 9,
   "metadata": {
    "collapsed": false
   },
   "outputs": [
    {
     "data": {
      "text/plain": [
       "2435"
      ]
     },
     "execution_count": 9,
     "metadata": {},
     "output_type": "execute_result"
    }
   ],
   "source": [
    "# number of black-sounding names\n",
    "len(data[data.race=='b'])"
   ]
  },
  {
   "cell_type": "markdown",
   "metadata": {},
   "source": [
    "# What test is appropriate; does CLT apply?"
   ]
  },
  {
   "cell_type": "markdown",
   "metadata": {},
   "source": [
    "For this scenario we have two binomial distributions and we want to test if the difference in proportions between these two distributions is significant. \n",
    "\n",
    "The Central Limit Theory tells us that a binomial distribution is approximately normal. And it is a reasonable approximation if $npq \\ge 5$\n",
    "\n",
    "In this case for black-sounding names $npq \\approx 146.9$ and for white-sounding names it's $\\approx 212.3$\n",
    "\n",
    "\n",
    "So we can use a Z test statistic."
   ]
  },
  {
   "cell_type": "markdown",
   "metadata": {},
   "source": [
    "\n"
   ]
  },
  {
   "cell_type": "markdown",
   "metadata": {},
   "source": [
    "\n"
   ]
  },
  {
   "cell_type": "markdown",
   "metadata": {},
   "source": [
    "# What are the null and alternate hypotheses?"
   ]
  },
  {
   "cell_type": "markdown",
   "metadata": {},
   "source": [
    "The null hypothesis is that the proportions of both samples are equal, and the alternate hypothesis is that the proportions of both samples are not equal.\n",
    "\n",
    "$H_{0}: \\hat p_{b} = \\hat p_{w}$ or that    $\\hat p_{b} - \\hat p_{w} = 0$\n",
    "\n",
    "$H_{a}: \\hat p_{b} \\ne \\hat p_{w}$ or that    $\\hat p_{b} - \\hat p_{w} \\ne 0$"
   ]
  },
  {
   "cell_type": "markdown",
   "metadata": {},
   "source": [
    "\n",
    "\n"
   ]
  },
  {
   "cell_type": "markdown",
   "metadata": {},
   "source": [
    "\n"
   ]
  },
  {
   "cell_type": "markdown",
   "metadata": {},
   "source": [
    "# Compute margin of error, confidence interval, and p-value"
   ]
  },
  {
   "cell_type": "markdown",
   "metadata": {},
   "source": [
    "Pooled Sample Proportion\n",
    "\n",
    "$p = \\frac{Success_{b} + Success_{w} }{n_{b} + n_{w}}$ \n",
    "\n",
    "Standard Error\n",
    "\n",
    "$SE = \\sqrt{p(1 - p)( \\frac{1}{n_{b}} + \\frac{1}{n_{w}} )}$\n",
    "\n",
    "$Z = \\frac{(\\hat p_{b} - \\hat p_{w}) - 0}{ \\sqrt{ p(1 - \\hat p) (\\frac{1}{n_{b}} + \\frac{1}{n_{w}}) }}$\n",
    "\n"
   ]
  },
  {
   "cell_type": "code",
   "execution_count": 10,
   "metadata": {
    "collapsed": false
   },
   "outputs": [
    {
     "data": {
      "text/plain": [
       "-4.1084121524343464"
      ]
     },
     "execution_count": 10,
     "metadata": {},
     "output_type": "execute_result"
    }
   ],
   "source": [
    "n_b = float(len(data[data.race=='b']))\n",
    "n_w = float(len(data[data.race=='w']))\n",
    "\n",
    "suc_b = sum(data[data.race=='b'].call)\n",
    "suc_w = sum(data[data.race=='w'].call)\n",
    "\n",
    "p_hat_b = suc_b / n_b\n",
    "p_hat_w = suc_w / n_w\n",
    "\n",
    "p = (suc_b + suc_w) / (n_b + n_w)\n",
    "\n",
    "se = math.sqrt( p * (1 - p) * ( (1 / n_b) + (1 / n_w) ) )\n",
    "\n",
    "z = (p_hat_b - p_hat_w) / se\n",
    "\n",
    "z"
   ]
  },
  {
   "cell_type": "code",
   "execution_count": 11,
   "metadata": {
    "collapsed": false
   },
   "outputs": [
    {
     "data": {
      "text/plain": [
       "3.9838868375850767e-05"
      ]
     },
     "execution_count": 11,
     "metadata": {},
     "output_type": "execute_result"
    }
   ],
   "source": [
    "# our p-value is 2x the area under the curve at Z\n",
    "stats.norm.cdf(z) * 2"
   ]
  },
  {
   "cell_type": "markdown",
   "metadata": {},
   "source": [
    "So our p-value is $3.98 * 10^{-5}$ this is sufficient evidence to reject the null hypothesis and conclude that indeed there is a difference between the proportion of interviews a 'black-sounding' name gets compared to a 'white-sounding' name on a resumé."
   ]
  },
  {
   "cell_type": "code",
   "execution_count": 12,
   "metadata": {
    "collapsed": false
   },
   "outputs": [
    {
     "data": {
      "text/plain": [
       "[-0.047314766520339682, -0.016750941898551489]"
      ]
     },
     "execution_count": 12,
     "metadata": {},
     "output_type": "execute_result"
    }
   ],
   "source": [
    "# 95% CI\n",
    "diff = p_hat_b - p_hat_w\n",
    "ci = [diff - se * 1.96, diff + se * 1.96]\n",
    "ci"
   ]
  },
  {
   "cell_type": "markdown",
   "metadata": {},
   "source": [
    "  \n",
    "  "
   ]
  },
  {
   "cell_type": "markdown",
   "metadata": {},
   "source": [
    "We are 95% confident that the true difference in proportion is between 0.047 and 0.017, or 4.7% and 1.7%"
   ]
  },
  {
   "cell_type": "code",
   "execution_count": 13,
   "metadata": {
    "collapsed": false
   },
   "outputs": [
    {
     "data": {
      "text/plain": [
       "0.015281912310894095"
      ]
     },
     "execution_count": 13,
     "metadata": {},
     "output_type": "execute_result"
    }
   ],
   "source": [
    "# margin of error\n",
    "me = 1.96 * se\n",
    "me"
   ]
  },
  {
   "cell_type": "markdown",
   "metadata": {},
   "source": [
    "\n"
   ]
  },
  {
   "cell_type": "markdown",
   "metadata": {},
   "source": [
    "Our margin of error for the true difference in proportions is $\\approx 0.0153$ or 1.5%"
   ]
  },
  {
   "cell_type": "markdown",
   "metadata": {},
   "source": [
    " "
   ]
  },
  {
   "cell_type": "markdown",
   "metadata": {},
   "source": [
    "# Story"
   ]
  },
  {
   "cell_type": "markdown",
   "metadata": {},
   "source": [
    "### Identical resumés with black-sounding names are less likely to get interviews, compared to white-sounding names"
   ]
  },
  {
   "cell_type": "code",
   "execution_count": 14,
   "metadata": {
    "collapsed": false
   },
   "outputs": [
    {
     "data": {
      "image/png": "[encoded data removed]",
      "text/plain": [
       "<matplotlib.figure.Figure at 0x106ace9d0>"
      ]
     },
     "metadata": {},
     "output_type": "display_data"
    }
   ],
   "source": [
    "ax = sns.barplot(['black-sounding', 'white-sounding'], [p_hat_b, p_hat_w])\n",
    "ax.set_title('Likelihood of getting an interview')\n",
    "ax.set_ylabel('Proportion that got interviews')\n",
    "ax.set_xlabel('Name on the resume')\n",
    "ax.set_ylim([0,0.13])\n",
    "None"
   ]
  },
  {
   "cell_type": "markdown",
   "metadata": {
    "collapsed": false
   },
   "source": [
    "Identical resumés were submitted to US companies that were randomly assigned white-sounding or black-sounding names. Then it was recorded which of these resumés recieved requests for interviews.\n",
    "\n",
    "The proportion of resumés which recieved interview request with white-sounding names was significantly higher than it was for black-sounding names. White-sounding resumés recieved about 3%$\\pm$1.5% more interview requests than black-sounding resumés.\n",
    "\n",
    "Statistical analysis of this data revealed that there is less than a .0004% chance that there is a difference between these two groups purely by random chance. \n",
    "\n",
    "So this strongly suggests that there is inherent bias against black-sounding names in the hiring process at the average US company."
   ]
  },
  {
   "cell_type": "markdown",
   "metadata": {},
   "source": [
    " \n",
    " "
   ]
  },
  {
   "cell_type": "markdown",
   "metadata": {},
   "source": [
    "# Is race/name the most important factor?"
   ]
  },
  {
   "cell_type": "markdown",
   "metadata": {},
   "source": [
    "This analysis does not show that a person's race or their name are the most important factor in getting a callback. Just that it does have an effect.\n",
    "\n",
    "Finding out the most important factor would involve considering each variable in predicting the callback outcome. An F-test could be done to identify the most important factors, or which are unimportant in a linear regression model of this data. Additionally, each variable could be analyzed independently and the one that offers the most predictive value could then be identified.\n",
    "\n",
    "It is also possible that some unstudied value or a variable that wasn't capture in this data could be the most important factor in receiving a callback."
   ]
  }
 ],
 "metadata": {
  "anaconda-cloud": {},
  "kernelspec": {
   "display_name": "Python [conda env:py27]",
   "language": "python",
   "name": "conda-env-py27-py"
  },
  "language_info": {
   "codemirror_mode": {
    "name": "ipython",
    "version": 2
   },
   "file_extension": ".py",
   "mimetype": "text/x-python",
   "name": "python",
   "nbconvert_exporter": "python",
   "pygments_lexer": "ipython2",
   "version": "2.7.12"
  }
 },
 "nbformat": 4,
 "nbformat_minor": 0
}
