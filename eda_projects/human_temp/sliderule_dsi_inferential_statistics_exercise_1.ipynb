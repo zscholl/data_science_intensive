{
 "cells": [
  {
   "cell_type": "markdown",
   "metadata": {},
   "source": [
    "# What is the True Normal Human Body Temperature? \n",
    "\n",
    "#### Background\n",
    "\n",
    "The mean normal body temperature was held to be 37$^{\\circ}$C or 98.6$^{\\circ}$F for more than 120 years since it was first conceptualized and reported by Carl Wunderlich in a famous 1868 book. But, is this value statistically correct?"
   ]
  },
  {
   "cell_type": "markdown",
   "metadata": {},
   "source": [
    "<div class=\"span5 alert alert-info\">\n",
    "<h3>Exercises</h3>\n",
    "\n",
    "<p>In this exercise, you will analyze a dataset of human body temperatures and employ the concepts of hypothesis testing, confidence intervals, and statistical significance.</p>\n",
    "\n",
    "<p>Answer the following questions <b>in this notebook below and submit to your Github account</b>.</p> \n",
    "\n",
    "<ol>\n",
    "<li>  Is the distribution of body temperatures normal? \n",
    "    <ul>\n",
    "    <li> Although this is not a requirement for CLT to hold (read CLT carefully), it gives us some peace of mind that the population may also be normally distributed if we assume that this sample is representative of the population.\n",
    "    </ul>\n",
    "<li>  Is the sample size large? Are the observations independent?\n",
    "    <ul>\n",
    "    <li> Remember that this is a condition for the CLT, and hence the statistical tests we are using, to apply.\n",
    "    </ul>\n",
    "<li>  Is the true population mean really 98.6 degrees F?\n",
    "    <ul>\n",
    "    <li> Would you use a one-sample or two-sample test? Why?\n",
    "    <li> In this situation, is it appropriate to use the $t$ or $z$ statistic? \n",
    "    <li> Now try using the other test. How is the result be different? Why?\n",
    "    </ul>\n",
    "<li>  At what temperature should we consider someone's temperature to be \"abnormal\"?\n",
    "    <ul>\n",
    "    <li> Start by computing the margin of error and confidence interval.\n",
    "    </ul>\n",
    "<li>  Is there a significant difference between males and females in normal temperature?\n",
    "    <ul>\n",
    "    <li> What test did you use and why?\n",
    "    <li> Write a story with your conclusion in the context of the original problem.\n",
    "    </ul>\n",
    "</ol>\n",
    "\n",
    "You can include written notes in notebook cells using Markdown: \n",
    "   - In the control panel at the top, choose Cell > Cell Type > Markdown\n",
    "   - Markdown syntax: http://nestacms.com/docs/creating-content/markdown-cheat-sheet\n",
    "\n",
    "#### Resources\n",
    "\n",
    "+ Information and data sources: http://www.amstat.org/publications/jse/datasets/normtemp.txt, http://www.amstat.org/publications/jse/jse_data_archive.htm\n",
    "+ Markdown syntax: http://nestacms.com/docs/creating-content/markdown-cheat-sheet\n",
    "\n",
    "****"
   ]
  },
  {
   "cell_type": "code",
   "execution_count": 82,
   "metadata": {
    "collapsed": false
   },
   "outputs": [],
   "source": [
    "import pandas as pd\n",
    "import numpy as np\n",
    "import matplotlib.pyplot as plt\n",
    "import seaborn as sns\n",
    "import math\n",
    "from scipy import stats\n",
    "%matplotlib inline\n",
    "\n",
    "df = pd.read_csv('data/human_body_temperature.csv')"
   ]
  },
  {
   "cell_type": "markdown",
   "metadata": {},
   "source": [
    "# Is the distribution of body temperature normal?"
   ]
  },
  {
   "cell_type": "code",
   "execution_count": 6,
   "metadata": {
    "collapsed": false
   },
   "outputs": [
    {
     "data": {
      "text/plain": [
       "<matplotlib.axes._subplots.AxesSubplot at 0x117b65d90>"
      ]
     },
     "execution_count": 6,
     "metadata": {},
     "output_type": "execute_result"
    },
    {
     "data": {
      "image/png": "[encoded data removed]",
      "text/plain": [
       "<matplotlib.figure.Figure at 0x119aadb10>"
      ]
     },
     "metadata": {},
     "output_type": "display_data"
    }
   ],
   "source": [
    "sns.distplot(df.temperature)"
   ]
  },
  {
   "cell_type": "markdown",
   "metadata": {},
   "source": [
    "Yes, the distribution of temperature observations is normal.\n",
    "<br>\n",
    "<br>\n",
    "<br>"
   ]
  },
  {
   "cell_type": "markdown",
   "metadata": {},
   "source": [
    "# Is the sample size large? Are the observations independent? "
   ]
  },
  {
   "cell_type": "code",
   "execution_count": 10,
   "metadata": {
    "collapsed": false
   },
   "outputs": [
    {
     "data": {
      "text/plain": [
       "130"
      ]
     },
     "execution_count": 10,
     "metadata": {},
     "output_type": "execute_result"
    }
   ],
   "source": [
    "len(df.temperature)"
   ]
  },
  {
   "cell_type": "markdown",
   "metadata": {},
   "source": [
    "Since the sample size is greater than 30 it is considered large.\n",
    "\n",
    "The independence of the observations is a bit more complicated question to answer. In order for the observations to be independent, they would have to be random samples from a large population. The source of this dataset indicates that this data is a reproduction of the originally collected data. \n",
    "\n",
    ">These data are derived from a dataset presented in Mackowiak, P. A.,\n",
    ">Wasserman, S. S., and Levine, M. M.  (1992), \"A Critical Appraisal of\n",
    ">98.6 Degrees F, the Upper Limit of the Normal Body Temperature, and\n",
    ">Other Legacies of Carl Reinhold August Wunderlich,\" _Journal of the\n",
    ">American Medical Association_, 268, 1578-1580.  Data were constructed\n",
    ">to match as closely as possible the histograms and summary statistics\n",
    ">presented in that article.\n",
    "\n",
    "The original dataset was sourced as follows:\n",
    "\n",
    ">DESIGN:\n",
    ">    Descriptive analysis of baseline oral temperature data from volunteers participating in\n",
    ">    Shigella vaccine trials conducted at the University of Maryland Center for Vaccine \n",
    ">    Development, Baltimore.\n",
    "\n",
    ">SETTING:\n",
    ">    Inpatient clinical research unit.\n",
    "\n",
    ">PARTICIPANTS:\n",
    ">    One hundred forty-eight healthy men and women aged 18 through 40 years.\n",
    "\n",
    ">MAIN MEASUREMENTS:\n",
    ">    Oral temperatures were measured one to four times daily for 3 consecutive days using an electronic digital thermometer\n",
    "\n",
    "Considering that each observation is from a separate individual, and although the individuals are from the same geographic region and are volunteers in vaccine trials, that group is random enough to be considered independent.\n",
    "\n",
    "It's also important that the individuals are healthy, as indicated by the study, this is true.\n",
    "\n",
    "<br>\n",
    "<br>\n",
    "<br>"
   ]
  },
  {
   "cell_type": "markdown",
   "metadata": {},
   "source": [
    "# Is the true population mean really 98.6 degrees F? "
   ]
  },
  {
   "cell_type": "markdown",
   "metadata": {},
   "source": [
    "Lets assume the null hypothesis is true, and that hypothesis is that the population mean is $98.6^{\\circ}F$\n",
    "\n",
    "$H_{0}: \\mu = 98.6$\n",
    "\n",
    "With that assumption we will try and find sufficient evidence to reject that hypothesis granting the alternate hypothesis, truth. The alternate hypothesis is that the population mean does not equal $98.6^{\\circ}F$\n",
    "\n",
    "$H_{a}: \\mu \\not= 98.6$\n",
    "\n",
    "We will use a two-tailed $Z$ statistic since the sample size is large enough to use a $Z$ statistic and we do not care if the true mean is below or above 98.6, just that it is not 98.6\n",
    "\n",
    "We will accept a significance level of 5% to reject this hypothesis."
   ]
  },
  {
   "cell_type": "code",
   "execution_count": 11,
   "metadata": {
    "collapsed": false
   },
   "outputs": [
    {
     "data": {
      "text/plain": [
       "98.24923076923078"
      ]
     },
     "execution_count": 11,
     "metadata": {},
     "output_type": "execute_result"
    }
   ],
   "source": [
    "df.temperature.mean()"
   ]
  },
  {
   "cell_type": "code",
   "execution_count": 35,
   "metadata": {
    "collapsed": false
   },
   "outputs": [
    {
     "data": {
      "text/plain": [
       "-0.35076923076921673"
      ]
     },
     "execution_count": 35,
     "metadata": {},
     "output_type": "execute_result"
    }
   ],
   "source": [
    "# difference of means\n",
    "df.temperature.mean() - 98.6"
   ]
  },
  {
   "cell_type": "markdown",
   "metadata": {},
   "source": [
    "The sample mean is $\\approx 98.25$ and the difference of our hypothesis and our sample mean is $\\approx -0.35$"
   ]
  },
  {
   "cell_type": "markdown",
   "metadata": {},
   "source": [
    "We don't know the population standard deviation, but we can use our sample standard deviation as an estimate. And what we really want to know is the standard deviation of our sample mean, in order to get that we divide our sample standard deviation by the square root of the sample size.\n",
    "\n",
    "$\\sigma \\approx \\frac{S}{\\sqrt{n}}$ "
   ]
  },
  {
   "cell_type": "code",
   "execution_count": 40,
   "metadata": {
    "collapsed": false
   },
   "outputs": [
    {
     "data": {
      "text/plain": [
       "0.06430441683789101"
      ]
     },
     "execution_count": 40,
     "metadata": {},
     "output_type": "execute_result"
    }
   ],
   "source": [
    "pop_std_approx = df.temperature.std() / math.sqrt(len(df.temperature))\n",
    "pop_std_approx"
   ]
  },
  {
   "cell_type": "markdown",
   "metadata": {},
   "source": [
    "Now in order to find out how significant the difference of our sample and the hypothesized mean is, we can calculate a z-score which tells us how many standard deviations away from the mean our difference is. This can be translated into a p-value which will tell us how likely our result is given that the null hypothesis is true.\n",
    "\n",
    "To find the Z-score we subtract our population mean by the sample mean and divide by our approximation of the population standard deviation.\n",
    "\n",
    "$Z = \\frac{\\bar x - \\mu}{\\sigma}$"
   ]
  },
  {
   "cell_type": "code",
   "execution_count": 36,
   "metadata": {
    "collapsed": false
   },
   "outputs": [
    {
     "data": {
      "text/plain": [
       "-5.454823292364079"
      ]
     },
     "execution_count": 36,
     "metadata": {},
     "output_type": "execute_result"
    }
   ],
   "source": [
    "z = (df.temperature.mean() - 98.6) / pop_std_approx\n",
    "z"
   ]
  },
  {
   "cell_type": "markdown",
   "metadata": {},
   "source": [
    "Since our critical Z-value for a 5% significance threshold is 1.95, this is more than sufficient evidence to reject the null hypothesis.\n",
    "\n",
    "To find our critical Z-value, we can use the percent-point function. Given a probability, the percent-point function will tell us what the value is in that distrubition at which the probability is less than or equal to the value provided.\n",
    "\n",
    "In other words, if we give it .025 for a normal distribution it will return the number of standard deviations away from the mean at which 2.5% of the distribution is at or below. \n",
    "\n",
    "Since we are doing a two-tailed test we need our significance value divided by two to cover both sides of the distribution, which is why we want the Z-score for 2.5%."
   ]
  },
  {
   "cell_type": "code",
   "execution_count": 28,
   "metadata": {
    "collapsed": false
   },
   "outputs": [
    {
     "data": {
      "text/plain": [
       "1.9599639845400545"
      ]
     },
     "execution_count": 28,
     "metadata": {},
     "output_type": "execute_result"
    }
   ],
   "source": [
    "abs(stats.norm.ppf(.025))"
   ]
  },
  {
   "cell_type": "markdown",
   "metadata": {},
   "source": [
    "We can also get the p-value for our Z-score above by using the cumulative distribution function over the normal distribution. \n",
    "\n",
    "This function will tell us the cumulative area under the curve at a given point in the distribution. So provided a Z-score it will give us the probability of a value falling at or below that point.\n",
    "\n",
    "To get a two-tailed p-value for this we need the cdf value for the absolute value of our Z-score and we need to subtract from it the cdf value of our Z-score. Then we need to subtract that value from one, since what the cdf value tells us is what is at or below the given score and we want to know what's above it."
   ]
  },
  {
   "cell_type": "code",
   "execution_count": 39,
   "metadata": {
    "collapsed": false
   },
   "outputs": [
    {
     "data": {
      "text/plain": [
       "4.9021570136531523e-08"
      ]
     },
     "execution_count": 39,
     "metadata": {},
     "output_type": "execute_result"
    }
   ],
   "source": [
    "1 - (stats.norm.cdf(abs(z)) - stats.norm.cdf(z))"
   ]
  },
  {
   "cell_type": "markdown",
   "metadata": {},
   "source": [
    "So the chance that we found this mean due to random chance given that the null hypothesis is true is less than .000005%"
   ]
  },
  {
   "cell_type": "markdown",
   "metadata": {},
   "source": [
    "It is appropriate here to use the Z-test because the distribution of data is approximately normal, we have a sufficiently large sample size, and the observations are independent. Thus meeting the requirements of the central limit theorem.\n",
    "\n",
    "We can do a t-test for this data as well, though the result will indicate a larger p-value than the z-test becuase the t distribution has 'fatter' tails, meaning the probability of extreme values is larger than the normal distribution. \n",
    "\n",
    "With that, given we have such a small p-value, we will still reject the null hypothesis with a t-test."
   ]
  },
  {
   "cell_type": "code",
   "execution_count": 34,
   "metadata": {
    "collapsed": false
   },
   "outputs": [
    {
     "data": {
      "text/plain": [
       "Ttest_1sampResult(statistic=-5.4548232923645195, pvalue=2.4106320415561276e-07)"
      ]
     },
     "execution_count": 34,
     "metadata": {},
     "output_type": "execute_result"
    }
   ],
   "source": [
    "stats.ttest_1samp(df.temperature, 98.6)"
   ]
  },
  {
   "cell_type": "markdown",
   "metadata": {},
   "source": [
    "So our t-statistic is -5.45, with a p-value of $\\approx 2.41*10^{-7}$\n",
    "\n",
    "Which tells us that there is less than a .000024% chance of finding our sample mean if the null hypothesis is true under the t-distribution. Which again is definitely significant enough to reject the null.\n",
    "<br>\n",
    "<br>\n",
    "<br>"
   ]
  },
  {
   "cell_type": "markdown",
   "metadata": {},
   "source": [
    "# At what temperature should we consider someone's temperature to be \"abnormal\"? "
   ]
  },
  {
   "cell_type": "markdown",
   "metadata": {},
   "source": [
    "We'll consider any body temperature that is more than three standard deviations away from the mean as *abnormal*. Our best estimate of the population standard deviation is $\\approx 0.064$.\n",
    "\n",
    "We choose two standard deviations because under the normal distribution this encompasses 99% of the population.\n",
    "\n",
    "So for body temperature our confidence interval of where an average person's body temperature lies within is:\n",
    "\n",
    "$\\mu \\pm 3*\\sigma$\n",
    "\n",
    "$\\approx 98.25 \\pm 3*0.064$\n",
    "\n",
    "$ = [98.05, 98.44]$\n",
    "\n",
    "So if a person's temperature is above $98.44^{\\circ}F$ or below $98.05^{\\circ}F$ then we will consider it abnormal.\n",
    "\n",
    "<br>\n",
    "<br>"
   ]
  },
  {
   "cell_type": "markdown",
   "metadata": {},
   "source": [
    "# Is there a significant difference between males and females in normal temperature? "
   ]
  },
  {
   "cell_type": "code",
   "execution_count": 52,
   "metadata": {
    "collapsed": false
   },
   "outputs": [
    {
     "data": {
      "text/plain": [
       "65"
      ]
     },
     "execution_count": 52,
     "metadata": {},
     "output_type": "execute_result"
    }
   ],
   "source": [
    "men = df[df.gender == 'M']\n",
    "len(men)"
   ]
  },
  {
   "cell_type": "code",
   "execution_count": 53,
   "metadata": {
    "collapsed": false
   },
   "outputs": [
    {
     "data": {
      "text/plain": [
       "65"
      ]
     },
     "execution_count": 53,
     "metadata": {},
     "output_type": "execute_result"
    }
   ],
   "source": [
    "women = df[df.gender == 'F']\n",
    "len(women)"
   ]
  },
  {
   "cell_type": "code",
   "execution_count": 54,
   "metadata": {
    "collapsed": false
   },
   "outputs": [
    {
     "data": {
      "text/plain": [
       "98.1046153846154"
      ]
     },
     "execution_count": 54,
     "metadata": {},
     "output_type": "execute_result"
    }
   ],
   "source": [
    "men.temperature.mean()"
   ]
  },
  {
   "cell_type": "code",
   "execution_count": 55,
   "metadata": {
    "collapsed": false
   },
   "outputs": [
    {
     "data": {
      "text/plain": [
       "98.39384615384613"
      ]
     },
     "execution_count": 55,
     "metadata": {},
     "output_type": "execute_result"
    }
   ],
   "source": [
    "women.temperature.mean()"
   ]
  },
  {
   "cell_type": "code",
   "execution_count": 89,
   "metadata": {
    "collapsed": false
   },
   "outputs": [
    {
     "data": {
      "image/png": "[encoded data removed]",
      "text/plain": [
       "<matplotlib.figure.Figure at 0x11a4d5450>"
      ]
     },
     "metadata": {},
     "output_type": "display_data"
    }
   ],
   "source": [
    "sns.distplot(men.temperature)\n",
    "None"
   ]
  },
  {
   "cell_type": "code",
   "execution_count": 88,
   "metadata": {
    "collapsed": false
   },
   "outputs": [
    {
     "data": {
      "image/png": "[encoded data removed]",
      "text/plain": [
       "<matplotlib.figure.Figure at 0x11a5aa890>"
      ]
     },
     "metadata": {},
     "output_type": "display_data"
    }
   ],
   "source": [
    "sns.distplot(women.temperature)\n",
    "None"
   ]
  },
  {
   "cell_type": "markdown",
   "metadata": {},
   "source": [
    "The sample size of both samples is large, and the distributions are approximately normal. But we do not know the population standard deviation so we will do a t-test. We will assume the null hypothesis of both means being equal as true.\n",
    "\n",
    "$H_{0}: \\mu_{0} - \\mu_{1} = 0$\n",
    "\n",
    "$H_{a}: \\mu_{0} - \\mu_{1} \\ne 0$"
   ]
  },
  {
   "cell_type": "code",
   "execution_count": 67,
   "metadata": {
    "collapsed": false
   },
   "outputs": [
    {
     "data": {
      "text/plain": [
       "Ttest_indResult(statistic=-2.2854345381656103, pvalue=0.023931883122395609)"
      ]
     },
     "execution_count": 67,
     "metadata": {},
     "output_type": "execute_result"
    }
   ],
   "source": [
    "stats.ttest_ind(men.temperature, women.temperature)"
   ]
  },
  {
   "cell_type": "markdown",
   "metadata": {},
   "source": [
    "With a p-value of 0.024 this is telling us that we have less than a 2.4% chance of a difference in average body temperatures between males and females showing up on average.\n",
    "<br>\n",
    "<br>\n",
    "<br>"
   ]
  },
  {
   "cell_type": "markdown",
   "metadata": {},
   "source": [
    "# Are women's bodies warmer than men's?"
   ]
  },
  {
   "cell_type": "markdown",
   "metadata": {},
   "source": [
    "There is a slight, yet significant difference between the body temperatures of men and women when sample data was tested."
   ]
  },
  {
   "cell_type": "code",
   "execution_count": 103,
   "metadata": {
    "collapsed": false
   },
   "outputs": [
    {
     "data": {
      "image/png": "[encoded data removed]",
      "text/plain": [
       "<matplotlib.figure.Figure at 0x11b3aedd0>"
      ]
     },
     "metadata": {},
     "output_type": "display_data"
    }
   ],
   "source": [
    "ax = df.groupby('gender').mean()['temperature'].plot(kind='bar', title='Average Body Temperatures of Men and Women')\n",
    "ax.set_ylim([0,110])\n",
    "ax.set_ylabel('Average Body Temperature')\n",
    "None"
   ]
  },
  {
   "cell_type": "markdown",
   "metadata": {},
   "source": [
    "A statistical test of significance indicated that the difference between average recorded body temperatures for men and women is significant enough to be publishable. However, as we can see, the size of this effect is very small. \n",
    "\n",
    "In fact, the actual temperature difference between these two samples is 0.28 degrees Ferenheit.\n",
    "\n",
    "So while there may be a statistically significant difference, with an effect size so small, would you consider the difference significant?"
   ]
  }
 ],
 "metadata": {
  "anaconda-cloud": {},
  "kernelspec": {
   "display_name": "Python [conda env:py27]",
   "language": "python",
   "name": "conda-env-py27-py"
  },
  "language_info": {
   "codemirror_mode": {
    "name": "ipython",
    "version": 2
   },
   "file_extension": ".py",
   "mimetype": "text/x-python",
   "name": "python",
   "nbconvert_exporter": "python",
   "pygments_lexer": "ipython2",
   "version": "2.7.12"
  }
 },
 "nbformat": 4,
 "nbformat_minor": 0
}
